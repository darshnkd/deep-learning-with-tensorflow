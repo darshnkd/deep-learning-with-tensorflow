{
  "nbformat": 4,
  "nbformat_minor": 0,
  "metadata": {
    "colab": {
      "provenance": [],
      "authorship_tag": "ABX9TyNrzyuKFxPr+kFKZM/fDwDD",
      "include_colab_link": true
    },
    "kernelspec": {
      "name": "python3",
      "display_name": "Python 3"
    },
    "language_info": {
      "name": "python"
    }
  },
  "cells": [
    {
      "cell_type": "markdown",
      "metadata": {
        "id": "view-in-github",
        "colab_type": "text"
      },
      "source": [
        "<a href=\"https://colab.research.google.com/github/darshnkd/deep-learning-with-tensorflow/blob/main/01_neural_network_regression_with_tensorflow.ipynb\" target=\"_parent\"><img src=\"https://colab.research.google.com/assets/colab-badge.svg\" alt=\"Open In Colab\"/></a>"
      ]
    },
    {
      "cell_type": "markdown",
      "source": [
        "## Introduction to Regression with Neural Network in Tensorflow\n",
        "\n",
        "Simple defination: predicting a numerical variable based on some other combination of variable, evan shorter .... predicting a number."
      ],
      "metadata": {
        "id": "lkGSsIfmTUyM"
      }
    },
    {
      "cell_type": "code",
      "execution_count": null,
      "metadata": {
        "colab": {
          "base_uri": "https://localhost:8080/"
        },
        "id": "_q_JheO4RDAa",
        "outputId": "5f1ed4e4-b521-4c8b-f649-e5c7c1f3aa5b"
      },
      "outputs": [
        {
          "output_type": "stream",
          "name": "stdout",
          "text": [
            "2.15.0\n"
          ]
        }
      ],
      "source": [
        "# import tensorflow\n",
        "import tensorflow as tf\n",
        "print(tf.__version__)"
      ]
    },
    {
      "cell_type": "markdown",
      "source": [
        "### Creating data to view and fit"
      ],
      "metadata": {
        "id": "v-SqqbsLTcMr"
      }
    },
    {
      "cell_type": "code",
      "source": [
        "import numpy as np\n",
        "import matplotlib.pyplot as plt\n",
        "\n",
        "# create feature\n",
        "x = np.array([-7.,-4.,-1.,2.,5.,8.,11.,14.])\n",
        "\n",
        "# create label\n",
        "y = np.array([3.,6.,9.,12.,15.,18.,21.,24.])\n",
        "\n",
        "plt.figure(figsize = (4,4))\n",
        "\n",
        "# visualize it\n",
        "plt.scatter(x,y)"
      ],
      "metadata": {
        "colab": {
          "base_uri": "https://localhost:8080/",
          "height": 391
        },
        "id": "YnA3_8_-RGjl",
        "outputId": "261e8261-ba37-4c67-c879-d092ae0c3202"
      },
      "execution_count": null,
      "outputs": [
        {
          "output_type": "execute_result",
          "data": {
            "text/plain": [
              "<matplotlib.collections.PathCollection at 0x78029556d210>"
            ]
          },
          "metadata": {},
          "execution_count": 2
        },
        {
          "output_type": "display_data",
          "data": {
            "text/plain": [
              "<Figure size 400x400 with 1 Axes>"
            ],
            "image/png": "[encoded data removed]"
          },
          "metadata": {}
        }
      ]
    },
    {
      "cell_type": "code",
      "source": [
        "y == x + 10"
      ],
      "metadata": {
        "colab": {
          "base_uri": "https://localhost:8080/"
        },
        "id": "yg4rNKU1RLom",
        "outputId": "1b406ba0-66a2-4b7f-8b80-494e8f1f8521"
      },
      "execution_count": null,
      "outputs": [
        {
          "output_type": "execute_result",
          "data": {
            "text/plain": [
              "array([ True,  True,  True,  True,  True,  True,  True,  True])"
            ]
          },
          "metadata": {},
          "execution_count": 3
        }
      ]
    },
    {
      "cell_type": "markdown",
      "source": [
        "### Input and output shapes"
      ],
      "metadata": {
        "id": "uy1XYBS4TiYO"
      }
    },
    {
      "cell_type": "code",
      "source": [
        "input_shape = x[0].shape\n",
        "output_shape = y[0].shape\n",
        "\n",
        "input_shape, output_shape"
      ],
      "metadata": {
        "colab": {
          "base_uri": "https://localhost:8080/"
        },
        "id": "ngAiAF-DRSEH",
        "outputId": "127222b6-f78d-4ece-8397-20222f8d0290"
      },
      "execution_count": null,
      "outputs": [
        {
          "output_type": "execute_result",
          "data": {
            "text/plain": [
              "((), ())"
            ]
          },
          "metadata": {},
          "execution_count": 4
        }
      ]
    },
    {
      "cell_type": "code",
      "source": [
        "x[0].ndim # ok this is because it's just number of list which is scalar"
      ],
      "metadata": {
        "colab": {
          "base_uri": "https://localhost:8080/"
        },
        "id": "nIo4uwoARVdb",
        "outputId": "5ba0091f-429d-4199-d64a-1f3c848b0c0a"
      },
      "execution_count": null,
      "outputs": [
        {
          "output_type": "execute_result",
          "data": {
            "text/plain": [
              "0"
            ]
          },
          "metadata": {},
          "execution_count": 5
        }
      ]
    },
    {
      "cell_type": "code",
      "source": [
        "# Turn our Numpy array in to tensor\n",
        "X = tf.cast(tf.constant(x) , dtype=tf.float32)\n",
        "Y = tf.cast(tf.constant(y) , dtype = tf.float32)\n",
        "\n",
        "X , Y"
      ],
      "metadata": {
        "colab": {
          "base_uri": "https://localhost:8080/"
        },
        "id": "VjNtKO-SRYjX",
        "outputId": "4387ebab-9ad6-40ef-f075-41ef704b6d41"
      },
      "execution_count": null,
      "outputs": [
        {
          "output_type": "execute_result",
          "data": {
            "text/plain": [
              "(<tf.Tensor: shape=(8,), dtype=float32, numpy=array([-7., -4., -1.,  2.,  5.,  8., 11., 14.], dtype=float32)>,\n",
              " <tf.Tensor: shape=(8,), dtype=float32, numpy=array([ 3.,  6.,  9., 12., 15., 18., 21., 24.], dtype=float32)>)"
            ]
          },
          "metadata": {},
          "execution_count": 6
        }
      ]
    },
    {
      "cell_type": "code",
      "source": [
        "Y.ndim"
      ],
      "metadata": {
        "colab": {
          "base_uri": "https://localhost:8080/"
        },
        "id": "tUwUaoPGRehj",
        "outputId": "cc52877c-a784-41b3-88ac-cab2be576b18"
      },
      "execution_count": null,
      "outputs": [
        {
          "output_type": "execute_result",
          "data": {
            "text/plain": [
              "1"
            ]
          },
          "metadata": {},
          "execution_count": 7
        }
      ]
    },
    {
      "cell_type": "code",
      "source": [
        "input_shape = X[0].shape\n",
        "output_shape = Y[0].shape\n",
        "\n",
        "input_shape, output_shape"
      ],
      "metadata": {
        "colab": {
          "base_uri": "https://localhost:8080/"
        },
        "id": "CIjPSIRGRjRZ",
        "outputId": "ef7cda90-c080-49f9-8f91-bad68dc5af53"
      },
      "execution_count": null,
      "outputs": [
        {
          "output_type": "execute_result",
          "data": {
            "text/plain": [
              "(TensorShape([]), TensorShape([]))"
            ]
          },
          "metadata": {},
          "execution_count": 8
        }
      ]
    },
    {
      "cell_type": "code",
      "source": [
        "# reshape A to be 2D array\n",
        "X = tf.reshape(X,(-1 ,1))"
      ],
      "metadata": {
        "id": "kq4VKerXSBYS"
      },
      "execution_count": null,
      "outputs": []
    },
    {
      "cell_type": "markdown",
      "source": [
        "### Steps in modelling with tensorflow\n",
        "\n",
        "1. **creating a model** - define the input and output layers , as well as hidden layers of deep learning model.\n",
        "\n",
        "2. **compiling a model** - define the loss function (in other words, the function which tells our model how wrong it is )\n",
        "and the optimizer (tells our model how to improve the patterns its learning ) and evalution matrics (what we. can use to interpret the performance of our model).\n",
        "\n",
        "3. **Fitting a model** - letting the model try to find patterns between x & y (features and labels)."
      ],
      "metadata": {
        "id": "lf5ir8whTpmv"
      }
    },
    {
      "cell_type": "code",
      "source": [
        "# set random seed\n",
        "tf.random.set_seed(42)\n",
        "\n",
        "# 1. create a model using sequential API\n",
        "model = tf.keras.Sequential(\n",
        "    [tf.keras.layers.Dense(1)]\n",
        "    )\n",
        "\n",
        "# 2. compile the model\n",
        "model.compile(\n",
        "    loss = tf.keras.losses.mae,\n",
        "    optimizer = tf.keras.optimizers.SGD(),\n",
        "    metrics = [\"mae\"]\n",
        ")\n",
        "\n",
        "# Fit the model\n",
        "model.fit(X,Y,epochs=5)"
      ],
      "metadata": {
        "colab": {
          "base_uri": "https://localhost:8080/"
        },
        "id": "HAbCux8nRpR9",
        "outputId": "9b9788c3-8d3b-419f-83c8-34263426dbcb"
      },
      "execution_count": null,
      "outputs": [
        {
          "output_type": "stream",
          "name": "stdout",
          "text": [
            "Epoch 1/5\n",
            "1/1 [==============================] - 1s 513ms/step - loss: 10.8433 - mae: 10.8433\n",
            "Epoch 2/5\n",
            "1/1 [==============================] - 0s 10ms/step - loss: 10.7108 - mae: 10.7108\n",
            "Epoch 3/5\n",
            "1/1 [==============================] - 0s 13ms/step - loss: 10.5783 - mae: 10.5783\n",
            "Epoch 4/5\n",
            "1/1 [==============================] - 0s 10ms/step - loss: 10.4458 - mae: 10.4458\n",
            "Epoch 5/5\n",
            "1/1 [==============================] - 0s 10ms/step - loss: 10.3133 - mae: 10.3133\n"
          ]
        },
        {
          "output_type": "execute_result",
          "data": {
            "text/plain": [
              "<keras.src.callbacks.History at 0x780290219a20>"
            ]
          },
          "metadata": {},
          "execution_count": 10
        }
      ]
    },
    {
      "cell_type": "code",
      "source": [
        "# check out A and B\n",
        "X ,Y"
      ],
      "metadata": {
        "colab": {
          "base_uri": "https://localhost:8080/"
        },
        "id": "Dx2Kpx6YR0b0",
        "outputId": "16aebb3a-8901-4322-d7a3-f62cb4c75365"
      },
      "execution_count": null,
      "outputs": [
        {
          "output_type": "execute_result",
          "data": {
            "text/plain": [
              "(<tf.Tensor: shape=(8, 1), dtype=float32, numpy=\n",
              " array([[-7.],\n",
              "        [-4.],\n",
              "        [-1.],\n",
              "        [ 2.],\n",
              "        [ 5.],\n",
              "        [ 8.],\n",
              "        [11.],\n",
              "        [14.]], dtype=float32)>,\n",
              " <tf.Tensor: shape=(8,), dtype=float32, numpy=array([ 3.,  6.,  9., 12., 15., 18., 21., 24.], dtype=float32)>)"
            ]
          },
          "metadata": {},
          "execution_count": 11
        }
      ]
    },
    {
      "cell_type": "code",
      "source": [
        "# Try and make prediction using our model\n",
        "y_pred = model.predict([17.0])\n",
        "y_pred"
      ],
      "metadata": {
        "colab": {
          "base_uri": "https://localhost:8080/"
        },
        "id": "w154wiKMSPbR",
        "outputId": "4fe4eafe-4954-4d33-df5d-5813e6399c91"
      },
      "execution_count": null,
      "outputs": [
        {
          "output_type": "stream",
          "name": "stdout",
          "text": [
            "1/1 [==============================] - 0s 95ms/step\n"
          ]
        },
        {
          "output_type": "execute_result",
          "data": {
            "text/plain": [
              "array([[15.928772]], dtype=float32)"
            ]
          },
          "metadata": {},
          "execution_count": 12
        }
      ]
    },
    {
      "cell_type": "markdown",
      "source": [
        "### **Improve our model**\n",
        "\n",
        "we can improve our model, by altering the steps we took to create a model.\n",
        "\n",
        "1.**Creating a model**  - here we might add more layers, increase the number of hidden units (all called nurons) within each of the hidden layers, change the activation function of each layer.\n",
        "\n",
        "2. **compiling a model** - here we might change optimization function or perhaps the learning rate of optimization function.\n",
        "\n",
        "3. **fitting the model** - here we might fit a model for more **epochs**(leave the training for longer ) or on more data (give the model more example to learn)."
      ],
      "metadata": {
        "id": "DP8lJWjLTxee"
      }
    },
    {
      "cell_type": "code",
      "source": [
        "# Let's rebuild the model to improve\n",
        "# 1. create model\n",
        "model = tf.keras.Sequential(\n",
        "    [tf.keras.layers.Dense(1)]\n",
        ")\n",
        "\n",
        "# 2. compile the model\n",
        "model.compile(\n",
        "    loss = tf.keras.losses.mae,\n",
        "    optimizer = tf.keras.optimizers.SGD(),\n",
        "    metrics = [\"mae\"]\n",
        ")\n",
        "\n",
        "# 3. fit the model\n",
        "model.fit(X , Y , epochs=100)"
      ],
      "metadata": {
        "colab": {
          "base_uri": "https://localhost:8080/"
        },
        "id": "arI0fXfvSa84",
        "outputId": "dbfaca7c-0569-4811-bd28-f29e9b84da0c"
      },
      "execution_count": null,
      "outputs": [
        {
          "output_type": "stream",
          "name": "stdout",
          "text": [
            "Epoch 1/100\n",
            "1/1 [==============================] - 0s 348ms/step - loss: 7.9061 - mae: 7.9061\n",
            "Epoch 2/100\n",
            "1/1 [==============================] - 0s 15ms/step - loss: 7.7736 - mae: 7.7736\n",
            "Epoch 3/100\n",
            "1/1 [==============================] - 0s 17ms/step - loss: 7.6411 - mae: 7.6411\n",
            "Epoch 4/100\n",
            "1/1 [==============================] - 0s 12ms/step - loss: 7.5086 - mae: 7.5086\n",
            "Epoch 5/100\n",
            "1/1 [==============================] - 0s 11ms/step - loss: 7.4700 - mae: 7.4700\n",
            "Epoch 6/100\n",
            "1/1 [==============================] - 0s 10ms/step - loss: 7.4644 - mae: 7.4644\n",
            "Epoch 7/100\n",
            "1/1 [==============================] - 0s 11ms/step - loss: 7.4587 - mae: 7.4587\n",
            "Epoch 8/100\n",
            "1/1 [==============================] - 0s 12ms/step - loss: 7.4531 - mae: 7.4531\n",
            "Epoch 9/100\n",
            "1/1 [==============================] - 0s 12ms/step - loss: 7.4475 - mae: 7.4475\n",
            "Epoch 10/100\n",
            "1/1 [==============================] - 0s 10ms/step - loss: 7.4419 - mae: 7.4419\n",
            "Epoch 11/100\n",
            "1/1 [==============================] - 0s 12ms/step - loss: 7.4363 - mae: 7.4363\n",
            "Epoch 12/100\n",
            "1/1 [==============================] - 0s 11ms/step - loss: 7.4306 - mae: 7.4306\n",
            "Epoch 13/100\n",
            "1/1 [==============================] - 0s 12ms/step - loss: 7.4250 - mae: 7.4250\n",
            "Epoch 14/100\n",
            "1/1 [==============================] - 0s 11ms/step - loss: 7.4194 - mae: 7.4194\n",
            "Epoch 15/100\n",
            "1/1 [==============================] - 0s 13ms/step - loss: 7.4137 - mae: 7.4137\n",
            "Epoch 16/100\n",
            "1/1 [==============================] - 0s 12ms/step - loss: 7.4081 - mae: 7.4081\n",
            "Epoch 17/100\n",
            "1/1 [==============================] - 0s 10ms/step - loss: 7.4025 - mae: 7.4025\n",
            "Epoch 18/100\n",
            "1/1 [==============================] - 0s 13ms/step - loss: 7.3969 - mae: 7.3969\n",
            "Epoch 19/100\n",
            "1/1 [==============================] - 0s 13ms/step - loss: 7.3913 - mae: 7.3913\n",
            "Epoch 20/100\n",
            "1/1 [==============================] - 0s 20ms/step - loss: 7.3856 - mae: 7.3856\n",
            "Epoch 21/100\n",
            "1/1 [==============================] - 0s 15ms/step - loss: 7.3800 - mae: 7.3800\n",
            "Epoch 22/100\n",
            "1/1 [==============================] - 0s 22ms/step - loss: 7.3744 - mae: 7.3744\n",
            "Epoch 23/100\n",
            "1/1 [==============================] - 0s 25ms/step - loss: 7.3688 - mae: 7.3688\n",
            "Epoch 24/100\n",
            "1/1 [==============================] - 0s 11ms/step - loss: 7.3631 - mae: 7.3631\n",
            "Epoch 25/100\n",
            "1/1 [==============================] - 0s 16ms/step - loss: 7.3575 - mae: 7.3575\n",
            "Epoch 26/100\n",
            "1/1 [==============================] - 0s 16ms/step - loss: 7.3519 - mae: 7.3519\n",
            "Epoch 27/100\n",
            "1/1 [==============================] - 0s 16ms/step - loss: 7.3462 - mae: 7.3462\n",
            "Epoch 28/100\n",
            "1/1 [==============================] - 0s 14ms/step - loss: 7.3406 - mae: 7.3406\n",
            "Epoch 29/100\n",
            "1/1 [==============================] - 0s 16ms/step - loss: 7.3350 - mae: 7.3350\n",
            "Epoch 30/100\n",
            "1/1 [==============================] - 0s 13ms/step - loss: 7.3294 - mae: 7.3294\n",
            "Epoch 31/100\n",
            "1/1 [==============================] - 0s 15ms/step - loss: 7.3238 - mae: 7.3238\n",
            "Epoch 32/100\n",
            "1/1 [==============================] - 0s 13ms/step - loss: 7.3181 - mae: 7.3181\n",
            "Epoch 33/100\n",
            "1/1 [==============================] - 0s 18ms/step - loss: 7.3125 - mae: 7.3125\n",
            "Epoch 34/100\n",
            "1/1 [==============================] - 0s 15ms/step - loss: 7.3069 - mae: 7.3069\n",
            "Epoch 35/100\n",
            "1/1 [==============================] - 0s 14ms/step - loss: 7.3012 - mae: 7.3012\n",
            "Epoch 36/100\n",
            "1/1 [==============================] - 0s 18ms/step - loss: 7.2956 - mae: 7.2956\n",
            "Epoch 37/100\n",
            "1/1 [==============================] - 0s 18ms/step - loss: 7.2900 - mae: 7.2900\n",
            "Epoch 38/100\n",
            "1/1 [==============================] - 0s 17ms/step - loss: 7.2844 - mae: 7.2844\n",
            "Epoch 39/100\n",
            "1/1 [==============================] - 0s 15ms/step - loss: 7.2788 - mae: 7.2788\n",
            "Epoch 40/100\n",
            "1/1 [==============================] - 0s 16ms/step - loss: 7.2731 - mae: 7.2731\n",
            "Epoch 41/100\n",
            "1/1 [==============================] - 0s 19ms/step - loss: 7.2675 - mae: 7.2675\n",
            "Epoch 42/100\n",
            "1/1 [==============================] - 0s 22ms/step - loss: 7.2619 - mae: 7.2619\n",
            "Epoch 43/100\n",
            "1/1 [==============================] - 0s 18ms/step - loss: 7.2563 - mae: 7.2563\n",
            "Epoch 44/100\n",
            "1/1 [==============================] - 0s 16ms/step - loss: 7.2506 - mae: 7.2506\n",
            "Epoch 45/100\n",
            "1/1 [==============================] - 0s 13ms/step - loss: 7.2450 - mae: 7.2450\n",
            "Epoch 46/100\n",
            "1/1 [==============================] - 0s 12ms/step - loss: 7.2394 - mae: 7.2394\n",
            "Epoch 47/100\n",
            "1/1 [==============================] - 0s 15ms/step - loss: 7.2337 - mae: 7.2337\n",
            "Epoch 48/100\n",
            "1/1 [==============================] - 0s 13ms/step - loss: 7.2281 - mae: 7.2281\n",
            "Epoch 49/100\n",
            "1/1 [==============================] - 0s 15ms/step - loss: 7.2225 - mae: 7.2225\n",
            "Epoch 50/100\n",
            "1/1 [==============================] - 0s 14ms/step - loss: 7.2169 - mae: 7.2169\n",
            "Epoch 51/100\n",
            "1/1 [==============================] - 0s 24ms/step - loss: 7.2113 - mae: 7.2113\n",
            "Epoch 52/100\n",
            "1/1 [==============================] - 0s 16ms/step - loss: 7.2056 - mae: 7.2056\n",
            "Epoch 53/100\n",
            "1/1 [==============================] - 0s 17ms/step - loss: 7.2000 - mae: 7.2000\n",
            "Epoch 54/100\n",
            "1/1 [==============================] - 0s 13ms/step - loss: 7.1944 - mae: 7.1944\n",
            "Epoch 55/100\n",
            "1/1 [==============================] - 0s 24ms/step - loss: 7.1888 - mae: 7.1888\n",
            "Epoch 56/100\n",
            "1/1 [==============================] - 0s 22ms/step - loss: 7.1831 - mae: 7.1831\n",
            "Epoch 57/100\n",
            "1/1 [==============================] - 0s 18ms/step - loss: 7.1775 - mae: 7.1775\n",
            "Epoch 58/100\n",
            "1/1 [==============================] - 0s 19ms/step - loss: 7.1719 - mae: 7.1719\n",
            "Epoch 59/100\n",
            "1/1 [==============================] - 0s 15ms/step - loss: 7.1663 - mae: 7.1663\n",
            "Epoch 60/100\n",
            "1/1 [==============================] - 0s 13ms/step - loss: 7.1606 - mae: 7.1606\n",
            "Epoch 61/100\n",
            "1/1 [==============================] - 0s 18ms/step - loss: 7.1550 - mae: 7.1550\n",
            "Epoch 62/100\n",
            "1/1 [==============================] - 0s 18ms/step - loss: 7.1494 - mae: 7.1494\n",
            "Epoch 63/100\n",
            "1/1 [==============================] - 0s 20ms/step - loss: 7.1438 - mae: 7.1438\n",
            "Epoch 64/100\n",
            "1/1 [==============================] - 0s 22ms/step - loss: 7.1381 - mae: 7.1381\n",
            "Epoch 65/100\n",
            "1/1 [==============================] - 0s 16ms/step - loss: 7.1325 - mae: 7.1325\n",
            "Epoch 66/100\n",
            "1/1 [==============================] - 0s 17ms/step - loss: 7.1269 - mae: 7.1269\n",
            "Epoch 67/100\n",
            "1/1 [==============================] - 0s 19ms/step - loss: 7.1213 - mae: 7.1213\n",
            "Epoch 68/100\n",
            "1/1 [==============================] - 0s 18ms/step - loss: 7.1156 - mae: 7.1156\n",
            "Epoch 69/100\n",
            "1/1 [==============================] - 0s 19ms/step - loss: 7.1100 - mae: 7.1100\n",
            "Epoch 70/100\n",
            "1/1 [==============================] - 0s 19ms/step - loss: 7.1044 - mae: 7.1044\n",
            "Epoch 71/100\n",
            "1/1 [==============================] - 0s 19ms/step - loss: 7.0988 - mae: 7.0988\n",
            "Epoch 72/100\n",
            "1/1 [==============================] - 0s 20ms/step - loss: 7.0931 - mae: 7.0931\n",
            "Epoch 73/100\n",
            "1/1 [==============================] - 0s 20ms/step - loss: 7.0875 - mae: 7.0875\n",
            "Epoch 74/100\n",
            "1/1 [==============================] - 0s 20ms/step - loss: 7.0819 - mae: 7.0819\n",
            "Epoch 75/100\n",
            "1/1 [==============================] - 0s 12ms/step - loss: 7.0763 - mae: 7.0763\n",
            "Epoch 76/100\n",
            "1/1 [==============================] - 0s 16ms/step - loss: 7.0706 - mae: 7.0706\n",
            "Epoch 77/100\n",
            "1/1 [==============================] - 0s 18ms/step - loss: 7.0650 - mae: 7.0650\n",
            "Epoch 78/100\n",
            "1/1 [==============================] - 0s 17ms/step - loss: 7.0594 - mae: 7.0594\n",
            "Epoch 79/100\n",
            "1/1 [==============================] - 0s 30ms/step - loss: 7.0538 - mae: 7.0538\n",
            "Epoch 80/100\n",
            "1/1 [==============================] - 0s 18ms/step - loss: 7.0481 - mae: 7.0481\n",
            "Epoch 81/100\n",
            "1/1 [==============================] - 0s 19ms/step - loss: 7.0425 - mae: 7.0425\n",
            "Epoch 82/100\n",
            "1/1 [==============================] - 0s 18ms/step - loss: 7.0369 - mae: 7.0369\n",
            "Epoch 83/100\n",
            "1/1 [==============================] - 0s 21ms/step - loss: 7.0313 - mae: 7.0313\n",
            "Epoch 84/100\n",
            "1/1 [==============================] - 0s 20ms/step - loss: 7.0256 - mae: 7.0256\n",
            "Epoch 85/100\n",
            "1/1 [==============================] - 0s 15ms/step - loss: 7.0200 - mae: 7.0200\n",
            "Epoch 86/100\n",
            "1/1 [==============================] - 0s 17ms/step - loss: 7.0144 - mae: 7.0144\n",
            "Epoch 87/100\n",
            "1/1 [==============================] - 0s 17ms/step - loss: 7.0087 - mae: 7.0087\n",
            "Epoch 88/100\n",
            "1/1 [==============================] - 0s 21ms/step - loss: 7.0031 - mae: 7.0031\n",
            "Epoch 89/100\n",
            "1/1 [==============================] - 0s 15ms/step - loss: 6.9975 - mae: 6.9975\n",
            "Epoch 90/100\n",
            "1/1 [==============================] - 0s 19ms/step - loss: 6.9919 - mae: 6.9919\n",
            "Epoch 91/100\n",
            "1/1 [==============================] - 0s 16ms/step - loss: 6.9863 - mae: 6.9863\n",
            "Epoch 92/100\n",
            "1/1 [==============================] - 0s 15ms/step - loss: 6.9806 - mae: 6.9806\n",
            "Epoch 93/100\n",
            "1/1 [==============================] - 0s 20ms/step - loss: 6.9750 - mae: 6.9750\n",
            "Epoch 94/100\n",
            "1/1 [==============================] - 0s 18ms/step - loss: 6.9694 - mae: 6.9694\n",
            "Epoch 95/100\n",
            "1/1 [==============================] - 0s 13ms/step - loss: 6.9638 - mae: 6.9638\n",
            "Epoch 96/100\n",
            "1/1 [==============================] - 0s 15ms/step - loss: 6.9581 - mae: 6.9581\n",
            "Epoch 97/100\n",
            "1/1 [==============================] - 0s 18ms/step - loss: 6.9525 - mae: 6.9525\n",
            "Epoch 98/100\n",
            "1/1 [==============================] - 0s 18ms/step - loss: 6.9469 - mae: 6.9469\n",
            "Epoch 99/100\n",
            "1/1 [==============================] - 0s 19ms/step - loss: 6.9413 - mae: 6.9413\n",
            "Epoch 100/100\n",
            "1/1 [==============================] - 0s 15ms/step - loss: 6.9356 - mae: 6.9356\n"
          ]
        },
        {
          "output_type": "execute_result",
          "data": {
            "text/plain": [
              "<keras.src.callbacks.History at 0x780280f3c3a0>"
            ]
          },
          "metadata": {},
          "execution_count": 13
        }
      ]
    },
    {
      "cell_type": "code",
      "source": [
        "# let's remind our data\n",
        "X ,Y"
      ],
      "metadata": {
        "colab": {
          "base_uri": "https://localhost:8080/"
        },
        "id": "a4Kt0W0OSmfj",
        "outputId": "9326b9ab-507a-4791-a62a-28d744dff94f"
      },
      "execution_count": null,
      "outputs": [
        {
          "output_type": "execute_result",
          "data": {
            "text/plain": [
              "(<tf.Tensor: shape=(8, 1), dtype=float32, numpy=\n",
              " array([[-7.],\n",
              "        [-4.],\n",
              "        [-1.],\n",
              "        [ 2.],\n",
              "        [ 5.],\n",
              "        [ 8.],\n",
              "        [11.],\n",
              "        [14.]], dtype=float32)>,\n",
              " <tf.Tensor: shape=(8,), dtype=float32, numpy=array([ 3.,  6.,  9., 12., 15., 18., 21., 24.], dtype=float32)>)"
            ]
          },
          "metadata": {},
          "execution_count": 14
        }
      ]
    },
    {
      "cell_type": "code",
      "source": [
        "# Now see the our model is improved or not\n",
        "model.predict([17.0])"
      ],
      "metadata": {
        "colab": {
          "base_uri": "https://localhost:8080/"
        },
        "id": "-ZHe0ppIS4xl",
        "outputId": "d3c84c8c-abb0-4add-dc1a-6bda8b336d40"
      },
      "execution_count": null,
      "outputs": [
        {
          "output_type": "stream",
          "name": "stdout",
          "text": [
            "1/1 [==============================] - 0s 92ms/step\n"
          ]
        },
        {
          "output_type": "execute_result",
          "data": {
            "text/plain": [
              "array([[30.31037]], dtype=float32)"
            ]
          },
          "metadata": {},
          "execution_count": 15
        }
      ]
    },
    {
      "cell_type": "code",
      "source": [
        "# Let's make another change in our model to improve our model\n",
        "\n",
        "# 1. create the model (this time with an extra hidden layer with 100 hidden units)\n",
        "model = tf.keras.Sequential(\n",
        "    # [tf.keras.layers.Dense(100, activation=\"relu\"),\n",
        "    # [tf.keras.layers.Dense(50, activation=\"relu\"),  # increase or decrease no of layers\n",
        "    [tf.keras.layers.Dense(100, activation=None) ,     # change the activation function\n",
        "     tf.keras.layers.Dense(100, activation=None) ,\n",
        "     tf.keras.layers.Dense(100, activation=None) ,\n",
        "    tf.keras.layers.Dense(1)]\n",
        ")\n",
        "\n",
        "# compile the model\n",
        "model.compile(\n",
        "    loss = \"mae\",\n",
        "    # optimizer = tf.keras.optimizers.SGD(),\n",
        "    # optimizer = tf.keras.optimizers.Adam(),            # change the optimizer SGD --> Adam\n",
        "    optimizer = tf.keras.optimizers.Adam(lr = 0.1),    # change the learning rate\n",
        "    metrics = [\"mae\"]\n",
        ")\n",
        "\n",
        "# fit the model\n",
        "model.fit(X ,Y , epochs = 100)\n",
        "\n",
        "# Learning rate is most important for the improve the model"
      ],
      "metadata": {
        "id": "F2L5bcc-TCLd",
        "colab": {
          "base_uri": "https://localhost:8080/"
        },
        "outputId": "363b1f42-3e3c-477b-ee82-76cb390fb5f4"
      },
      "execution_count": null,
      "outputs": [
        {
          "output_type": "stream",
          "name": "stderr",
          "text": [
            "WARNING:absl:`lr` is deprecated in Keras optimizer, please use `learning_rate` or use the legacy optimizer, e.g.,tf.keras.optimizers.legacy.Adam.\n"
          ]
        },
        {
          "output_type": "stream",
          "name": "stdout",
          "text": [
            "Epoch 1/100\n",
            "1/1 [==============================] - 2s 2s/step - loss: 13.4389 - mae: 13.4389\n",
            "Epoch 2/100\n",
            "1/1 [==============================] - 0s 16ms/step - loss: 12.4662 - mae: 12.4662\n",
            "Epoch 3/100\n",
            "1/1 [==============================] - 0s 14ms/step - loss: 11.4970 - mae: 11.4970\n",
            "Epoch 4/100\n",
            "1/1 [==============================] - 0s 14ms/step - loss: 10.5151 - mae: 10.5151\n",
            "Epoch 5/100\n",
            "1/1 [==============================] - 0s 14ms/step - loss: 9.5048 - mae: 9.5048\n",
            "Epoch 6/100\n",
            "1/1 [==============================] - 0s 14ms/step - loss: 8.4517 - mae: 8.4517\n",
            "Epoch 7/100\n",
            "1/1 [==============================] - 0s 13ms/step - loss: 7.3419 - mae: 7.3419\n",
            "Epoch 8/100\n",
            "1/1 [==============================] - 0s 14ms/step - loss: 7.6710 - mae: 7.6710\n",
            "Epoch 9/100\n",
            "1/1 [==============================] - 0s 13ms/step - loss: 8.2811 - mae: 8.2811\n",
            "Epoch 10/100\n",
            "1/1 [==============================] - 0s 18ms/step - loss: 8.5846 - mae: 8.5846\n",
            "Epoch 11/100\n",
            "1/1 [==============================] - 0s 14ms/step - loss: 8.4309 - mae: 8.4309\n",
            "Epoch 12/100\n",
            "1/1 [==============================] - 0s 15ms/step - loss: 8.0241 - mae: 8.0241\n",
            "Epoch 13/100\n",
            "1/1 [==============================] - 0s 13ms/step - loss: 7.6887 - mae: 7.6887\n",
            "Epoch 14/100\n",
            "1/1 [==============================] - 0s 17ms/step - loss: 7.3103 - mae: 7.3103\n",
            "Epoch 15/100\n",
            "1/1 [==============================] - 0s 14ms/step - loss: 7.1518 - mae: 7.1518\n",
            "Epoch 16/100\n",
            "1/1 [==============================] - 0s 20ms/step - loss: 7.2396 - mae: 7.2396\n",
            "Epoch 17/100\n",
            "1/1 [==============================] - 0s 16ms/step - loss: 7.4630 - mae: 7.4630\n",
            "Epoch 18/100\n",
            "1/1 [==============================] - 0s 11ms/step - loss: 7.5281 - mae: 7.5281\n",
            "Epoch 19/100\n",
            "1/1 [==============================] - 0s 15ms/step - loss: 7.4622 - mae: 7.4622\n",
            "Epoch 20/100\n",
            "1/1 [==============================] - 0s 13ms/step - loss: 7.2837 - mae: 7.2837\n",
            "Epoch 21/100\n",
            "1/1 [==============================] - 0s 12ms/step - loss: 7.0094 - mae: 7.0094\n",
            "Epoch 22/100\n",
            "1/1 [==============================] - 0s 11ms/step - loss: 6.9741 - mae: 6.9741\n",
            "Epoch 23/100\n",
            "1/1 [==============================] - 0s 11ms/step - loss: 6.9384 - mae: 6.9384\n",
            "Epoch 24/100\n",
            "1/1 [==============================] - 0s 11ms/step - loss: 6.9205 - mae: 6.9205\n",
            "Epoch 25/100\n",
            "1/1 [==============================] - 0s 13ms/step - loss: 6.9623 - mae: 6.9623\n",
            "Epoch 26/100\n",
            "1/1 [==============================] - 0s 13ms/step - loss: 6.9293 - mae: 6.9293\n",
            "Epoch 27/100\n",
            "1/1 [==============================] - 0s 14ms/step - loss: 6.8309 - mae: 6.8309\n",
            "Epoch 28/100\n",
            "1/1 [==============================] - 0s 12ms/step - loss: 6.7993 - mae: 6.7993\n",
            "Epoch 29/100\n",
            "1/1 [==============================] - 0s 12ms/step - loss: 6.7787 - mae: 6.7787\n",
            "Epoch 30/100\n",
            "1/1 [==============================] - 0s 13ms/step - loss: 6.7570 - mae: 6.7570\n",
            "Epoch 31/100\n",
            "1/1 [==============================] - 0s 13ms/step - loss: 6.7340 - mae: 6.7340\n",
            "Epoch 32/100\n",
            "1/1 [==============================] - 0s 12ms/step - loss: 6.7210 - mae: 6.7210\n",
            "Epoch 33/100\n",
            "1/1 [==============================] - 0s 12ms/step - loss: 6.6778 - mae: 6.6778\n",
            "Epoch 34/100\n",
            "1/1 [==============================] - 0s 12ms/step - loss: 6.6446 - mae: 6.6446\n",
            "Epoch 35/100\n",
            "1/1 [==============================] - 0s 12ms/step - loss: 6.6104 - mae: 6.6104\n",
            "Epoch 36/100\n",
            "1/1 [==============================] - 0s 12ms/step - loss: 6.5751 - mae: 6.5751\n",
            "Epoch 37/100\n",
            "1/1 [==============================] - 0s 16ms/step - loss: 6.5387 - mae: 6.5387\n",
            "Epoch 38/100\n",
            "1/1 [==============================] - 0s 12ms/step - loss: 6.5009 - mae: 6.5009\n",
            "Epoch 39/100\n",
            "1/1 [==============================] - 0s 11ms/step - loss: 6.4618 - mae: 6.4618\n",
            "Epoch 40/100\n",
            "1/1 [==============================] - 0s 17ms/step - loss: 6.4212 - mae: 6.4212\n",
            "Epoch 41/100\n",
            "1/1 [==============================] - 0s 13ms/step - loss: 6.3790 - mae: 6.3790\n",
            "Epoch 42/100\n",
            "1/1 [==============================] - 0s 16ms/step - loss: 6.3351 - mae: 6.3351\n",
            "Epoch 43/100\n",
            "1/1 [==============================] - 0s 14ms/step - loss: 6.3332 - mae: 6.3332\n",
            "Epoch 44/100\n",
            "1/1 [==============================] - 0s 15ms/step - loss: 6.2767 - mae: 6.2767\n",
            "Epoch 45/100\n",
            "1/1 [==============================] - 0s 13ms/step - loss: 6.2206 - mae: 6.2206\n",
            "Epoch 46/100\n",
            "1/1 [==============================] - 0s 12ms/step - loss: 6.1870 - mae: 6.1870\n",
            "Epoch 47/100\n",
            "1/1 [==============================] - 0s 16ms/step - loss: 6.1503 - mae: 6.1503\n",
            "Epoch 48/100\n",
            "1/1 [==============================] - 0s 14ms/step - loss: 6.1106 - mae: 6.1106\n",
            "Epoch 49/100\n",
            "1/1 [==============================] - 0s 14ms/step - loss: 6.0678 - mae: 6.0678\n",
            "Epoch 50/100\n",
            "1/1 [==============================] - 0s 13ms/step - loss: 6.0216 - mae: 6.0216\n",
            "Epoch 51/100\n",
            "1/1 [==============================] - 0s 13ms/step - loss: 5.9721 - mae: 5.9721\n",
            "Epoch 52/100\n",
            "1/1 [==============================] - 0s 14ms/step - loss: 5.9189 - mae: 5.9189\n",
            "Epoch 53/100\n",
            "1/1 [==============================] - 0s 15ms/step - loss: 5.8619 - mae: 5.8619\n",
            "Epoch 54/100\n",
            "1/1 [==============================] - 0s 15ms/step - loss: 5.8008 - mae: 5.8008\n",
            "Epoch 55/100\n",
            "1/1 [==============================] - 0s 14ms/step - loss: 5.7354 - mae: 5.7354\n",
            "Epoch 56/100\n",
            "1/1 [==============================] - 0s 13ms/step - loss: 5.6654 - mae: 5.6654\n",
            "Epoch 57/100\n",
            "1/1 [==============================] - 0s 12ms/step - loss: 5.5905 - mae: 5.5905\n",
            "Epoch 58/100\n",
            "1/1 [==============================] - 0s 14ms/step - loss: 5.5102 - mae: 5.5102\n",
            "Epoch 59/100\n",
            "1/1 [==============================] - 0s 13ms/step - loss: 5.4553 - mae: 5.4553\n",
            "Epoch 60/100\n",
            "1/1 [==============================] - 0s 11ms/step - loss: 5.3492 - mae: 5.3492\n",
            "Epoch 61/100\n",
            "1/1 [==============================] - 0s 14ms/step - loss: 5.2670 - mae: 5.2670\n",
            "Epoch 62/100\n",
            "1/1 [==============================] - 0s 13ms/step - loss: 5.1772 - mae: 5.1772\n",
            "Epoch 63/100\n",
            "1/1 [==============================] - 0s 14ms/step - loss: 5.0793 - mae: 5.0793\n",
            "Epoch 64/100\n",
            "1/1 [==============================] - 0s 14ms/step - loss: 4.9728 - mae: 4.9728\n",
            "Epoch 65/100\n",
            "1/1 [==============================] - 0s 12ms/step - loss: 4.8985 - mae: 4.8985\n",
            "Epoch 66/100\n",
            "1/1 [==============================] - 0s 16ms/step - loss: 4.7530 - mae: 4.7530\n",
            "Epoch 67/100\n",
            "1/1 [==============================] - 0s 14ms/step - loss: 4.6378 - mae: 4.6378\n",
            "Epoch 68/100\n",
            "1/1 [==============================] - 0s 16ms/step - loss: 4.5107 - mae: 4.5107\n",
            "Epoch 69/100\n",
            "1/1 [==============================] - 0s 16ms/step - loss: 4.3707 - mae: 4.3707\n",
            "Epoch 70/100\n",
            "1/1 [==============================] - 0s 13ms/step - loss: 4.2171 - mae: 4.2171\n",
            "Epoch 71/100\n",
            "1/1 [==============================] - 0s 15ms/step - loss: 4.0487 - mae: 4.0487\n",
            "Epoch 72/100\n",
            "1/1 [==============================] - 0s 13ms/step - loss: 3.8643 - mae: 3.8643\n",
            "Epoch 73/100\n",
            "1/1 [==============================] - 0s 12ms/step - loss: 3.6626 - mae: 3.6626\n",
            "Epoch 74/100\n",
            "1/1 [==============================] - 0s 10ms/step - loss: 3.4421 - mae: 3.4421\n",
            "Epoch 75/100\n",
            "1/1 [==============================] - 0s 14ms/step - loss: 3.2499 - mae: 3.2499\n",
            "Epoch 76/100\n",
            "1/1 [==============================] - 0s 15ms/step - loss: 2.9742 - mae: 2.9742\n",
            "Epoch 77/100\n",
            "1/1 [==============================] - 0s 17ms/step - loss: 2.7630 - mae: 2.7630\n",
            "Epoch 78/100\n",
            "1/1 [==============================] - 0s 15ms/step - loss: 2.4910 - mae: 2.4910\n",
            "Epoch 79/100\n",
            "1/1 [==============================] - 0s 14ms/step - loss: 2.2138 - mae: 2.2138\n",
            "Epoch 80/100\n",
            "1/1 [==============================] - 0s 14ms/step - loss: 1.8393 - mae: 1.8393\n",
            "Epoch 81/100\n",
            "1/1 [==============================] - 0s 13ms/step - loss: 1.5205 - mae: 1.5205\n",
            "Epoch 82/100\n",
            "1/1 [==============================] - 0s 13ms/step - loss: 1.1160 - mae: 1.1160\n",
            "Epoch 83/100\n",
            "1/1 [==============================] - 0s 16ms/step - loss: 0.7615 - mae: 0.7615\n",
            "Epoch 84/100\n",
            "1/1 [==============================] - 0s 17ms/step - loss: 0.9271 - mae: 0.9271\n",
            "Epoch 85/100\n",
            "1/1 [==============================] - 0s 15ms/step - loss: 0.1815 - mae: 0.1815\n",
            "Epoch 86/100\n",
            "1/1 [==============================] - 0s 22ms/step - loss: 1.5983 - mae: 1.5983\n",
            "Epoch 87/100\n",
            "1/1 [==============================] - 0s 14ms/step - loss: 1.5657 - mae: 1.5657\n",
            "Epoch 88/100\n",
            "1/1 [==============================] - 0s 12ms/step - loss: 0.8903 - mae: 0.8903\n",
            "Epoch 89/100\n",
            "1/1 [==============================] - 0s 12ms/step - loss: 1.2226 - mae: 1.2226\n",
            "Epoch 90/100\n",
            "1/1 [==============================] - 0s 15ms/step - loss: 0.9527 - mae: 0.9527\n",
            "Epoch 91/100\n",
            "1/1 [==============================] - 0s 13ms/step - loss: 1.4666 - mae: 1.4666\n",
            "Epoch 92/100\n",
            "1/1 [==============================] - 0s 14ms/step - loss: 1.3085 - mae: 1.3085\n",
            "Epoch 93/100\n",
            "1/1 [==============================] - 0s 14ms/step - loss: 0.6827 - mae: 0.6827\n",
            "Epoch 94/100\n",
            "1/1 [==============================] - 0s 13ms/step - loss: 0.6894 - mae: 0.6894\n",
            "Epoch 95/100\n",
            "1/1 [==============================] - 0s 15ms/step - loss: 0.2543 - mae: 0.2543\n",
            "Epoch 96/100\n",
            "1/1 [==============================] - 0s 15ms/step - loss: 0.8697 - mae: 0.8697\n",
            "Epoch 97/100\n",
            "1/1 [==============================] - 0s 16ms/step - loss: 0.7422 - mae: 0.7422\n",
            "Epoch 98/100\n",
            "1/1 [==============================] - 0s 18ms/step - loss: 0.4567 - mae: 0.4567\n",
            "Epoch 99/100\n",
            "1/1 [==============================] - 0s 13ms/step - loss: 0.7264 - mae: 0.7264\n",
            "Epoch 100/100\n",
            "1/1 [==============================] - 0s 13ms/step - loss: 0.6226 - mae: 0.6226\n"
          ]
        },
        {
          "output_type": "execute_result",
          "data": {
            "text/plain": [
              "<keras.src.callbacks.History at 0x780280ff2650>"
            ]
          },
          "metadata": {},
          "execution_count": 16
        }
      ]
    },
    {
      "cell_type": "code",
      "source": [
        "# Let's remind ourself with our data\n",
        "X , Y"
      ],
      "metadata": {
        "colab": {
          "base_uri": "https://localhost:8080/"
        },
        "id": "6N1gTKwnY6Vb",
        "outputId": "1e38e46d-b104-40f2-cce1-5c17fad9418d"
      },
      "execution_count": null,
      "outputs": [
        {
          "output_type": "execute_result",
          "data": {
            "text/plain": [
              "(<tf.Tensor: shape=(8, 1), dtype=float32, numpy=\n",
              " array([[-7.],\n",
              "        [-4.],\n",
              "        [-1.],\n",
              "        [ 2.],\n",
              "        [ 5.],\n",
              "        [ 8.],\n",
              "        [11.],\n",
              "        [14.]], dtype=float32)>,\n",
              " <tf.Tensor: shape=(8,), dtype=float32, numpy=array([ 3.,  6.,  9., 12., 15., 18., 21., 24.], dtype=float32)>)"
            ]
          },
          "metadata": {},
          "execution_count": 17
        }
      ]
    },
    {
      "cell_type": "code",
      "source": [
        "# Let's try to make prediction\n",
        "model.predict([17.0]) # now the model predicting nearly correct"
      ],
      "metadata": {
        "colab": {
          "base_uri": "https://localhost:8080/"
        },
        "id": "Z-il-hU3ZYFB",
        "outputId": "57e7ef1a-4d9a-4fdc-90b8-84855df9cf58"
      },
      "execution_count": null,
      "outputs": [
        {
          "output_type": "stream",
          "name": "stdout",
          "text": [
            "1/1 [==============================] - 0s 123ms/step\n"
          ]
        },
        {
          "output_type": "execute_result",
          "data": {
            "text/plain": [
              "array([[26.77236]], dtype=float32)"
            ]
          },
          "metadata": {},
          "execution_count": 18
        }
      ]
    },
    {
      "cell_type": "markdown",
      "source": [
        "### Evaluting model\n",
        "In practical, a typical workflow you'll go through when building neural network is :\n",
        "``` Build  a model -> fit it -> tweak a model -> fit it -> evalute it -> tweak it -> fit it -> evalute it .... ```\n",
        "\n",
        "when it comes to evaluation ..there are three words you should memorize:\n",
        "\n",
        "\"visulize\" , \"visulize\" , \"visulize\"\n",
        "\n",
        "It's good idea to visulize:\n",
        "* The data - what data are we working with ? what does it look like?\n",
        "* The model itself - what does our model look like?\n",
        "* The training of model - how does a model perform while it learns?\n",
        "* The prediction of the model - how do the the prediction of a model line up against the ground truth(the original labels)?"
      ],
      "metadata": {
        "id": "YnKkLeeSjzH2"
      }
    },
    {
      "cell_type": "code",
      "source": [
        "# Make a bigger dataset\n",
        "x = tf.range(-100,100,5)\n",
        "x"
      ],
      "metadata": {
        "colab": {
          "base_uri": "https://localhost:8080/"
        },
        "id": "i3s-34SAZdnf",
        "outputId": "55ca68c3-4207-4d5c-e49f-8e2c08f0517e"
      },
      "execution_count": null,
      "outputs": [
        {
          "output_type": "execute_result",
          "data": {
            "text/plain": [
              "<tf.Tensor: shape=(40,), dtype=int32, numpy=\n",
              "array([-100,  -95,  -90,  -85,  -80,  -75,  -70,  -65,  -60,  -55,  -50,\n",
              "        -45,  -40,  -35,  -30,  -25,  -20,  -15,  -10,   -5,    0,    5,\n",
              "         10,   15,   20,   25,   30,   35,   40,   45,   50,   55,   60,\n",
              "         65,   70,   75,   80,   85,   90,   95], dtype=int32)>"
            ]
          },
          "metadata": {},
          "execution_count": 19
        }
      ]
    },
    {
      "cell_type": "code",
      "source": [
        "y = x+5\n",
        "y"
      ],
      "metadata": {
        "colab": {
          "base_uri": "https://localhost:8080/"
        },
        "id": "P0IAt9Rrm6Ow",
        "outputId": "94825a74-cb27-4556-c180-235983cc11a4"
      },
      "execution_count": null,
      "outputs": [
        {
          "output_type": "execute_result",
          "data": {
            "text/plain": [
              "<tf.Tensor: shape=(40,), dtype=int32, numpy=\n",
              "array([-95, -90, -85, -80, -75, -70, -65, -60, -55, -50, -45, -40, -35,\n",
              "       -30, -25, -20, -15, -10,  -5,   0,   5,  10,  15,  20,  25,  30,\n",
              "        35,  40,  45,  50,  55,  60,  65,  70,  75,  80,  85,  90,  95,\n",
              "       100], dtype=int32)>"
            ]
          },
          "metadata": {},
          "execution_count": 20
        }
      ]
    },
    {
      "cell_type": "code",
      "source": [
        "# visulize the data\n",
        "import matplotlib.pyplot as plt\n",
        "plt.scatter(x,y)\n"
      ],
      "metadata": {
        "colab": {
          "base_uri": "https://localhost:8080/",
          "height": 448
        },
        "id": "Ra-kLwi2m_if",
        "outputId": "04403783-5839-459e-fe5d-7f5fbda9108f"
      },
      "execution_count": null,
      "outputs": [
        {
          "output_type": "execute_result",
          "data": {
            "text/plain": [
              "<matplotlib.collections.PathCollection at 0x780282e90ac0>"
            ]
          },
          "metadata": {},
          "execution_count": 21
        },
        {
          "output_type": "display_data",
          "data": {
            "text/plain": [
              "<Figure size 640x480 with 1 Axes>"
            ],
            "image/png": "[encoded data removed]"
          },
          "metadata": {}
        }
      ]
    },
    {
      "cell_type": "markdown",
      "source": [
        "### The 3 sets...\n",
        "\n",
        "* **Training set** - the model learns from this data, which is typically 70-80% of the data avilable.\n",
        "* **Validation set**  - The model get tuned in this data which is 10-15% of the data avilable.\n",
        "* **Test set** - the model gets evaluated on this data to test what is has learned, this set is typically 10-15% of the avilable data.\n"
      ],
      "metadata": {
        "id": "gu-IpuS9n3Ja"
      }
    },
    {
      "cell_type": "code",
      "source": [
        "len(x)"
      ],
      "metadata": {
        "colab": {
          "base_uri": "https://localhost:8080/"
        },
        "id": "i8mClUQCsZMY",
        "outputId": "c6aa7775-93fe-4f81-9f28-e7e92c2473ad"
      },
      "execution_count": null,
      "outputs": [
        {
          "output_type": "execute_result",
          "data": {
            "text/plain": [
              "40"
            ]
          },
          "metadata": {},
          "execution_count": 22
        }
      ]
    },
    {
      "cell_type": "code",
      "source": [
        "# Split the data in to training and testing set\n",
        "x_train = x[:30]\n",
        "y_train = y[:30]\n",
        "\n",
        "x_test = x[30:]\n",
        "y_test = y[30:]\n",
        "\n",
        "len(x_train), len(x_test) ,len(y_train),len(y_test)"
      ],
      "metadata": {
        "colab": {
          "base_uri": "https://localhost:8080/"
        },
        "id": "XLWUAFqynUUD",
        "outputId": "2cb25d8b-b557-4ff2-c200-adb1215247c1"
      },
      "execution_count": null,
      "outputs": [
        {
          "output_type": "execute_result",
          "data": {
            "text/plain": [
              "(30, 10, 30, 10)"
            ]
          },
          "metadata": {},
          "execution_count": 23
        }
      ]
    },
    {
      "cell_type": "markdown",
      "source": [
        "####Visulizing the data\n",
        "Now we got the data in trainig and testing set, let's visulize it"
      ],
      "metadata": {
        "id": "4E2gXTNdtHM3"
      }
    },
    {
      "cell_type": "code",
      "source": [
        "# define the figure size\n",
        "plt.figure(figsize=(9,6))\n",
        "\n",
        "# plot training data in red\n",
        "plt.scatter(x_train,y_train, c=\"r\" ,label=\"Training Data\")\n",
        "\n",
        "# plot test data in blue\n",
        "plt.scatter(x_test,y_test, c=\"b\",label=\"Test Data\")\n",
        "\n",
        "# Add legend\n",
        "plt.legend()\n",
        "plt.show()"
      ],
      "metadata": {
        "colab": {
          "base_uri": "https://localhost:8080/",
          "height": 522
        },
        "id": "DEaGjV1ysOjR",
        "outputId": "a86f0df5-3367-4fa8-b34b-da553ff78dd7"
      },
      "execution_count": null,
      "outputs": [
        {
          "output_type": "display_data",
          "data": {
            "text/plain": [
              "<Figure size 900x600 with 1 Axes>"
            ],
            "image/png": "[encoded data removed]"
          },
          "metadata": {}
        }
      ]
    },
    {
      "cell_type": "code",
      "source": [
        "# Let's have look at how to build neural network for our data\n",
        "\n",
        "# 1. Create a model\n",
        "model = tf.keras.Sequential(\n",
        "    [tf.keras.layers.Dense(1)]\n",
        ")\n",
        "\n",
        "# 2. compile the model\n",
        "model.compile (loss = tf.keras.losses.mae,\n",
        "            optimizer = tf.keras.optimizers.SGD(),\n",
        "            metrics = [\"mae\"])\n",
        "\n",
        "# 3. fit the model\n",
        "#model.fit(x_train,y_train,epochs=100)"
      ],
      "metadata": {
        "id": "xSCh3k95uQDn"
      },
      "execution_count": null,
      "outputs": []
    },
    {
      "cell_type": "code",
      "source": [
        "# same as above\n",
        "#Create a model which build automatically by defining input shape argument\n",
        "tf.random.set_seed(42)\n",
        "# 1. Create a model\n",
        "model = tf.keras.Sequential(\n",
        "    [tf.keras.layers.Dense(10, input_shape=[1], name=\"input_layer\"),\n",
        "     tf.keras.layers.Dense(1,name=\"output_layer\")\n",
        "\n",
        "    ],\n",
        "    name=\"model_1\"\n",
        ")\n",
        "\n",
        "# 2. compile the model\n",
        "model.compile (loss = tf.keras.losses.mae,\n",
        "            optimizer = tf.keras.optimizers.SGD(),\n",
        "            metrics = [\"mae\"])"
      ],
      "metadata": {
        "id": "B8i3bJHfzvrz"
      },
      "execution_count": null,
      "outputs": []
    },
    {
      "cell_type": "code",
      "source": [
        "model.summary()"
      ],
      "metadata": {
        "colab": {
          "base_uri": "https://localhost:8080/"
        },
        "id": "RnnYLGuJ0ffQ",
        "outputId": "4fa0dc9c-dd0e-4394-ed2d-bee8a79702d7"
      },
      "execution_count": null,
      "outputs": [
        {
          "output_type": "stream",
          "name": "stdout",
          "text": [
            "Model: \"model_1\"\n",
            "_________________________________________________________________\n",
            " Layer (type)                Output Shape              Param #   \n",
            "=================================================================\n",
            " input_layer (Dense)         (None, 10)                20        \n",
            "                                                                 \n",
            " output_layer (Dense)        (None, 1)                 11        \n",
            "                                                                 \n",
            "=================================================================\n",
            "Total params: 31 (124.00 Byte)\n",
            "Trainable params: 31 (124.00 Byte)\n",
            "Non-trainable params: 0 (0.00 Byte)\n",
            "_________________________________________________________________\n"
          ]
        }
      ]
    },
    {
      "cell_type": "markdown",
      "source": [
        "* Total params - total number of parameter in model.\n",
        "* Trainable params - these are the parameters(patterns) the model can update as it trains.\n",
        "* Non-trainable params - these parameter aren't updated during training (this is typical when you bring in alredy learn patterns or paramlearningeter from other models during **transfer learning** )."
      ],
      "metadata": {
        "id": "EEdq2ncO0uu1"
      }
    },
    {
      "cell_type": "code",
      "source": [
        "# Let's fit the model\n",
        "model.fit(x_train,y_train,epochs=100,verbose=0)"
      ],
      "metadata": {
        "colab": {
          "base_uri": "https://localhost:8080/"
        },
        "id": "Y3IbgC0x4BEV",
        "outputId": "9ee949e0-b8a5-4284-fdae-6b98737d372f"
      },
      "execution_count": null,
      "outputs": [
        {
          "output_type": "execute_result",
          "data": {
            "text/plain": [
              "<keras.src.callbacks.History at 0x7802829903d0>"
            ]
          },
          "metadata": {},
          "execution_count": 28
        }
      ]
    },
    {
      "cell_type": "code",
      "source": [
        "from tensorflow.keras.utils import plot_model\n",
        "\n",
        "plot_model(model=model,show_shapes=True)"
      ],
      "metadata": {
        "colab": {
          "base_uri": "https://localhost:8080/",
          "height": 312
        },
        "id": "-m2j4chH4Ci7",
        "outputId": "4e15b575-c581-4360-b8bf-3dc683074b3b"
      },
      "execution_count": null,
      "outputs": [
        {
          "output_type": "execute_result",
          "data": {
            "image/png": "[encoded data removed]",
            "text/plain": [
              "<IPython.core.display.Image object>"
            ]
          },
          "metadata": {},
          "execution_count": 29
        }
      ]
    },
    {
      "cell_type": "markdown",
      "source": [
        "### Visulizing our model's performance\n",
        "\n",
        "To visulize predictions its good idea to plot them against the ground truth labels.\n",
        "\n",
        "Often you'll see this in the form of `y_test` or `y_true` versus `y_pred`(ground truth versus your model predictions)"
      ],
      "metadata": {
        "id": "d6lkTKGDa2Aa"
      }
    },
    {
      "cell_type": "code",
      "source": [
        "# Make some predictions\n",
        "y_pred = model.predict(x_test)\n",
        "y_pred"
      ],
      "metadata": {
        "id": "azvR17id5Uf2",
        "colab": {
          "base_uri": "https://localhost:8080/"
        },
        "outputId": "36d454c5-6f5f-45ec-c0a2-c61028af710b"
      },
      "execution_count": null,
      "outputs": [
        {
          "output_type": "stream",
          "name": "stdout",
          "text": [
            "1/1 [==============================] - 0s 56ms/step\n"
          ]
        },
        {
          "output_type": "execute_result",
          "data": {
            "text/plain": [
              "array([[40.54368 ],\n",
              "       [44.53375 ],\n",
              "       [48.52382 ],\n",
              "       [52.513893],\n",
              "       [56.503967],\n",
              "       [60.494034],\n",
              "       [64.48411 ],\n",
              "       [68.474174],\n",
              "       [72.46424 ],\n",
              "       [76.45432 ]], dtype=float32)"
            ]
          },
          "metadata": {},
          "execution_count": 30
        }
      ]
    },
    {
      "cell_type": "code",
      "source": [
        "y_test"
      ],
      "metadata": {
        "colab": {
          "base_uri": "https://localhost:8080/"
        },
        "id": "i9dEtqezeVYV",
        "outputId": "f9cc1279-6fbb-4265-fd71-19527c066fe6"
      },
      "execution_count": null,
      "outputs": [
        {
          "output_type": "execute_result",
          "data": {
            "text/plain": [
              "<tf.Tensor: shape=(10,), dtype=int32, numpy=array([ 55,  60,  65,  70,  75,  80,  85,  90,  95, 100], dtype=int32)>"
            ]
          },
          "metadata": {},
          "execution_count": 31
        }
      ]
    },
    {
      "cell_type": "markdown",
      "source": [
        "🔑 **NOTE**: If you feel like you are going to reuse some kind functionality in the future it's good idea to turn it in to function."
      ],
      "metadata": {
        "id": "2XDNjLGBfgqR"
      }
    },
    {
      "cell_type": "code",
      "source": [
        "# Let's create a plotting function\n",
        "def plot_predictions(train_data=x_train,\n",
        "                     train_labels=y_train,\n",
        "                     test_data=x_test,\n",
        "                     test_labels=y_test,\n",
        "                     predictions=y_pred):\n",
        "  '''\n",
        "  plots training data , test data and compare predictions to groud truth labels\n",
        "  '''\n",
        "  #define the figure size\n",
        "  plt.figure(figsize=(8,7))\n",
        "\n",
        "  # plot the training data in yellow\n",
        "  plt.scatter(train_data,train_labels,c=\"y\",label=\"Training Data\")\n",
        "\n",
        "  # plot test data in green\n",
        "  plt.scatter(test_data,test_labels,c=\"g\",label=\"Test Data\")\n",
        "\n",
        "  # plot models predictions in red\n",
        "  plt.scatter(test_data,predictions,c=\"r\",label=\"Predictions\")\n",
        "\n",
        "  # show the legend\n",
        "  plt.legend()\n",
        "  plt.show()"
      ],
      "metadata": {
        "id": "Yrib1rhReZx3"
      },
      "execution_count": null,
      "outputs": []
    },
    {
      "cell_type": "code",
      "source": [
        "plot_predictions()"
      ],
      "metadata": {
        "colab": {
          "base_uri": "https://localhost:8080/",
          "height": 599
        },
        "id": "na7jl8ackbMS",
        "outputId": "04923868-5264-43f2-ad2f-be9d6158486b"
      },
      "execution_count": null,
      "outputs": [
        {
          "output_type": "display_data",
          "data": {
            "text/plain": [
              "<Figure size 800x700 with 1 Axes>"
            ],
            "image/png": "[encoded data removed]"
          },
          "metadata": {}
        }
      ]
    },
    {
      "cell_type": "markdown",
      "source": [
        "#### Evaluting our model's prediction with regression evalution matrics\n",
        "\n",
        "Depending on the problem you're working on, there will be different evalution matrics to evalute you're model's prediction.\n",
        "\n",
        "Since we're working on a regression, two of the main metrics:\n",
        "* MAE- mean absolute error, \"on avarage,how wrong is each of my model's predictions \"\n",
        "\n",
        "* MSE - mean square error, \"square the avarage errors\""
      ],
      "metadata": {
        "id": "h3xv98_lmoki"
      }
    },
    {
      "cell_type": "code",
      "source": [
        "# Evaluate the model on test set\n",
        "model.evaluate(x_test,y_test)"
      ],
      "metadata": {
        "colab": {
          "base_uri": "https://localhost:8080/"
        },
        "id": "Xur9U3Hckhw6",
        "outputId": "20d0989a-67b6-4775-f9a5-ff8e9dd39936"
      },
      "execution_count": null,
      "outputs": [
        {
          "output_type": "stream",
          "name": "stdout",
          "text": [
            "1/1 [==============================] - 0s 164ms/step - loss: 19.0010 - mae: 19.0010\n"
          ]
        },
        {
          "output_type": "execute_result",
          "data": {
            "text/plain": [
              "[19.001001358032227, 19.001001358032227]"
            ]
          },
          "metadata": {},
          "execution_count": 34
        }
      ]
    },
    {
      "cell_type": "code",
      "source": [
        "# calculate the mae\n",
        "mae = tf.metrics.mean_absolute_error(y_true=y_test,\n",
        "                                     y_pred=y_pred)\n",
        "mae"
      ],
      "metadata": {
        "colab": {
          "base_uri": "https://localhost:8080/"
        },
        "id": "4GeqrvTArXhu",
        "outputId": "107b0efa-321c-4d49-a0f5-24864f0d4cb3"
      },
      "execution_count": null,
      "outputs": [
        {
          "output_type": "execute_result",
          "data": {
            "text/plain": [
              "<tf.Tensor: shape=(10,), dtype=float32, numpy=\n",
              "array([36.95632 , 32.96625 , 28.976181, 24.986107, 21.296825, 18.203579,\n",
              "       15.809535, 14.110331, 13.007152, 12.5     ], dtype=float32)>"
            ]
          },
          "metadata": {},
          "execution_count": 35
        }
      ]
    },
    {
      "cell_type": "code",
      "source": [
        "y_test"
      ],
      "metadata": {
        "colab": {
          "base_uri": "https://localhost:8080/"
        },
        "id": "Ap9a_k5tsAcy",
        "outputId": "0fd80776-a5c3-446a-e587-fe4d23b6cbba"
      },
      "execution_count": null,
      "outputs": [
        {
          "output_type": "execute_result",
          "data": {
            "text/plain": [
              "<tf.Tensor: shape=(10,), dtype=int32, numpy=array([ 55,  60,  65,  70,  75,  80,  85,  90,  95, 100], dtype=int32)>"
            ]
          },
          "metadata": {},
          "execution_count": 36
        }
      ]
    },
    {
      "cell_type": "code",
      "source": [
        "y_pred"
      ],
      "metadata": {
        "colab": {
          "base_uri": "https://localhost:8080/"
        },
        "id": "vNMKx89AtNal",
        "outputId": "19249413-5756-46cc-8f49-ed5bd532ef23"
      },
      "execution_count": null,
      "outputs": [
        {
          "output_type": "execute_result",
          "data": {
            "text/plain": [
              "array([[40.54368 ],\n",
              "       [44.53375 ],\n",
              "       [48.52382 ],\n",
              "       [52.513893],\n",
              "       [56.503967],\n",
              "       [60.494034],\n",
              "       [64.48411 ],\n",
              "       [68.474174],\n",
              "       [72.46424 ],\n",
              "       [76.45432 ]], dtype=float32)"
            ]
          },
          "metadata": {},
          "execution_count": 37
        }
      ]
    },
    {
      "cell_type": "code",
      "source": [
        "tf.constant(y_pred)"
      ],
      "metadata": {
        "colab": {
          "base_uri": "https://localhost:8080/"
        },
        "id": "fbWxTC4ntQeB",
        "outputId": "acda5b96-3faf-4d7b-f041-73385c7dc56b"
      },
      "execution_count": null,
      "outputs": [
        {
          "output_type": "execute_result",
          "data": {
            "text/plain": [
              "<tf.Tensor: shape=(10, 1), dtype=float32, numpy=\n",
              "array([[40.54368 ],\n",
              "       [44.53375 ],\n",
              "       [48.52382 ],\n",
              "       [52.513893],\n",
              "       [56.503967],\n",
              "       [60.494034],\n",
              "       [64.48411 ],\n",
              "       [68.474174],\n",
              "       [72.46424 ],\n",
              "       [76.45432 ]], dtype=float32)>"
            ]
          },
          "metadata": {},
          "execution_count": 38
        }
      ]
    },
    {
      "cell_type": "code",
      "source": [
        "# squeeze the y_pred to remove the extra dimension\n",
        "tf.squeeze(y_pred)"
      ],
      "metadata": {
        "colab": {
          "base_uri": "https://localhost:8080/"
        },
        "id": "JOzhnEK9w_cz",
        "outputId": "ca3b3de4-27d6-40df-d9be-73a32eb6479b"
      },
      "execution_count": null,
      "outputs": [
        {
          "output_type": "execute_result",
          "data": {
            "text/plain": [
              "<tf.Tensor: shape=(10,), dtype=float32, numpy=\n",
              "array([40.54368 , 44.53375 , 48.52382 , 52.513893, 56.503967, 60.494034,\n",
              "       64.48411 , 68.474174, 72.46424 , 76.45432 ], dtype=float32)>"
            ]
          },
          "metadata": {},
          "execution_count": 39
        }
      ]
    },
    {
      "cell_type": "code",
      "source": [
        "# calculate the mae (mean absolute error)\n",
        "mae = tf.keras.losses.mae(y_true=y_test,\n",
        "                          y_pred=tf.squeeze(y_pred))\n",
        "mae"
      ],
      "metadata": {
        "colab": {
          "base_uri": "https://localhost:8080/"
        },
        "id": "kb5DUU3_xKRi",
        "outputId": "9768742f-0e46-4f10-897d-2bcbd8340841"
      },
      "execution_count": null,
      "outputs": [
        {
          "output_type": "execute_result",
          "data": {
            "text/plain": [
              "<tf.Tensor: shape=(), dtype=float32, numpy=19.001001>"
            ]
          },
          "metadata": {},
          "execution_count": 40
        }
      ]
    },
    {
      "cell_type": "code",
      "source": [
        "# calculate the mse (mean square error)\n",
        "mse = tf.keras.losses.mse(y_true=y_test,\n",
        "                          y_pred=tf.squeeze(y_pred))\n",
        "mse"
      ],
      "metadata": {
        "colab": {
          "base_uri": "https://localhost:8080/"
        },
        "id": "BEiMXiD_xo6c",
        "outputId": "7c58d4f5-7699-4e11-d3f3-37860c918fde"
      },
      "execution_count": null,
      "outputs": [
        {
          "output_type": "execute_result",
          "data": {
            "text/plain": [
              "<tf.Tensor: shape=(), dtype=float32, numpy=369.4527>"
            ]
          },
          "metadata": {},
          "execution_count": 41
        }
      ]
    },
    {
      "cell_type": "code",
      "source": [
        "# Make some funstion to reuse MAE and MSE\n",
        "def mae(y_true,y_pred):\n",
        "  return tf.keras.losses.mae(y_true=y_test,\n",
        "                             y_pred=tf.squeeze(y_pred))\n",
        "\n",
        "def mse(y_true,y_pred):\n",
        "  return tf.keras.losses.mse(y_true=y_test,\n",
        "                             y_pred=tf.squeeze(y_pred))"
      ],
      "metadata": {
        "id": "cstfkW64yOlk"
      },
      "execution_count": null,
      "outputs": []
    },
    {
      "cell_type": "code",
      "source": [
        "mae(y_test,tf.squeeze(y_pred)),mse(y_test,tf.squeeze(y_pred))"
      ],
      "metadata": {
        "colab": {
          "base_uri": "https://localhost:8080/"
        },
        "id": "BF_P_DuZ0WXW",
        "outputId": "3c358b5a-a2a7-43d1-ed8b-df4e307acd99"
      },
      "execution_count": null,
      "outputs": [
        {
          "output_type": "execute_result",
          "data": {
            "text/plain": [
              "(<tf.Tensor: shape=(), dtype=float32, numpy=19.001001>,\n",
              " <tf.Tensor: shape=(), dtype=float32, numpy=369.4527>)"
            ]
          },
          "metadata": {},
          "execution_count": 43
        }
      ]
    },
    {
      "cell_type": "markdown",
      "source": [
        "#### Running experiment to improve our model\n",
        "\n",
        "```Build a model -> fit it -> evaluate it -> tweak it -> fit it -> evaluate it -> tweak it -> fit it -> evaluate it ...```\n",
        "\n",
        "1. Get more data - get more example for your model to train on (more opportunities to learn patterns or realtionships bet features and labels).\n",
        "\n",
        "2. make you're model larger(using a more complex model) - this might come in the form of more layers or more hidden units in each layer.\n",
        "\n",
        "3. Train for longer - give your model more if chance to find patterns in the data.\n",
        "\n",
        "Here we're doing 3 modelling experiment:\n",
        "\n",
        "1. `model_1` - same as the original model, 1 layer,  trained for 100 epochs.\n",
        "\n",
        "2. `model_2` - 2 layers,  train for 100 epochs.\n",
        "\n",
        "3. `model_3` - 2 layers,  train for 500 epochs."
      ],
      "metadata": {
        "id": "eSdWATZo2i0d"
      }
    },
    {
      "cell_type": "markdown",
      "source": [
        "**Build `model_1`**"
      ],
      "metadata": {
        "id": "pt6jr1vm5kGl"
      }
    },
    {
      "cell_type": "code",
      "source": [
        "x_train = tf.constant(x_train)"
      ],
      "metadata": {
        "id": "dekhpx_J7oWB"
      },
      "execution_count": null,
      "outputs": []
    },
    {
      "cell_type": "code",
      "source": [
        "y_train = tf.constant(y_train)"
      ],
      "metadata": {
        "id": "6X9e2wb37uDC"
      },
      "execution_count": null,
      "outputs": []
    },
    {
      "cell_type": "code",
      "source": [
        "# set random seed\n",
        "tf.random.set_seed(42)\n",
        "\n",
        "# 1. create model\n",
        "model_1 = tf.keras.Sequential([\n",
        "    tf.keras.layers.Dense(1,input_shape=[1])\n",
        "])\n",
        "\n",
        "# 2. compile model\n",
        "model_1.compile(loss=tf.keras.losses.mae,\n",
        "              optimizer=tf.keras.optimizers.SGD(),\n",
        "              metrics= [\"mae\"])\n",
        "# 3. fit model\n",
        "model_1.fit(x_train,y_train,epochs=100)"
      ],
      "metadata": {
        "colab": {
          "base_uri": "https://localhost:8080/"
        },
        "id": "jz_e4-Mu0bFa",
        "outputId": "5c0606d8-4196-44fb-acec-473aacdcd0f2"
      },
      "execution_count": null,
      "outputs": [
        {
          "output_type": "stream",
          "name": "stdout",
          "text": [
            "Epoch 1/100\n",
            "1/1 [==============================] - 0s 348ms/step - loss: 91.1723 - mae: 91.1723\n",
            "Epoch 2/100\n",
            "1/1 [==============================] - 0s 13ms/step - loss: 73.1087 - mae: 73.1087\n",
            "Epoch 3/100\n",
            "1/1 [==============================] - 0s 15ms/step - loss: 55.0451 - mae: 55.0451\n",
            "Epoch 4/100\n",
            "1/1 [==============================] - 0s 14ms/step - loss: 37.0123 - mae: 37.0123\n",
            "Epoch 5/100\n",
            "1/1 [==============================] - 0s 15ms/step - loss: 19.2403 - mae: 19.2403\n",
            "Epoch 6/100\n",
            "1/1 [==============================] - 0s 11ms/step - loss: 3.5600 - mae: 3.5600\n",
            "Epoch 7/100\n",
            "1/1 [==============================] - 0s 10ms/step - loss: 6.3537 - mae: 6.3537\n",
            "Epoch 8/100\n",
            "1/1 [==============================] - 0s 14ms/step - loss: 8.5228 - mae: 8.5228\n",
            "Epoch 9/100\n",
            "1/1 [==============================] - 0s 11ms/step - loss: 9.8772 - mae: 9.8772\n",
            "Epoch 10/100\n",
            "1/1 [==============================] - 0s 11ms/step - loss: 7.1042 - mae: 7.1042\n",
            "Epoch 11/100\n",
            "1/1 [==============================] - 0s 11ms/step - loss: 10.6191 - mae: 10.6191\n",
            "Epoch 12/100\n",
            "1/1 [==============================] - 0s 13ms/step - loss: 7.1042 - mae: 7.1042\n",
            "Epoch 13/100\n",
            "1/1 [==============================] - 0s 12ms/step - loss: 10.6137 - mae: 10.6137\n",
            "Epoch 14/100\n",
            "1/1 [==============================] - 0s 12ms/step - loss: 7.1042 - mae: 7.1042\n",
            "Epoch 15/100\n",
            "1/1 [==============================] - 0s 12ms/step - loss: 10.6083 - mae: 10.6083\n",
            "Epoch 16/100\n",
            "1/1 [==============================] - 0s 12ms/step - loss: 7.1042 - mae: 7.1042\n",
            "Epoch 17/100\n",
            "1/1 [==============================] - 0s 13ms/step - loss: 10.6029 - mae: 10.6029\n",
            "Epoch 18/100\n",
            "1/1 [==============================] - 0s 13ms/step - loss: 7.1042 - mae: 7.1042\n",
            "Epoch 19/100\n",
            "1/1 [==============================] - 0s 14ms/step - loss: 10.5975 - mae: 10.5975\n",
            "Epoch 20/100\n",
            "1/1 [==============================] - 0s 16ms/step - loss: 7.1042 - mae: 7.1042\n",
            "Epoch 21/100\n",
            "1/1 [==============================] - 0s 13ms/step - loss: 10.5922 - mae: 10.5922\n",
            "Epoch 22/100\n",
            "1/1 [==============================] - 0s 15ms/step - loss: 7.1042 - mae: 7.1042\n",
            "Epoch 23/100\n",
            "1/1 [==============================] - 0s 13ms/step - loss: 10.5868 - mae: 10.5868\n",
            "Epoch 24/100\n",
            "1/1 [==============================] - 0s 13ms/step - loss: 7.1042 - mae: 7.1042\n",
            "Epoch 25/100\n",
            "1/1 [==============================] - 0s 12ms/step - loss: 10.5814 - mae: 10.5814\n",
            "Epoch 26/100\n",
            "1/1 [==============================] - 0s 12ms/step - loss: 7.1042 - mae: 7.1042\n",
            "Epoch 27/100\n",
            "1/1 [==============================] - 0s 12ms/step - loss: 10.5760 - mae: 10.5760\n",
            "Epoch 28/100\n",
            "1/1 [==============================] - 0s 15ms/step - loss: 7.1042 - mae: 7.1042\n",
            "Epoch 29/100\n",
            "1/1 [==============================] - 0s 14ms/step - loss: 10.5707 - mae: 10.5707\n",
            "Epoch 30/100\n",
            "1/1 [==============================] - 0s 12ms/step - loss: 7.1042 - mae: 7.1042\n",
            "Epoch 31/100\n",
            "1/1 [==============================] - 0s 16ms/step - loss: 10.5653 - mae: 10.5653\n",
            "Epoch 32/100\n",
            "1/1 [==============================] - 0s 16ms/step - loss: 7.1042 - mae: 7.1042\n",
            "Epoch 33/100\n",
            "1/1 [==============================] - 0s 14ms/step - loss: 10.5599 - mae: 10.5599\n",
            "Epoch 34/100\n",
            "1/1 [==============================] - 0s 18ms/step - loss: 7.1042 - mae: 7.1042\n",
            "Epoch 35/100\n",
            "1/1 [==============================] - 0s 17ms/step - loss: 10.5545 - mae: 10.5545\n",
            "Epoch 36/100\n",
            "1/1 [==============================] - 0s 17ms/step - loss: 7.1042 - mae: 7.1042\n",
            "Epoch 37/100\n",
            "1/1 [==============================] - 0s 14ms/step - loss: 10.5491 - mae: 10.5491\n",
            "Epoch 38/100\n",
            "1/1 [==============================] - 0s 14ms/step - loss: 7.1042 - mae: 7.1042\n",
            "Epoch 39/100\n",
            "1/1 [==============================] - 0s 12ms/step - loss: 10.5438 - mae: 10.5438\n",
            "Epoch 40/100\n",
            "1/1 [==============================] - 0s 14ms/step - loss: 7.1042 - mae: 7.1042\n",
            "Epoch 41/100\n",
            "1/1 [==============================] - 0s 14ms/step - loss: 10.5384 - mae: 10.5384\n",
            "Epoch 42/100\n",
            "1/1 [==============================] - 0s 11ms/step - loss: 7.1042 - mae: 7.1042\n",
            "Epoch 43/100\n",
            "1/1 [==============================] - 0s 11ms/step - loss: 10.5330 - mae: 10.5330\n",
            "Epoch 44/100\n",
            "1/1 [==============================] - 0s 13ms/step - loss: 7.1042 - mae: 7.1042\n",
            "Epoch 45/100\n",
            "1/1 [==============================] - 0s 13ms/step - loss: 10.5276 - mae: 10.5276\n",
            "Epoch 46/100\n",
            "1/1 [==============================] - 0s 17ms/step - loss: 7.1042 - mae: 7.1042\n",
            "Epoch 47/100\n",
            "1/1 [==============================] - 0s 17ms/step - loss: 10.5223 - mae: 10.5223\n",
            "Epoch 48/100\n",
            "1/1 [==============================] - 0s 17ms/step - loss: 7.1042 - mae: 7.1042\n",
            "Epoch 49/100\n",
            "1/1 [==============================] - 0s 13ms/step - loss: 10.5169 - mae: 10.5169\n",
            "Epoch 50/100\n",
            "1/1 [==============================] - 0s 16ms/step - loss: 7.1042 - mae: 7.1042\n",
            "Epoch 51/100\n",
            "1/1 [==============================] - 0s 13ms/step - loss: 10.5115 - mae: 10.5115\n",
            "Epoch 52/100\n",
            "1/1 [==============================] - 0s 12ms/step - loss: 7.1042 - mae: 7.1042\n",
            "Epoch 53/100\n",
            "1/1 [==============================] - 0s 12ms/step - loss: 10.5061 - mae: 10.5061\n",
            "Epoch 54/100\n",
            "1/1 [==============================] - 0s 13ms/step - loss: 7.1042 - mae: 7.1042\n",
            "Epoch 55/100\n",
            "1/1 [==============================] - 0s 14ms/step - loss: 10.5008 - mae: 10.5008\n",
            "Epoch 56/100\n",
            "1/1 [==============================] - 0s 13ms/step - loss: 7.1042 - mae: 7.1042\n",
            "Epoch 57/100\n",
            "1/1 [==============================] - 0s 13ms/step - loss: 10.4954 - mae: 10.4954\n",
            "Epoch 58/100\n",
            "1/1 [==============================] - 0s 15ms/step - loss: 7.1042 - mae: 7.1042\n",
            "Epoch 59/100\n",
            "1/1 [==============================] - 0s 14ms/step - loss: 10.4900 - mae: 10.4900\n",
            "Epoch 60/100\n",
            "1/1 [==============================] - 0s 13ms/step - loss: 7.1042 - mae: 7.1042\n",
            "Epoch 61/100\n",
            "1/1 [==============================] - 0s 13ms/step - loss: 10.4846 - mae: 10.4846\n",
            "Epoch 62/100\n",
            "1/1 [==============================] - 0s 16ms/step - loss: 7.1042 - mae: 7.1042\n",
            "Epoch 63/100\n",
            "1/1 [==============================] - 0s 13ms/step - loss: 10.4792 - mae: 10.4792\n",
            "Epoch 64/100\n",
            "1/1 [==============================] - 0s 22ms/step - loss: 7.1042 - mae: 7.1042\n",
            "Epoch 65/100\n",
            "1/1 [==============================] - 0s 15ms/step - loss: 10.4739 - mae: 10.4739\n",
            "Epoch 66/100\n",
            "1/1 [==============================] - 0s 12ms/step - loss: 7.1042 - mae: 7.1042\n",
            "Epoch 67/100\n",
            "1/1 [==============================] - 0s 13ms/step - loss: 10.4685 - mae: 10.4685\n",
            "Epoch 68/100\n",
            "1/1 [==============================] - 0s 13ms/step - loss: 7.1042 - mae: 7.1042\n",
            "Epoch 69/100\n",
            "1/1 [==============================] - 0s 11ms/step - loss: 10.4631 - mae: 10.4631\n",
            "Epoch 70/100\n",
            "1/1 [==============================] - 0s 17ms/step - loss: 7.1042 - mae: 7.1042\n",
            "Epoch 71/100\n",
            "1/1 [==============================] - 0s 12ms/step - loss: 10.4577 - mae: 10.4577\n",
            "Epoch 72/100\n",
            "1/1 [==============================] - 0s 12ms/step - loss: 7.1042 - mae: 7.1042\n",
            "Epoch 73/100\n",
            "1/1 [==============================] - 0s 12ms/step - loss: 10.4523 - mae: 10.4523\n",
            "Epoch 74/100\n",
            "1/1 [==============================] - 0s 12ms/step - loss: 7.1042 - mae: 7.1042\n",
            "Epoch 75/100\n",
            "1/1 [==============================] - 0s 17ms/step - loss: 10.4470 - mae: 10.4470\n",
            "Epoch 76/100\n",
            "1/1 [==============================] - 0s 16ms/step - loss: 7.1042 - mae: 7.1042\n",
            "Epoch 77/100\n",
            "1/1 [==============================] - 0s 14ms/step - loss: 10.4416 - mae: 10.4416\n",
            "Epoch 78/100\n",
            "1/1 [==============================] - 0s 13ms/step - loss: 7.1042 - mae: 7.1042\n",
            "Epoch 79/100\n",
            "1/1 [==============================] - 0s 14ms/step - loss: 10.4362 - mae: 10.4362\n",
            "Epoch 80/100\n",
            "1/1 [==============================] - 0s 14ms/step - loss: 7.1043 - mae: 7.1043\n",
            "Epoch 81/100\n",
            "1/1 [==============================] - 0s 13ms/step - loss: 11.0776 - mae: 11.0776\n",
            "Epoch 82/100\n",
            "1/1 [==============================] - 0s 13ms/step - loss: 7.1047 - mae: 7.1047\n",
            "Epoch 83/100\n",
            "1/1 [==============================] - 0s 16ms/step - loss: 11.0736 - mae: 11.0736\n",
            "Epoch 84/100\n",
            "1/1 [==============================] - 0s 11ms/step - loss: 7.1051 - mae: 7.1051\n",
            "Epoch 85/100\n",
            "1/1 [==============================] - 0s 14ms/step - loss: 11.0696 - mae: 11.0696\n",
            "Epoch 86/100\n",
            "1/1 [==============================] - 0s 12ms/step - loss: 7.1055 - mae: 7.1055\n",
            "Epoch 87/100\n",
            "1/1 [==============================] - 0s 12ms/step - loss: 11.0656 - mae: 11.0656\n",
            "Epoch 88/100\n",
            "1/1 [==============================] - 0s 13ms/step - loss: 7.1059 - mae: 7.1059\n",
            "Epoch 89/100\n",
            "1/1 [==============================] - 0s 13ms/step - loss: 11.0616 - mae: 11.0616\n",
            "Epoch 90/100\n",
            "1/1 [==============================] - 0s 12ms/step - loss: 7.1063 - mae: 7.1063\n",
            "Epoch 91/100\n",
            "1/1 [==============================] - 0s 11ms/step - loss: 11.0576 - mae: 11.0576\n",
            "Epoch 92/100\n",
            "1/1 [==============================] - 0s 13ms/step - loss: 7.1067 - mae: 7.1067\n",
            "Epoch 93/100\n",
            "1/1 [==============================] - 0s 14ms/step - loss: 11.0536 - mae: 11.0536\n",
            "Epoch 94/100\n",
            "1/1 [==============================] - 0s 18ms/step - loss: 7.1071 - mae: 7.1071\n",
            "Epoch 95/100\n",
            "1/1 [==============================] - 0s 20ms/step - loss: 11.0496 - mae: 11.0496\n",
            "Epoch 96/100\n",
            "1/1 [==============================] - 0s 19ms/step - loss: 7.1075 - mae: 7.1075\n",
            "Epoch 97/100\n",
            "1/1 [==============================] - 0s 14ms/step - loss: 11.0456 - mae: 11.0456\n",
            "Epoch 98/100\n",
            "1/1 [==============================] - 0s 12ms/step - loss: 7.1079 - mae: 7.1079\n",
            "Epoch 99/100\n",
            "1/1 [==============================] - 0s 13ms/step - loss: 11.0416 - mae: 11.0416\n",
            "Epoch 100/100\n",
            "1/1 [==============================] - 0s 14ms/step - loss: 7.1083 - mae: 7.1083\n"
          ]
        },
        {
          "output_type": "execute_result",
          "data": {
            "text/plain": [
              "<keras.src.callbacks.History at 0x780283e5cdc0>"
            ]
          },
          "metadata": {},
          "execution_count": 46
        }
      ]
    },
    {
      "cell_type": "code",
      "source": [
        "# make and plot the prediction for model_1\n",
        "y_pred_1 = model_1.predict(x_test)\n",
        "plot_predictions(predictions=y_pred_1)"
      ],
      "metadata": {
        "colab": {
          "base_uri": "https://localhost:8080/",
          "height": 655
        },
        "id": "rjaXauXS7Hj6",
        "outputId": "d1854197-3536-4a99-812c-1e1929abe816"
      },
      "execution_count": null,
      "outputs": [
        {
          "output_type": "stream",
          "name": "stderr",
          "text": [
            "WARNING:tensorflow:5 out of the last 5 calls to <function Model.make_predict_function.<locals>.predict_function at 0x780282981ab0> triggered tf.function retracing. Tracing is expensive and the excessive number of tracings could be due to (1) creating @tf.function repeatedly in a loop, (2) passing tensors with different shapes, (3) passing Python objects instead of tensors. For (1), please define your @tf.function outside of the loop. For (2), @tf.function has reduce_retracing=True option that can avoid unnecessary retracing. For (3), please refer to https://www.tensorflow.org/guide/function#controlling_retracing and https://www.tensorflow.org/api_docs/python/tf/function for  more details.\n"
          ]
        },
        {
          "output_type": "stream",
          "name": "stdout",
          "text": [
            "1/1 [==============================] - 0s 60ms/step\n"
          ]
        },
        {
          "output_type": "display_data",
          "data": {
            "text/plain": [
              "<Figure size 800x700 with 1 Axes>"
            ],
            "image/png": "[encoded data removed]"
          },
          "metadata": {}
        }
      ]
    },
    {
      "cell_type": "code",
      "source": [
        "# calculate model_1 evaluating metrics\n",
        "mae_1 = mae(y_test,y_pred_1)\n",
        "mse_1 = mse(y_test,y_pred_1)\n",
        "mae_1,mse_1"
      ],
      "metadata": {
        "colab": {
          "base_uri": "https://localhost:8080/"
        },
        "id": "wdHyDOgdHEyE",
        "outputId": "19d3f9fa-ff71-41e0-c567-c7e9858b8489"
      },
      "execution_count": null,
      "outputs": [
        {
          "output_type": "execute_result",
          "data": {
            "text/plain": [
              "(<tf.Tensor: shape=(), dtype=float32, numpy=9.984952>,\n",
              " <tf.Tensor: shape=(), dtype=float32, numpy=108.13344>)"
            ]
          },
          "metadata": {},
          "execution_count": 48
        }
      ]
    },
    {
      "cell_type": "markdown",
      "source": [
        "**Build `model_2`**\n",
        "* 2 Dense layers, trained for 100 epochs"
      ],
      "metadata": {
        "id": "xwZ4kSrhJhBY"
      }
    },
    {
      "cell_type": "code",
      "source": [
        "# set random seed\n",
        "tf.random.set_seed(42)\n",
        "\n",
        "# 1. create model\n",
        "model_2 = tf.keras.Sequential([\n",
        "    tf.keras.layers.Dense(10 ,input_shape=[1]),\n",
        "    tf.keras.layers.Dense(1)\n",
        "])\n",
        "\n",
        "# 2. compile model\n",
        "model_2.compile(loss=tf.keras.losses.mae,\n",
        "              optimizer=tf.keras.optimizers.SGD(),\n",
        "              metrics= [\"mae\"])\n",
        "# 3. fit model\n",
        "model_2.fit(x_train,y_train,epochs=100)"
      ],
      "metadata": {
        "colab": {
          "base_uri": "https://localhost:8080/"
        },
        "id": "4cLw55UBIIuU",
        "outputId": "a2c9d0bd-f717-441a-fd48-3624a0d09b48"
      },
      "execution_count": null,
      "outputs": [
        {
          "output_type": "stream",
          "name": "stdout",
          "text": [
            "Epoch 1/100\n",
            "1/1 [==============================] - 0s 437ms/step - loss: 17.8048 - mae: 17.8048\n",
            "Epoch 2/100\n",
            "1/1 [==============================] - 0s 12ms/step - loss: 49.6420 - mae: 49.6420\n",
            "Epoch 3/100\n",
            "1/1 [==============================] - 0s 12ms/step - loss: 26.4284 - mae: 26.4284\n",
            "Epoch 4/100\n",
            "1/1 [==============================] - 0s 12ms/step - loss: 19.8865 - mae: 19.8865\n",
            "Epoch 5/100\n",
            "1/1 [==============================] - 0s 12ms/step - loss: 30.4728 - mae: 30.4728\n",
            "Epoch 6/100\n",
            "1/1 [==============================] - 0s 13ms/step - loss: 4.4925 - mae: 4.4925\n",
            "Epoch 7/100\n",
            "1/1 [==============================] - 0s 14ms/step - loss: 23.5386 - mae: 23.5386\n",
            "Epoch 8/100\n",
            "1/1 [==============================] - 0s 11ms/step - loss: 7.5327 - mae: 7.5327\n",
            "Epoch 9/100\n",
            "1/1 [==============================] - 0s 12ms/step - loss: 19.0486 - mae: 19.0486\n",
            "Epoch 10/100\n",
            "1/1 [==============================] - 0s 11ms/step - loss: 10.2507 - mae: 10.2507\n",
            "Epoch 11/100\n",
            "1/1 [==============================] - 0s 15ms/step - loss: 23.3042 - mae: 23.3042\n",
            "Epoch 12/100\n",
            "1/1 [==============================] - 0s 12ms/step - loss: 3.4674 - mae: 3.4674\n",
            "Epoch 13/100\n",
            "1/1 [==============================] - 0s 12ms/step - loss: 7.2581 - mae: 7.2581\n",
            "Epoch 14/100\n",
            "1/1 [==============================] - 0s 12ms/step - loss: 17.5655 - mae: 17.5655\n",
            "Epoch 15/100\n",
            "1/1 [==============================] - 0s 11ms/step - loss: 9.2440 - mae: 9.2440\n",
            "Epoch 16/100\n",
            "1/1 [==============================] - 0s 11ms/step - loss: 21.2023 - mae: 21.2023\n",
            "Epoch 17/100\n",
            "1/1 [==============================] - 0s 13ms/step - loss: 4.0550 - mae: 4.0550\n",
            "Epoch 18/100\n",
            "1/1 [==============================] - 0s 12ms/step - loss: 19.6162 - mae: 19.6162\n",
            "Epoch 19/100\n",
            "1/1 [==============================] - 0s 11ms/step - loss: 5.7924 - mae: 5.7924\n",
            "Epoch 20/100\n",
            "1/1 [==============================] - 0s 12ms/step - loss: 18.1086 - mae: 18.1086\n",
            "Epoch 21/100\n",
            "1/1 [==============================] - 0s 11ms/step - loss: 7.3228 - mae: 7.3228\n",
            "Epoch 22/100\n",
            "1/1 [==============================] - 0s 12ms/step - loss: 16.8207 - mae: 16.8207\n",
            "Epoch 23/100\n",
            "1/1 [==============================] - 0s 13ms/step - loss: 9.1322 - mae: 9.1322\n",
            "Epoch 24/100\n",
            "1/1 [==============================] - 0s 13ms/step - loss: 20.7682 - mae: 20.7682\n",
            "Epoch 25/100\n",
            "1/1 [==============================] - 0s 13ms/step - loss: 3.9135 - mae: 3.9135\n",
            "Epoch 26/100\n",
            "1/1 [==============================] - 0s 11ms/step - loss: 19.4620 - mae: 19.4620\n",
            "Epoch 27/100\n",
            "1/1 [==============================] - 0s 11ms/step - loss: 5.5865 - mae: 5.5865\n",
            "Epoch 28/100\n",
            "1/1 [==============================] - 0s 13ms/step - loss: 18.1044 - mae: 18.1044\n",
            "Epoch 29/100\n",
            "1/1 [==============================] - 0s 11ms/step - loss: 7.0838 - mae: 7.0838\n",
            "Epoch 30/100\n",
            "1/1 [==============================] - 0s 10ms/step - loss: 16.8950 - mae: 16.8950\n",
            "Epoch 31/100\n",
            "1/1 [==============================] - 0s 12ms/step - loss: 8.8304 - mae: 8.8304\n",
            "Epoch 32/100\n",
            "1/1 [==============================] - 0s 11ms/step - loss: 20.8499 - mae: 20.8499\n",
            "Epoch 33/100\n",
            "1/1 [==============================] - 0s 11ms/step - loss: 3.6921 - mae: 3.6921\n",
            "Epoch 34/100\n",
            "1/1 [==============================] - 0s 9ms/step - loss: 19.5731 - mae: 19.5731\n",
            "Epoch 35/100\n",
            "1/1 [==============================] - 0s 13ms/step - loss: 5.3572 - mae: 5.3572\n",
            "Epoch 36/100\n",
            "1/1 [==============================] - 0s 13ms/step - loss: 18.2263 - mae: 18.2263\n",
            "Epoch 37/100\n",
            "1/1 [==============================] - 0s 11ms/step - loss: 6.8522 - mae: 6.8522\n",
            "Epoch 38/100\n",
            "1/1 [==============================] - 0s 12ms/step - loss: 17.0235 - mae: 17.0235\n",
            "Epoch 39/100\n",
            "1/1 [==============================] - 0s 11ms/step - loss: 8.5624 - mae: 8.5624\n",
            "Epoch 40/100\n",
            "1/1 [==============================] - 0s 11ms/step - loss: 19.4902 - mae: 19.4902\n",
            "Epoch 41/100\n",
            "1/1 [==============================] - 0s 10ms/step - loss: 5.4277 - mae: 5.4277\n",
            "Epoch 42/100\n",
            "1/1 [==============================] - 0s 12ms/step - loss: 18.1320 - mae: 18.1320\n",
            "Epoch 43/100\n",
            "1/1 [==============================] - 0s 11ms/step - loss: 6.9364 - mae: 6.9364\n",
            "Epoch 44/100\n",
            "1/1 [==============================] - 0s 11ms/step - loss: 16.9181 - mae: 16.9181\n",
            "Epoch 45/100\n",
            "1/1 [==============================] - 0s 14ms/step - loss: 8.7136 - mae: 8.7136\n",
            "Epoch 46/100\n",
            "1/1 [==============================] - 0s 10ms/step - loss: 20.8688 - mae: 20.8688\n",
            "Epoch 47/100\n",
            "1/1 [==============================] - 0s 10ms/step - loss: 3.5804 - mae: 3.5804\n",
            "Epoch 48/100\n",
            "1/1 [==============================] - 0s 11ms/step - loss: 19.5819 - mae: 19.5819\n",
            "Epoch 49/100\n",
            "1/1 [==============================] - 0s 25ms/step - loss: 5.2608 - mae: 5.2608\n",
            "Epoch 50/100\n",
            "1/1 [==============================] - 0s 15ms/step - loss: 18.2166 - mae: 18.2166\n",
            "Epoch 51/100\n",
            "1/1 [==============================] - 0s 15ms/step - loss: 6.7741 - mae: 6.7741\n",
            "Epoch 52/100\n",
            "1/1 [==============================] - 0s 16ms/step - loss: 16.9983 - mae: 16.9983\n",
            "Epoch 53/100\n",
            "1/1 [==============================] - 0s 14ms/step - loss: 8.5415 - mae: 8.5415\n",
            "Epoch 54/100\n",
            "1/1 [==============================] - 0s 15ms/step - loss: 20.9351 - mae: 20.9351\n",
            "Epoch 55/100\n",
            "1/1 [==============================] - 0s 16ms/step - loss: 3.4486 - mae: 3.4486\n",
            "Epoch 56/100\n",
            "1/1 [==============================] - 0s 18ms/step - loss: 19.6441 - mae: 19.6441\n",
            "Epoch 57/100\n",
            "1/1 [==============================] - 0s 19ms/step - loss: 5.1337 - mae: 5.1337\n",
            "Epoch 58/100\n",
            "1/1 [==============================] - 0s 20ms/step - loss: 18.2698 - mae: 18.2698\n",
            "Epoch 59/100\n",
            "1/1 [==============================] - 0s 19ms/step - loss: 6.6537 - mae: 6.6537\n",
            "Epoch 60/100\n",
            "1/1 [==============================] - 0s 20ms/step - loss: 17.0455 - mae: 17.0455\n",
            "Epoch 61/100\n",
            "1/1 [==============================] - 0s 16ms/step - loss: 8.4264 - mae: 8.4264\n",
            "Epoch 62/100\n",
            "1/1 [==============================] - 0s 20ms/step - loss: 20.9734 - mae: 20.9734\n",
            "Epoch 63/100\n",
            "1/1 [==============================] - 0s 16ms/step - loss: 3.3537 - mae: 3.3537\n",
            "Epoch 64/100\n",
            "1/1 [==============================] - 0s 17ms/step - loss: 19.6764 - mae: 19.6764\n",
            "Epoch 65/100\n",
            "1/1 [==============================] - 0s 16ms/step - loss: 5.0459 - mae: 5.0459\n",
            "Epoch 66/100\n",
            "1/1 [==============================] - 0s 13ms/step - loss: 18.2946 - mae: 18.2946\n",
            "Epoch 67/100\n",
            "1/1 [==============================] - 0s 11ms/step - loss: 6.8490 - mae: 6.8490\n",
            "Epoch 68/100\n",
            "1/1 [==============================] - 0s 12ms/step - loss: 16.8418 - mae: 16.8418\n",
            "Epoch 69/100\n",
            "1/1 [==============================] - 0s 15ms/step - loss: 8.7405 - mae: 8.7405\n",
            "Epoch 70/100\n",
            "1/1 [==============================] - 0s 11ms/step - loss: 20.7993 - mae: 20.7993\n",
            "Epoch 71/100\n",
            "1/1 [==============================] - 0s 13ms/step - loss: 3.5386 - mae: 3.5386\n",
            "Epoch 72/100\n",
            "1/1 [==============================] - 0s 18ms/step - loss: 19.4828 - mae: 19.4828\n",
            "Epoch 73/100\n",
            "1/1 [==============================] - 0s 18ms/step - loss: 5.2555 - mae: 5.2555\n",
            "Epoch 74/100\n",
            "1/1 [==============================] - 0s 16ms/step - loss: 18.0801 - mae: 18.0801\n",
            "Epoch 75/100\n",
            "1/1 [==============================] - 0s 19ms/step - loss: 7.0852 - mae: 7.0852\n",
            "Epoch 76/100\n",
            "1/1 [==============================] - 0s 19ms/step - loss: 16.6051 - mae: 16.6051\n",
            "Epoch 77/100\n",
            "1/1 [==============================] - 0s 19ms/step - loss: 9.1295 - mae: 9.1295\n",
            "Epoch 78/100\n",
            "1/1 [==============================] - 0s 21ms/step - loss: 21.8418 - mae: 21.8418\n",
            "Epoch 79/100\n",
            "1/1 [==============================] - 0s 20ms/step - loss: 3.5244 - mae: 3.5244\n",
            "Epoch 80/100\n",
            "1/1 [==============================] - 0s 23ms/step - loss: 19.4605 - mae: 19.4605\n",
            "Epoch 81/100\n",
            "1/1 [==============================] - 0s 24ms/step - loss: 20.5299 - mae: 20.5299\n",
            "Epoch 82/100\n",
            "1/1 [==============================] - 0s 15ms/step - loss: 3.8388 - mae: 3.8388\n",
            "Epoch 83/100\n",
            "1/1 [==============================] - 0s 17ms/step - loss: 19.1860 - mae: 19.1860\n",
            "Epoch 84/100\n",
            "1/1 [==============================] - 0s 15ms/step - loss: 5.5907 - mae: 5.5907\n",
            "Epoch 85/100\n",
            "1/1 [==============================] - 0s 15ms/step - loss: 17.7537 - mae: 17.7537\n",
            "Epoch 86/100\n",
            "1/1 [==============================] - 0s 19ms/step - loss: 7.5101 - mae: 7.5101\n",
            "Epoch 87/100\n",
            "1/1 [==============================] - 0s 19ms/step - loss: 19.9448 - mae: 19.9448\n",
            "Epoch 88/100\n",
            "1/1 [==============================] - 0s 17ms/step - loss: 4.5737 - mae: 4.5737\n",
            "Epoch 89/100\n",
            "1/1 [==============================] - 0s 17ms/step - loss: 18.5570 - mae: 18.5570\n",
            "Epoch 90/100\n",
            "1/1 [==============================] - 0s 13ms/step - loss: 6.3824 - mae: 6.3824\n",
            "Epoch 91/100\n",
            "1/1 [==============================] - 0s 13ms/step - loss: 17.0844 - mae: 17.0844\n",
            "Epoch 92/100\n",
            "1/1 [==============================] - 0s 16ms/step - loss: 8.2343 - mae: 8.2343\n",
            "Epoch 93/100\n",
            "1/1 [==============================] - 0s 19ms/step - loss: 21.0003 - mae: 21.0003\n",
            "Epoch 94/100\n",
            "1/1 [==============================] - 0s 23ms/step - loss: 3.1570 - mae: 3.1570\n",
            "Epoch 95/100\n",
            "1/1 [==============================] - 0s 23ms/step - loss: 19.6742 - mae: 19.6742\n",
            "Epoch 96/100\n",
            "1/1 [==============================] - 0s 20ms/step - loss: 4.8843 - mae: 4.8843\n",
            "Epoch 97/100\n",
            "1/1 [==============================] - 0s 15ms/step - loss: 18.2604 - mae: 18.2604\n",
            "Epoch 98/100\n",
            "1/1 [==============================] - 0s 14ms/step - loss: 6.7261 - mae: 6.7261\n",
            "Epoch 99/100\n",
            "1/1 [==============================] - 0s 12ms/step - loss: 16.7617 - mae: 16.7617\n",
            "Epoch 100/100\n",
            "1/1 [==============================] - 0s 12ms/step - loss: 8.7686 - mae: 8.7686\n"
          ]
        },
        {
          "output_type": "execute_result",
          "data": {
            "text/plain": [
              "<keras.src.callbacks.History at 0x780283dd8f10>"
            ]
          },
          "metadata": {},
          "execution_count": 49
        }
      ]
    },
    {
      "cell_type": "code",
      "source": [
        "# make and plot predictions for model_2\n",
        "y_pred_2 = model_2.predict(x_test)\n",
        "plot_predictions(predictions = y_pred_2)"
      ],
      "metadata": {
        "colab": {
          "base_uri": "https://localhost:8080/",
          "height": 655
        },
        "id": "UZQka4q_KRt8",
        "outputId": "4e27c408-6285-42ec-8483-0bfbe70d53d4"
      },
      "execution_count": null,
      "outputs": [
        {
          "output_type": "stream",
          "name": "stderr",
          "text": [
            "WARNING:tensorflow:6 out of the last 6 calls to <function Model.make_predict_function.<locals>.predict_function at 0x780283d8a4d0> triggered tf.function retracing. Tracing is expensive and the excessive number of tracings could be due to (1) creating @tf.function repeatedly in a loop, (2) passing tensors with different shapes, (3) passing Python objects instead of tensors. For (1), please define your @tf.function outside of the loop. For (2), @tf.function has reduce_retracing=True option that can avoid unnecessary retracing. For (3), please refer to https://www.tensorflow.org/guide/function#controlling_retracing and https://www.tensorflow.org/api_docs/python/tf/function for  more details.\n"
          ]
        },
        {
          "output_type": "stream",
          "name": "stdout",
          "text": [
            "1/1 [==============================] - 0s 103ms/step\n"
          ]
        },
        {
          "output_type": "display_data",
          "data": {
            "text/plain": [
              "<Figure size 800x700 with 1 Axes>"
            ],
            "image/png": "[encoded data removed]"
          },
          "metadata": {}
        }
      ]
    },
    {
      "cell_type": "code",
      "source": [
        "# Let's calculate the mae and mse for model_2\n",
        "mae_2 = mae(y_test,y_pred_2)\n",
        "mse_2 = mse(y_test,y_pred)\n",
        "mae_2,mse_2"
      ],
      "metadata": {
        "colab": {
          "base_uri": "https://localhost:8080/"
        },
        "id": "1uhx8lZpNmh8",
        "outputId": "198b0a07-9dd6-4cea-abe6-98cd72afe560"
      },
      "execution_count": null,
      "outputs": [
        {
          "output_type": "execute_result",
          "data": {
            "text/plain": [
              "(<tf.Tensor: shape=(), dtype=float32, numpy=44.18055>,\n",
              " <tf.Tensor: shape=(), dtype=float32, numpy=369.4527>)"
            ]
          },
          "metadata": {},
          "execution_count": 51
        }
      ]
    },
    {
      "cell_type": "markdown",
      "source": [
        "**Build `model_3`**\n",
        "\n",
        "* 2 Dense layers , trained for 500 epochs"
      ],
      "metadata": {
        "id": "5uzKKodjONGy"
      }
    },
    {
      "cell_type": "code",
      "source": [
        "# set random seed\n",
        "tf.random.set_seed(42)\n",
        "\n",
        "# 1. create model\n",
        "model_3 = tf.keras.Sequential([\n",
        "    tf.keras.layers.Dense(10 ,input_shape=[1]),\n",
        "    tf.keras.layers.Dense(1)\n",
        "])\n",
        "\n",
        "# 2. compile model\n",
        "model_3.compile(loss=tf.keras.losses.mae,\n",
        "              optimizer=tf.keras.optimizers.SGD(),\n",
        "              metrics= [\"mae\"])\n",
        "# 3. fit model\n",
        "model_3.fit(x_train,y_train,epochs=500)"
      ],
      "metadata": {
        "colab": {
          "base_uri": "https://localhost:8080/"
        },
        "id": "g-i8JSK0OHO1",
        "outputId": "93a0a2a7-3967-436a-d4e2-507faa34d5ea"
      },
      "execution_count": null,
      "outputs": [
        {
          "output_type": "stream",
          "name": "stdout",
          "text": [
            "Epoch 1/500\n",
            "1/1 [==============================] - 1s 632ms/step - loss: 12.5632 - mae: 12.5632\n",
            "Epoch 2/500\n",
            "1/1 [==============================] - 0s 13ms/step - loss: 68.6289 - mae: 68.6289\n",
            "Epoch 3/500\n",
            "1/1 [==============================] - 0s 16ms/step - loss: 24.4397 - mae: 24.4397\n",
            "Epoch 4/500\n",
            "1/1 [==============================] - 0s 15ms/step - loss: 32.3903 - mae: 32.3903\n",
            "Epoch 5/500\n",
            "1/1 [==============================] - 0s 14ms/step - loss: 29.7522 - mae: 29.7522\n",
            "Epoch 6/500\n",
            "1/1 [==============================] - 0s 18ms/step - loss: 9.5982 - mae: 9.5982\n",
            "Epoch 7/500\n",
            "1/1 [==============================] - 0s 20ms/step - loss: 27.9648 - mae: 27.9648\n",
            "Epoch 8/500\n",
            "1/1 [==============================] - 0s 14ms/step - loss: 5.0300 - mae: 5.0300\n",
            "Epoch 9/500\n",
            "1/1 [==============================] - 0s 14ms/step - loss: 22.1723 - mae: 22.1723\n",
            "Epoch 10/500\n",
            "1/1 [==============================] - 0s 13ms/step - loss: 7.8243 - mae: 7.8243\n",
            "Epoch 11/500\n",
            "1/1 [==============================] - 0s 21ms/step - loss: 18.3133 - mae: 18.3133\n",
            "Epoch 12/500\n",
            "1/1 [==============================] - 0s 13ms/step - loss: 10.4798 - mae: 10.4798\n",
            "Epoch 13/500\n",
            "1/1 [==============================] - 0s 16ms/step - loss: 22.8192 - mae: 22.8192\n",
            "Epoch 14/500\n",
            "1/1 [==============================] - 0s 15ms/step - loss: 3.4484 - mae: 3.4484\n",
            "Epoch 15/500\n",
            "1/1 [==============================] - 0s 15ms/step - loss: 4.5619 - mae: 4.5619\n",
            "Epoch 16/500\n",
            "1/1 [==============================] - 0s 18ms/step - loss: 19.6130 - mae: 19.6130\n",
            "Epoch 17/500\n",
            "1/1 [==============================] - 0s 18ms/step - loss: 6.4483 - mae: 6.4483\n",
            "Epoch 18/500\n",
            "1/1 [==============================] - 0s 14ms/step - loss: 17.8119 - mae: 17.8119\n",
            "Epoch 19/500\n",
            "1/1 [==============================] - 0s 14ms/step - loss: 8.0931 - mae: 8.0931\n",
            "Epoch 20/500\n",
            "1/1 [==============================] - 0s 15ms/step - loss: 18.3513 - mae: 18.3513\n",
            "Epoch 21/500\n",
            "1/1 [==============================] - 0s 17ms/step - loss: 7.1108 - mae: 7.1108\n",
            "Epoch 22/500\n",
            "1/1 [==============================] - 0s 13ms/step - loss: 17.0275 - mae: 17.0275\n",
            "Epoch 23/500\n",
            "1/1 [==============================] - 0s 14ms/step - loss: 8.8562 - mae: 8.8562\n",
            "Epoch 24/500\n",
            "1/1 [==============================] - 0s 19ms/step - loss: 20.9318 - mae: 20.9318\n",
            "Epoch 25/500\n",
            "1/1 [==============================] - 0s 16ms/step - loss: 3.7374 - mae: 3.7374\n",
            "Epoch 26/500\n",
            "1/1 [==============================] - 0s 13ms/step - loss: 19.6184 - mae: 19.6184\n",
            "Epoch 27/500\n",
            "1/1 [==============================] - 0s 13ms/step - loss: 5.4025 - mae: 5.4025\n",
            "Epoch 28/500\n",
            "1/1 [==============================] - 0s 18ms/step - loss: 18.2591 - mae: 18.2591\n",
            "Epoch 29/500\n",
            "1/1 [==============================] - 0s 16ms/step - loss: 6.8913 - mae: 6.8913\n",
            "Epoch 30/500\n",
            "1/1 [==============================] - 0s 12ms/step - loss: 17.0536 - mae: 17.0536\n",
            "Epoch 31/500\n",
            "1/1 [==============================] - 0s 15ms/step - loss: 8.5761 - mae: 8.5761\n",
            "Epoch 32/500\n",
            "1/1 [==============================] - 0s 16ms/step - loss: 19.5162 - mae: 19.5162\n",
            "Epoch 33/500\n",
            "1/1 [==============================] - 0s 11ms/step - loss: 5.4510 - mae: 5.4510\n",
            "Epoch 34/500\n",
            "1/1 [==============================] - 0s 14ms/step - loss: 18.1669 - mae: 18.1669\n",
            "Epoch 35/500\n",
            "1/1 [==============================] - 0s 14ms/step - loss: 6.9477 - mae: 6.9477\n",
            "Epoch 36/500\n",
            "1/1 [==============================] - 0s 13ms/step - loss: 16.9619 - mae: 16.9619\n",
            "Epoch 37/500\n",
            "1/1 [==============================] - 0s 13ms/step - loss: 8.6785 - mae: 8.6785\n",
            "Epoch 38/500\n",
            "1/1 [==============================] - 0s 17ms/step - loss: 20.9072 - mae: 20.9072\n",
            "Epoch 39/500\n",
            "1/1 [==============================] - 0s 12ms/step - loss: 3.5781 - mae: 3.5781\n",
            "Epoch 40/500\n",
            "1/1 [==============================] - 0s 12ms/step - loss: 19.6308 - mae: 19.6308\n",
            "Epoch 41/500\n",
            "1/1 [==============================] - 0s 12ms/step - loss: 5.2447 - mae: 5.2447\n",
            "Epoch 42/500\n",
            "1/1 [==============================] - 0s 15ms/step - loss: 18.2798 - mae: 18.2798\n",
            "Epoch 43/500\n",
            "1/1 [==============================] - 0s 13ms/step - loss: 6.7429 - mae: 6.7429\n",
            "Epoch 44/500\n",
            "1/1 [==============================] - 0s 13ms/step - loss: 17.0743 - mae: 17.0743\n",
            "Epoch 45/500\n",
            "1/1 [==============================] - 0s 14ms/step - loss: 8.4509 - mae: 8.4509\n",
            "Epoch 46/500\n",
            "1/1 [==============================] - 0s 14ms/step - loss: 19.5348 - mae: 19.5348\n",
            "Epoch 47/500\n",
            "1/1 [==============================] - 0s 14ms/step - loss: 5.3351 - mae: 5.3351\n",
            "Epoch 48/500\n",
            "1/1 [==============================] - 0s 12ms/step - loss: 18.1705 - mae: 18.1705\n",
            "Epoch 49/500\n",
            "1/1 [==============================] - 0s 11ms/step - loss: 6.8485 - mae: 6.8485\n",
            "Epoch 50/500\n",
            "1/1 [==============================] - 0s 11ms/step - loss: 16.9525 - mae: 16.9525\n",
            "Epoch 51/500\n",
            "1/1 [==============================] - 0s 13ms/step - loss: 8.6293 - mae: 8.6293\n",
            "Epoch 52/500\n",
            "1/1 [==============================] - 0s 11ms/step - loss: 20.8969 - mae: 20.8969\n",
            "Epoch 53/500\n",
            "1/1 [==============================] - 0s 12ms/step - loss: 3.5107 - mae: 3.5107\n",
            "Epoch 54/500\n",
            "1/1 [==============================] - 0s 13ms/step - loss: 19.6059 - mae: 19.6059\n",
            "Epoch 55/500\n",
            "1/1 [==============================] - 0s 15ms/step - loss: 5.1960 - mae: 5.1960\n",
            "Epoch 56/500\n",
            "1/1 [==============================] - 0s 15ms/step - loss: 18.2333 - mae: 18.2333\n",
            "Epoch 57/500\n",
            "1/1 [==============================] - 0s 12ms/step - loss: 6.7154 - mae: 6.7154\n",
            "Epoch 58/500\n",
            "1/1 [==============================] - 0s 14ms/step - loss: 17.0096 - mae: 17.0096\n",
            "Epoch 59/500\n",
            "1/1 [==============================] - 0s 13ms/step - loss: 8.4970 - mae: 8.4970\n",
            "Epoch 60/500\n",
            "1/1 [==============================] - 0s 13ms/step - loss: 20.9437 - mae: 20.9437\n",
            "Epoch 61/500\n",
            "1/1 [==============================] - 0s 11ms/step - loss: 3.4047 - mae: 3.4047\n",
            "Epoch 62/500\n",
            "1/1 [==============================] - 0s 15ms/step - loss: 19.6473 - mae: 19.6473\n",
            "Epoch 63/500\n",
            "1/1 [==============================] - 0s 16ms/step - loss: 5.0964 - mae: 5.0964\n",
            "Epoch 64/500\n",
            "1/1 [==============================] - 0s 13ms/step - loss: 18.2661 - mae: 18.2661\n",
            "Epoch 65/500\n",
            "1/1 [==============================] - 0s 12ms/step - loss: 6.8989 - mae: 6.8989\n",
            "Epoch 66/500\n",
            "1/1 [==============================] - 0s 12ms/step - loss: 16.8154 - mae: 16.8154\n",
            "Epoch 67/500\n",
            "1/1 [==============================] - 0s 9ms/step - loss: 8.7950 - mae: 8.7950\n",
            "Epoch 68/500\n",
            "1/1 [==============================] - 0s 12ms/step - loss: 20.7776 - mae: 20.7776\n",
            "Epoch 69/500\n",
            "1/1 [==============================] - 0s 12ms/step - loss: 3.5791 - mae: 3.5791\n",
            "Epoch 70/500\n",
            "1/1 [==============================] - 0s 10ms/step - loss: 19.4622 - mae: 19.4622\n",
            "Epoch 71/500\n",
            "1/1 [==============================] - 0s 13ms/step - loss: 5.2947 - mae: 5.2947\n",
            "Epoch 72/500\n",
            "1/1 [==============================] - 0s 12ms/step - loss: 18.0607 - mae: 18.0607\n",
            "Epoch 73/500\n",
            "1/1 [==============================] - 0s 13ms/step - loss: 7.1231 - mae: 7.1231\n",
            "Epoch 74/500\n",
            "1/1 [==============================] - 0s 10ms/step - loss: 16.5883 - mae: 16.5883\n",
            "Epoch 75/500\n",
            "1/1 [==============================] - 0s 19ms/step - loss: 9.1680 - mae: 9.1680\n",
            "Epoch 76/500\n",
            "1/1 [==============================] - 0s 20ms/step - loss: 21.8288 - mae: 21.8288\n",
            "Epoch 77/500\n",
            "1/1 [==============================] - 0s 13ms/step - loss: 3.5180 - mae: 3.5180\n",
            "Epoch 78/500\n",
            "1/1 [==============================] - 0s 13ms/step - loss: 19.4992 - mae: 19.4992\n",
            "Epoch 79/500\n",
            "1/1 [==============================] - 0s 13ms/step - loss: 20.5177 - mae: 20.5177\n",
            "Epoch 80/500\n",
            "1/1 [==============================] - 0s 12ms/step - loss: 3.8669 - mae: 3.8669\n",
            "Epoch 81/500\n",
            "1/1 [==============================] - 0s 12ms/step - loss: 19.1754 - mae: 19.1754\n",
            "Epoch 82/500\n",
            "1/1 [==============================] - 0s 15ms/step - loss: 5.6168 - mae: 5.6168\n",
            "Epoch 83/500\n",
            "1/1 [==============================] - 0s 14ms/step - loss: 17.7450 - mae: 17.7450\n",
            "Epoch 84/500\n",
            "1/1 [==============================] - 0s 12ms/step - loss: 7.5334 - mae: 7.5334\n",
            "Epoch 85/500\n",
            "1/1 [==============================] - 0s 15ms/step - loss: 19.9386 - mae: 19.9386\n",
            "Epoch 86/500\n",
            "1/1 [==============================] - 0s 12ms/step - loss: 4.5939 - mae: 4.5939\n",
            "Epoch 87/500\n",
            "1/1 [==============================] - 0s 14ms/step - loss: 18.5529 - mae: 18.5529\n",
            "Epoch 88/500\n",
            "1/1 [==============================] - 0s 16ms/step - loss: 6.4001 - mae: 6.4001\n",
            "Epoch 89/500\n",
            "1/1 [==============================] - 0s 12ms/step - loss: 17.0836 - mae: 17.0836\n",
            "Epoch 90/500\n",
            "1/1 [==============================] - 0s 12ms/step - loss: 8.2451 - mae: 8.2451\n",
            "Epoch 91/500\n",
            "1/1 [==============================] - 0s 17ms/step - loss: 21.0002 - mae: 21.0002\n",
            "Epoch 92/500\n",
            "1/1 [==============================] - 0s 12ms/step - loss: 3.1690 - mae: 3.1690\n",
            "Epoch 93/500\n",
            "1/1 [==============================] - 0s 14ms/step - loss: 19.6765 - mae: 19.6765\n",
            "Epoch 94/500\n",
            "1/1 [==============================] - 0s 12ms/step - loss: 4.8934 - mae: 4.8934\n",
            "Epoch 95/500\n",
            "1/1 [==============================] - 0s 15ms/step - loss: 18.2655 - mae: 18.2655\n",
            "Epoch 96/500\n",
            "1/1 [==============================] - 0s 15ms/step - loss: 6.7319 - mae: 6.7319\n",
            "Epoch 97/500\n",
            "1/1 [==============================] - 0s 12ms/step - loss: 16.7704 - mae: 16.7704\n",
            "Epoch 98/500\n",
            "1/1 [==============================] - 0s 12ms/step - loss: 8.7609 - mae: 8.7609\n",
            "Epoch 99/500\n",
            "1/1 [==============================] - 0s 12ms/step - loss: 21.9721 - mae: 21.9721\n",
            "Epoch 100/500\n",
            "1/1 [==============================] - 0s 14ms/step - loss: 3.6064 - mae: 3.6064\n",
            "Epoch 101/500\n",
            "1/1 [==============================] - 0s 17ms/step - loss: 22.2698 - mae: 22.2698\n",
            "Epoch 102/500\n",
            "1/1 [==============================] - 0s 23ms/step - loss: 20.0482 - mae: 20.0482\n",
            "Epoch 103/500\n",
            "1/1 [==============================] - 0s 16ms/step - loss: 4.3654 - mae: 4.3654\n",
            "Epoch 104/500\n",
            "1/1 [==============================] - 0s 15ms/step - loss: 18.6533 - mae: 18.6533\n",
            "Epoch 105/500\n",
            "1/1 [==============================] - 0s 11ms/step - loss: 6.1821 - mae: 6.1821\n",
            "Epoch 106/500\n",
            "1/1 [==============================] - 0s 13ms/step - loss: 17.1661 - mae: 17.1661\n",
            "Epoch 107/500\n",
            "1/1 [==============================] - 0s 13ms/step - loss: 8.4102 - mae: 8.4102\n",
            "Epoch 108/500\n",
            "1/1 [==============================] - 0s 12ms/step - loss: 22.1145 - mae: 22.1145\n",
            "Epoch 109/500\n",
            "1/1 [==============================] - 0s 13ms/step - loss: 3.7710 - mae: 3.7710\n",
            "Epoch 110/500\n",
            "1/1 [==============================] - 0s 13ms/step - loss: 24.7449 - mae: 24.7449\n",
            "Epoch 111/500\n",
            "1/1 [==============================] - 0s 11ms/step - loss: 19.2179 - mae: 19.2179\n",
            "Epoch 112/500\n",
            "1/1 [==============================] - 0s 13ms/step - loss: 5.4146 - mae: 5.4146\n",
            "Epoch 113/500\n",
            "1/1 [==============================] - 0s 18ms/step - loss: 17.7617 - mae: 17.7617\n",
            "Epoch 114/500\n",
            "1/1 [==============================] - 0s 15ms/step - loss: 7.3948 - mae: 7.3948\n",
            "Epoch 115/500\n",
            "1/1 [==============================] - 0s 15ms/step - loss: 19.9356 - mae: 19.9356\n",
            "Epoch 116/500\n",
            "1/1 [==============================] - 0s 11ms/step - loss: 4.4529 - mae: 4.4529\n",
            "Epoch 117/500\n",
            "1/1 [==============================] - 0s 14ms/step - loss: 18.5217 - mae: 18.5217\n",
            "Epoch 118/500\n",
            "1/1 [==============================] - 0s 16ms/step - loss: 6.2933 - mae: 6.2933\n",
            "Epoch 119/500\n",
            "1/1 [==============================] - 0s 15ms/step - loss: 17.0139 - mae: 17.0139\n",
            "Epoch 120/500\n",
            "1/1 [==============================] - 0s 13ms/step - loss: 8.6508 - mae: 8.6508\n",
            "Epoch 121/500\n",
            "1/1 [==============================] - 0s 14ms/step - loss: 21.9901 - mae: 21.9901\n",
            "Epoch 122/500\n",
            "1/1 [==============================] - 0s 10ms/step - loss: 3.5617 - mae: 3.5617\n",
            "Epoch 123/500\n",
            "1/1 [==============================] - 0s 12ms/step - loss: 22.2348 - mae: 22.2348\n",
            "Epoch 124/500\n",
            "1/1 [==============================] - 0s 13ms/step - loss: 20.0566 - mae: 20.0566\n",
            "Epoch 125/500\n",
            "1/1 [==============================] - 0s 11ms/step - loss: 4.2549 - mae: 4.2549\n",
            "Epoch 126/500\n",
            "1/1 [==============================] - 0s 13ms/step - loss: 18.6429 - mae: 18.6429\n",
            "Epoch 127/500\n",
            "1/1 [==============================] - 0s 12ms/step - loss: 6.0943 - mae: 6.0943\n",
            "Epoch 128/500\n",
            "1/1 [==============================] - 0s 12ms/step - loss: 17.1350 - mae: 17.1350\n",
            "Epoch 129/500\n",
            "1/1 [==============================] - 0s 15ms/step - loss: 8.4124 - mae: 8.4124\n",
            "Epoch 130/500\n",
            "1/1 [==============================] - 0s 12ms/step - loss: 22.0832 - mae: 22.0832\n",
            "Epoch 131/500\n",
            "1/1 [==============================] - 0s 13ms/step - loss: 3.6614 - mae: 3.6614\n",
            "Epoch 132/500\n",
            "1/1 [==============================] - 0s 13ms/step - loss: 24.8781 - mae: 24.8781\n",
            "Epoch 133/500\n",
            "1/1 [==============================] - 0s 12ms/step - loss: 19.1697 - mae: 19.1697\n",
            "Epoch 134/500\n",
            "1/1 [==============================] - 0s 13ms/step - loss: 5.3769 - mae: 5.3769\n",
            "Epoch 135/500\n",
            "1/1 [==============================] - 0s 15ms/step - loss: 17.6907 - mae: 17.6907\n",
            "Epoch 136/500\n",
            "1/1 [==============================] - 0s 11ms/step - loss: 7.4355 - mae: 7.4355\n",
            "Epoch 137/500\n",
            "1/1 [==============================] - 0s 11ms/step - loss: 21.3138 - mae: 21.3138\n",
            "Epoch 138/500\n",
            "1/1 [==============================] - 0s 13ms/step - loss: 2.8674 - mae: 2.8674\n",
            "Epoch 139/500\n",
            "1/1 [==============================] - 0s 11ms/step - loss: 6.6429 - mae: 6.6429\n",
            "Epoch 140/500\n",
            "1/1 [==============================] - 0s 12ms/step - loss: 18.6205 - mae: 18.6205\n",
            "Epoch 141/500\n",
            "1/1 [==============================] - 0s 12ms/step - loss: 6.0559 - mae: 6.0559\n",
            "Epoch 142/500\n",
            "1/1 [==============================] - 0s 14ms/step - loss: 17.0973 - mae: 17.0973\n",
            "Epoch 143/500\n",
            "1/1 [==============================] - 0s 13ms/step - loss: 8.4449 - mae: 8.4449\n",
            "Epoch 144/500\n",
            "1/1 [==============================] - 0s 11ms/step - loss: 22.0489 - mae: 22.0489\n",
            "Epoch 145/500\n",
            "1/1 [==============================] - 0s 12ms/step - loss: 3.5669 - mae: 3.5669\n",
            "Epoch 146/500\n",
            "1/1 [==============================] - 0s 11ms/step - loss: 25.0157 - mae: 25.0157\n",
            "Epoch 147/500\n",
            "1/1 [==============================] - 0s 12ms/step - loss: 19.1216 - mae: 19.1216\n",
            "Epoch 148/500\n",
            "1/1 [==============================] - 0s 14ms/step - loss: 5.3719 - mae: 5.3719\n",
            "Epoch 149/500\n",
            "1/1 [==============================] - 0s 12ms/step - loss: 17.6260 - mae: 17.6260\n",
            "Epoch 150/500\n",
            "1/1 [==============================] - 0s 12ms/step - loss: 7.5016 - mae: 7.5016\n",
            "Epoch 151/500\n",
            "1/1 [==============================] - 0s 15ms/step - loss: 21.2530 - mae: 21.2530\n",
            "Epoch 152/500\n",
            "1/1 [==============================] - 0s 12ms/step - loss: 2.7916 - mae: 2.7916\n",
            "Epoch 153/500\n",
            "1/1 [==============================] - 0s 15ms/step - loss: 3.9563 - mae: 3.9563\n",
            "Epoch 154/500\n",
            "1/1 [==============================] - 0s 23ms/step - loss: 18.7497 - mae: 18.7497\n",
            "Epoch 155/500\n",
            "1/1 [==============================] - 0s 14ms/step - loss: 5.8173 - mae: 5.8173\n",
            "Epoch 156/500\n",
            "1/1 [==============================] - 0s 13ms/step - loss: 17.2210 - mae: 17.2210\n",
            "Epoch 157/500\n",
            "1/1 [==============================] - 0s 11ms/step - loss: 8.1873 - mae: 8.1873\n",
            "Epoch 158/500\n",
            "1/1 [==============================] - 0s 14ms/step - loss: 22.1422 - mae: 22.1422\n",
            "Epoch 159/500\n",
            "1/1 [==============================] - 0s 22ms/step - loss: 3.6587 - mae: 3.6587\n",
            "Epoch 160/500\n",
            "1/1 [==============================] - 0s 14ms/step - loss: 24.7143 - mae: 24.7143\n",
            "Epoch 161/500\n",
            "1/1 [==============================] - 0s 16ms/step - loss: 19.2206 - mae: 19.2206\n",
            "Epoch 162/500\n",
            "1/1 [==============================] - 0s 19ms/step - loss: 5.1729 - mae: 5.1729\n",
            "Epoch 163/500\n",
            "1/1 [==============================] - 0s 20ms/step - loss: 17.7178 - mae: 17.7178\n",
            "Epoch 164/500\n",
            "1/1 [==============================] - 0s 14ms/step - loss: 7.3014 - mae: 7.3014\n",
            "Epoch 165/500\n",
            "1/1 [==============================] - 0s 21ms/step - loss: 21.3240 - mae: 21.3240\n",
            "Epoch 166/500\n",
            "1/1 [==============================] - 0s 17ms/step - loss: 2.7497 - mae: 2.7497\n",
            "Epoch 167/500\n",
            "1/1 [==============================] - 0s 19ms/step - loss: 6.5303 - mae: 6.5303\n",
            "Epoch 168/500\n",
            "1/1 [==============================] - 0s 16ms/step - loss: 20.2878 - mae: 20.2878\n",
            "Epoch 169/500\n",
            "1/1 [==============================] - 0s 10ms/step - loss: 3.7406 - mae: 3.7406\n",
            "Epoch 170/500\n",
            "1/1 [==============================] - 0s 12ms/step - loss: 18.8473 - mae: 18.8473\n",
            "Epoch 171/500\n",
            "1/1 [==============================] - 0s 10ms/step - loss: 5.6106 - mae: 5.6106\n",
            "Epoch 172/500\n",
            "1/1 [==============================] - 0s 13ms/step - loss: 17.3095 - mae: 17.3095\n",
            "Epoch 173/500\n",
            "1/1 [==============================] - 0s 14ms/step - loss: 7.9869 - mae: 7.9869\n",
            "Epoch 174/500\n",
            "1/1 [==============================] - 0s 14ms/step - loss: 22.2072 - mae: 22.2072\n",
            "Epoch 175/500\n",
            "1/1 [==============================] - 0s 11ms/step - loss: 3.7042 - mae: 3.7042\n",
            "Epoch 176/500\n",
            "1/1 [==============================] - 0s 12ms/step - loss: 24.5109 - mae: 24.5109\n",
            "Epoch 177/500\n",
            "1/1 [==============================] - 0s 11ms/step - loss: 19.2862 - mae: 19.2862\n",
            "Epoch 178/500\n",
            "1/1 [==============================] - 0s 11ms/step - loss: 5.0086 - mae: 5.0086\n",
            "Epoch 179/500\n",
            "1/1 [==============================] - 0s 11ms/step - loss: 17.7725 - mae: 17.7725\n",
            "Epoch 180/500\n",
            "1/1 [==============================] - 0s 12ms/step - loss: 7.1583 - mae: 7.1583\n",
            "Epoch 181/500\n",
            "1/1 [==============================] - 0s 12ms/step - loss: 21.3629 - mae: 21.3629\n",
            "Epoch 182/500\n",
            "1/1 [==============================] - 0s 17ms/step - loss: 2.6998 - mae: 2.6998\n",
            "Epoch 183/500\n",
            "1/1 [==============================] - 0s 11ms/step - loss: 10.0138 - mae: 10.0138\n",
            "Epoch 184/500\n",
            "1/1 [==============================] - 0s 15ms/step - loss: 23.1988 - mae: 23.1988\n",
            "Epoch 185/500\n",
            "1/1 [==============================] - 0s 13ms/step - loss: 5.3743 - mae: 5.3743\n",
            "Epoch 186/500\n",
            "1/1 [==============================] - 0s 11ms/step - loss: 27.8019 - mae: 27.8019\n",
            "Epoch 187/500\n",
            "1/1 [==============================] - 0s 12ms/step - loss: 18.1811 - mae: 18.1811\n",
            "Epoch 188/500\n",
            "1/1 [==============================] - 0s 13ms/step - loss: 6.4679 - mae: 6.4679\n",
            "Epoch 189/500\n",
            "1/1 [==============================] - 0s 12ms/step - loss: 20.2725 - mae: 20.2725\n",
            "Epoch 190/500\n",
            "1/1 [==============================] - 0s 13ms/step - loss: 3.6718 - mae: 3.6718\n",
            "Epoch 191/500\n",
            "1/1 [==============================] - 0s 12ms/step - loss: 18.8145 - mae: 18.8145\n",
            "Epoch 192/500\n",
            "1/1 [==============================] - 0s 12ms/step - loss: 5.5630 - mae: 5.5630\n",
            "Epoch 193/500\n",
            "1/1 [==============================] - 0s 13ms/step - loss: 17.2575 - mae: 17.2575\n",
            "Epoch 194/500\n",
            "1/1 [==============================] - 0s 15ms/step - loss: 8.0313 - mae: 8.0313\n",
            "Epoch 195/500\n",
            "1/1 [==============================] - 0s 15ms/step - loss: 22.1602 - mae: 22.1602\n",
            "Epoch 196/500\n",
            "1/1 [==============================] - 0s 14ms/step - loss: 3.5805 - mae: 3.5805\n",
            "Epoch 197/500\n",
            "1/1 [==============================] - 0s 11ms/step - loss: 24.6922 - mae: 24.6922\n",
            "Epoch 198/500\n",
            "1/1 [==============================] - 0s 16ms/step - loss: 19.2219 - mae: 19.2219\n",
            "Epoch 199/500\n",
            "1/1 [==============================] - 0s 15ms/step - loss: 5.0036 - mae: 5.0036\n",
            "Epoch 200/500\n",
            "1/1 [==============================] - 0s 14ms/step - loss: 17.6866 - mae: 17.6866\n",
            "Epoch 201/500\n",
            "1/1 [==============================] - 0s 17ms/step - loss: 7.2484 - mae: 7.2484\n",
            "Epoch 202/500\n",
            "1/1 [==============================] - 0s 17ms/step - loss: 22.4979 - mae: 22.4979\n",
            "Epoch 203/500\n",
            "1/1 [==============================] - 0s 11ms/step - loss: 4.1099 - mae: 4.1099\n",
            "Epoch 204/500\n",
            "1/1 [==============================] - 0s 15ms/step - loss: 28.4710 - mae: 28.4710\n",
            "Epoch 205/500\n",
            "1/1 [==============================] - 0s 20ms/step - loss: 17.9536 - mae: 17.9536\n",
            "Epoch 206/500\n",
            "1/1 [==============================] - 0s 20ms/step - loss: 6.7841 - mae: 6.7841\n",
            "Epoch 207/500\n",
            "1/1 [==============================] - 0s 20ms/step - loss: 21.5059 - mae: 21.5059\n",
            "Epoch 208/500\n",
            "1/1 [==============================] - 0s 20ms/step - loss: 2.7191 - mae: 2.7191\n",
            "Epoch 209/500\n",
            "1/1 [==============================] - 0s 14ms/step - loss: 13.4357 - mae: 13.4357\n",
            "Epoch 210/500\n",
            "1/1 [==============================] - 0s 17ms/step - loss: 22.5811 - mae: 22.5811\n",
            "Epoch 211/500\n",
            "1/1 [==============================] - 0s 17ms/step - loss: 4.2379 - mae: 4.2379\n",
            "Epoch 212/500\n",
            "1/1 [==============================] - 0s 17ms/step - loss: 28.1694 - mae: 28.1694\n",
            "Epoch 213/500\n",
            "1/1 [==============================] - 0s 14ms/step - loss: 18.0536 - mae: 18.0536\n",
            "Epoch 214/500\n",
            "1/1 [==============================] - 0s 14ms/step - loss: 6.5977 - mae: 6.5977\n",
            "Epoch 215/500\n",
            "1/1 [==============================] - 0s 13ms/step - loss: 21.5876 - mae: 21.5876\n",
            "Epoch 216/500\n",
            "1/1 [==============================] - 0s 15ms/step - loss: 2.7789 - mae: 2.7789\n",
            "Epoch 217/500\n",
            "1/1 [==============================] - 0s 13ms/step - loss: 16.8740 - mae: 16.8740\n",
            "Epoch 218/500\n",
            "1/1 [==============================] - 0s 12ms/step - loss: 21.8408 - mae: 21.8408\n",
            "Epoch 219/500\n",
            "1/1 [==============================] - 0s 10ms/step - loss: 3.0746 - mae: 3.0746\n",
            "Epoch 220/500\n",
            "1/1 [==============================] - 0s 13ms/step - loss: 22.8280 - mae: 22.8280\n",
            "Epoch 221/500\n",
            "1/1 [==============================] - 0s 12ms/step - loss: 19.8438 - mae: 19.8438\n",
            "Epoch 222/500\n",
            "1/1 [==============================] - 0s 14ms/step - loss: 4.1130 - mae: 4.1130\n",
            "Epoch 223/500\n",
            "1/1 [==============================] - 0s 13ms/step - loss: 18.3339 - mae: 18.3339\n",
            "Epoch 224/500\n",
            "1/1 [==============================] - 0s 12ms/step - loss: 6.1203 - mae: 6.1203\n",
            "Epoch 225/500\n",
            "1/1 [==============================] - 0s 12ms/step - loss: 20.3931 - mae: 20.3931\n",
            "Epoch 226/500\n",
            "1/1 [==============================] - 0s 11ms/step - loss: 3.3764 - mae: 3.3764\n",
            "Epoch 227/500\n",
            "1/1 [==============================] - 0s 12ms/step - loss: 18.9157 - mae: 18.9157\n",
            "Epoch 228/500\n",
            "1/1 [==============================] - 0s 14ms/step - loss: 5.2902 - mae: 5.2902\n",
            "Epoch 229/500\n",
            "1/1 [==============================] - 0s 13ms/step - loss: 17.3370 - mae: 17.3370\n",
            "Epoch 230/500\n",
            "1/1 [==============================] - 0s 13ms/step - loss: 7.8180 - mae: 7.8180\n",
            "Epoch 231/500\n",
            "1/1 [==============================] - 0s 12ms/step - loss: 23.2166 - mae: 23.2166\n",
            "Epoch 232/500\n",
            "1/1 [==============================] - 0s 12ms/step - loss: 5.3232 - mae: 5.3232\n",
            "Epoch 233/500\n",
            "1/1 [==============================] - 0s 12ms/step - loss: 27.7781 - mae: 27.7781\n",
            "Epoch 234/500\n",
            "1/1 [==============================] - 0s 12ms/step - loss: 18.1814 - mae: 18.1814\n",
            "Epoch 235/500\n",
            "1/1 [==============================] - 0s 10ms/step - loss: 6.3270 - mae: 6.3270\n",
            "Epoch 236/500\n",
            "1/1 [==============================] - 0s 14ms/step - loss: 21.6875 - mae: 21.6875\n",
            "Epoch 237/500\n",
            "1/1 [==============================] - 0s 13ms/step - loss: 2.8284 - mae: 2.8284\n",
            "Epoch 238/500\n",
            "1/1 [==============================] - 0s 12ms/step - loss: 20.0881 - mae: 20.0881\n",
            "Epoch 239/500\n",
            "1/1 [==============================] - 0s 11ms/step - loss: 20.7601 - mae: 20.7601\n",
            "Epoch 240/500\n",
            "1/1 [==============================] - 0s 12ms/step - loss: 2.8454 - mae: 2.8454\n",
            "Epoch 241/500\n",
            "1/1 [==============================] - 0s 12ms/step - loss: 19.2972 - mae: 19.2972\n",
            "Epoch 242/500\n",
            "1/1 [==============================] - 0s 12ms/step - loss: 4.7391 - mae: 4.7391\n",
            "Epoch 243/500\n",
            "1/1 [==============================] - 0s 12ms/step - loss: 17.7336 - mae: 17.7336\n",
            "Epoch 244/500\n",
            "1/1 [==============================] - 0s 15ms/step - loss: 7.0770 - mae: 7.0770\n",
            "Epoch 245/500\n",
            "1/1 [==============================] - 0s 13ms/step - loss: 22.5239 - mae: 22.5239\n",
            "Epoch 246/500\n",
            "1/1 [==============================] - 0s 11ms/step - loss: 4.0670 - mae: 4.0670\n",
            "Epoch 247/500\n",
            "1/1 [==============================] - 0s 12ms/step - loss: 28.4190 - mae: 28.4190\n",
            "Epoch 248/500\n",
            "1/1 [==============================] - 0s 12ms/step - loss: 17.9645 - mae: 17.9645\n",
            "Epoch 249/500\n",
            "1/1 [==============================] - 0s 13ms/step - loss: 6.6583 - mae: 6.6583\n",
            "Epoch 250/500\n",
            "1/1 [==============================] - 0s 12ms/step - loss: 21.4993 - mae: 21.4993\n",
            "Epoch 251/500\n",
            "1/1 [==============================] - 0s 14ms/step - loss: 2.5829 - mae: 2.5829\n",
            "Epoch 252/500\n",
            "1/1 [==============================] - 0s 15ms/step - loss: 17.1638 - mae: 17.1638\n",
            "Epoch 253/500\n",
            "1/1 [==============================] - 0s 13ms/step - loss: 21.7397 - mae: 21.7397\n",
            "Epoch 254/500\n",
            "1/1 [==============================] - 0s 12ms/step - loss: 2.8443 - mae: 2.8443\n",
            "Epoch 255/500\n",
            "1/1 [==============================] - 0s 13ms/step - loss: 23.1949 - mae: 23.1949\n",
            "Epoch 256/500\n",
            "1/1 [==============================] - 0s 13ms/step - loss: 19.7160 - mae: 19.7160\n",
            "Epoch 257/500\n",
            "1/1 [==============================] - 0s 13ms/step - loss: 4.1404 - mae: 4.1404\n",
            "Epoch 258/500\n",
            "1/1 [==============================] - 0s 12ms/step - loss: 18.1701 - mae: 18.1701\n",
            "Epoch 259/500\n",
            "1/1 [==============================] - 0s 13ms/step - loss: 6.2871 - mae: 6.2871\n",
            "Epoch 260/500\n",
            "1/1 [==============================] - 0s 13ms/step - loss: 21.6691 - mae: 21.6691\n",
            "Epoch 261/500\n",
            "1/1 [==============================] - 0s 11ms/step - loss: 2.7356 - mae: 2.7356\n",
            "Epoch 262/500\n",
            "1/1 [==============================] - 0s 13ms/step - loss: 20.1718 - mae: 20.1718\n",
            "Epoch 263/500\n",
            "1/1 [==============================] - 0s 13ms/step - loss: 20.7299 - mae: 20.7299\n",
            "Epoch 264/500\n",
            "1/1 [==============================] - 0s 13ms/step - loss: 2.7925 - mae: 2.7925\n",
            "Epoch 265/500\n",
            "1/1 [==============================] - 0s 13ms/step - loss: 19.2465 - mae: 19.2465\n",
            "Epoch 266/500\n",
            "1/1 [==============================] - 0s 12ms/step - loss: 4.7109 - mae: 4.7109\n",
            "Epoch 267/500\n",
            "1/1 [==============================] - 0s 14ms/step - loss: 17.6603 - mae: 17.6603\n",
            "Epoch 268/500\n",
            "1/1 [==============================] - 0s 11ms/step - loss: 7.1589 - mae: 7.1589\n",
            "Epoch 269/500\n",
            "1/1 [==============================] - 0s 12ms/step - loss: 22.4595 - mae: 22.4595\n",
            "Epoch 270/500\n",
            "1/1 [==============================] - 0s 11ms/step - loss: 3.9066 - mae: 3.9066\n",
            "Epoch 271/500\n",
            "1/1 [==============================] - 0s 12ms/step - loss: 28.6958 - mae: 28.6958\n",
            "Epoch 272/500\n",
            "1/1 [==============================] - 0s 14ms/step - loss: 18.1568 - mae: 18.1568\n",
            "Epoch 273/500\n",
            "1/1 [==============================] - 0s 15ms/step - loss: 6.2730 - mae: 6.2730\n",
            "Epoch 274/500\n",
            "1/1 [==============================] - 0s 11ms/step - loss: 21.6527 - mae: 21.6527\n",
            "Epoch 275/500\n",
            "1/1 [==============================] - 0s 11ms/step - loss: 2.6785 - mae: 2.6785\n",
            "Epoch 276/500\n",
            "1/1 [==============================] - 0s 13ms/step - loss: 20.2316 - mae: 20.2316\n",
            "Epoch 277/500\n",
            "1/1 [==============================] - 0s 14ms/step - loss: 20.7074 - mae: 20.7074\n",
            "Epoch 278/500\n",
            "1/1 [==============================] - 0s 16ms/step - loss: 2.7680 - mae: 2.7680\n",
            "Epoch 279/500\n",
            "1/1 [==============================] - 0s 15ms/step - loss: 19.2122 - mae: 19.2122\n",
            "Epoch 280/500\n",
            "1/1 [==============================] - 0s 15ms/step - loss: 4.7006 - mae: 4.7006\n",
            "Epoch 281/500\n",
            "1/1 [==============================] - 0s 13ms/step - loss: 17.6132 - mae: 17.6132\n",
            "Epoch 282/500\n",
            "1/1 [==============================] - 0s 14ms/step - loss: 7.2170 - mae: 7.2170\n",
            "Epoch 283/500\n",
            "1/1 [==============================] - 0s 16ms/step - loss: 23.4151 - mae: 23.4151\n",
            "Epoch 284/500\n",
            "1/1 [==============================] - 0s 12ms/step - loss: 5.6161 - mae: 5.6161\n",
            "Epoch 285/500\n",
            "1/1 [==============================] - 0s 14ms/step - loss: 28.7030 - mae: 28.7030\n",
            "Epoch 286/500\n",
            "1/1 [==============================] - 0s 14ms/step - loss: 18.1542 - mae: 18.1542\n",
            "Epoch 287/500\n",
            "1/1 [==============================] - 0s 14ms/step - loss: 6.2433 - mae: 6.2433\n",
            "Epoch 288/500\n",
            "1/1 [==============================] - 0s 12ms/step - loss: 21.6457 - mae: 21.6457\n",
            "Epoch 289/500\n",
            "1/1 [==============================] - 0s 14ms/step - loss: 2.6339 - mae: 2.6339\n",
            "Epoch 290/500\n",
            "1/1 [==============================] - 0s 16ms/step - loss: 20.2630 - mae: 20.2630\n",
            "Epoch 291/500\n",
            "1/1 [==============================] - 0s 11ms/step - loss: 20.6947 - mae: 20.6947\n",
            "Epoch 292/500\n",
            "1/1 [==============================] - 0s 11ms/step - loss: 2.7338 - mae: 2.7338\n",
            "Epoch 293/500\n",
            "1/1 [==============================] - 0s 14ms/step - loss: 19.1889 - mae: 19.1889\n",
            "Epoch 294/500\n",
            "1/1 [==============================] - 0s 14ms/step - loss: 4.6792 - mae: 4.6792\n",
            "Epoch 295/500\n",
            "1/1 [==============================] - 0s 13ms/step - loss: 17.5781 - mae: 17.5781\n",
            "Epoch 296/500\n",
            "1/1 [==============================] - 0s 13ms/step - loss: 7.2609 - mae: 7.2609\n",
            "Epoch 297/500\n",
            "1/1 [==============================] - 0s 19ms/step - loss: 23.3865 - mae: 23.3865\n",
            "Epoch 298/500\n",
            "1/1 [==============================] - 0s 11ms/step - loss: 5.5427 - mae: 5.5427\n",
            "Epoch 299/500\n",
            "1/1 [==============================] - 0s 12ms/step - loss: 28.8332 - mae: 28.8332\n",
            "Epoch 300/500\n",
            "1/1 [==============================] - 0s 15ms/step - loss: 18.1119 - mae: 18.1119\n",
            "Epoch 301/500\n",
            "1/1 [==============================] - 0s 13ms/step - loss: 6.2857 - mae: 6.2857\n",
            "Epoch 302/500\n",
            "1/1 [==============================] - 0s 12ms/step - loss: 22.8093 - mae: 22.8093\n",
            "Epoch 303/500\n",
            "1/1 [==============================] - 0s 11ms/step - loss: 4.4738 - mae: 4.4738\n",
            "Epoch 304/500\n",
            "1/1 [==============================] - 0s 13ms/step - loss: 29.4181 - mae: 29.4181\n",
            "Epoch 305/500\n",
            "1/1 [==============================] - 0s 15ms/step - loss: 17.9191 - mae: 17.9191\n",
            "Epoch 306/500\n",
            "1/1 [==============================] - 0s 15ms/step - loss: 6.6232 - mae: 6.6232\n",
            "Epoch 307/500\n",
            "1/1 [==============================] - 0s 13ms/step - loss: 22.6555 - mae: 22.6555\n",
            "Epoch 308/500\n",
            "1/1 [==============================] - 0s 13ms/step - loss: 4.1925 - mae: 4.1925\n",
            "Epoch 309/500\n",
            "1/1 [==============================] - 0s 15ms/step - loss: 30.0115 - mae: 30.0115\n",
            "Epoch 310/500\n",
            "1/1 [==============================] - 0s 15ms/step - loss: 17.7237 - mae: 17.7237\n",
            "Epoch 311/500\n",
            "1/1 [==============================] - 0s 18ms/step - loss: 6.9685 - mae: 6.9685\n",
            "Epoch 312/500\n",
            "1/1 [==============================] - 0s 14ms/step - loss: 23.4936 - mae: 23.4936\n",
            "Epoch 313/500\n",
            "1/1 [==============================] - 0s 14ms/step - loss: 5.7391 - mae: 5.7391\n",
            "Epoch 314/500\n",
            "1/1 [==============================] - 0s 14ms/step - loss: 28.4057 - mae: 28.4057\n",
            "Epoch 315/500\n",
            "1/1 [==============================] - 0s 13ms/step - loss: 18.2511 - mae: 18.2511\n",
            "Epoch 316/500\n",
            "1/1 [==============================] - 0s 14ms/step - loss: 6.0237 - mae: 6.0237\n",
            "Epoch 317/500\n",
            "1/1 [==============================] - 0s 12ms/step - loss: 21.7189 - mae: 21.7189\n",
            "Epoch 318/500\n",
            "1/1 [==============================] - 0s 13ms/step - loss: 2.6720 - mae: 2.6720\n",
            "Epoch 319/500\n",
            "1/1 [==============================] - 0s 14ms/step - loss: 23.3061 - mae: 23.3061\n",
            "Epoch 320/500\n",
            "1/1 [==============================] - 0s 12ms/step - loss: 19.6689 - mae: 19.6689\n",
            "Epoch 321/500\n",
            "1/1 [==============================] - 0s 12ms/step - loss: 3.9826 - mae: 3.9826\n",
            "Epoch 322/500\n",
            "1/1 [==============================] - 0s 13ms/step - loss: 18.0766 - mae: 18.0766\n",
            "Epoch 323/500\n",
            "1/1 [==============================] - 0s 12ms/step - loss: 6.3178 - mae: 6.3178\n",
            "Epoch 324/500\n",
            "1/1 [==============================] - 0s 12ms/step - loss: 22.7768 - mae: 22.7768\n",
            "Epoch 325/500\n",
            "1/1 [==============================] - 0s 12ms/step - loss: 4.3852 - mae: 4.3852\n",
            "Epoch 326/500\n",
            "1/1 [==============================] - 0s 11ms/step - loss: 29.5692 - mae: 29.5692\n",
            "Epoch 327/500\n",
            "1/1 [==============================] - 0s 12ms/step - loss: 17.8701 - mae: 17.8701\n",
            "Epoch 328/500\n",
            "1/1 [==============================] - 0s 10ms/step - loss: 6.6780 - mae: 6.6780\n",
            "Epoch 329/500\n",
            "1/1 [==============================] - 0s 15ms/step - loss: 22.6122 - mae: 22.6122\n",
            "Epoch 330/500\n",
            "1/1 [==============================] - 0s 13ms/step - loss: 4.0860 - mae: 4.0860\n",
            "Epoch 331/500\n",
            "1/1 [==============================] - 0s 13ms/step - loss: 30.2007 - mae: 30.2007\n",
            "Epoch 332/500\n",
            "1/1 [==============================] - 0s 14ms/step - loss: 17.6619 - mae: 17.6619\n",
            "Epoch 333/500\n",
            "1/1 [==============================] - 0s 16ms/step - loss: 7.0577 - mae: 7.0577\n",
            "Epoch 334/500\n",
            "1/1 [==============================] - 0s 13ms/step - loss: 23.4442 - mae: 23.4442\n",
            "Epoch 335/500\n",
            "1/1 [==============================] - 0s 15ms/step - loss: 5.6226 - mae: 5.6226\n",
            "Epoch 336/500\n",
            "1/1 [==============================] - 0s 12ms/step - loss: 28.6211 - mae: 28.6211\n",
            "Epoch 337/500\n",
            "1/1 [==============================] - 0s 14ms/step - loss: 18.1805 - mae: 18.1805\n",
            "Epoch 338/500\n",
            "1/1 [==============================] - 0s 12ms/step - loss: 6.1107 - mae: 6.1107\n",
            "Epoch 339/500\n",
            "1/1 [==============================] - 0s 13ms/step - loss: 22.8563 - mae: 22.8563\n",
            "Epoch 340/500\n",
            "1/1 [==============================] - 0s 12ms/step - loss: 4.5194 - mae: 4.5194\n",
            "Epoch 341/500\n",
            "1/1 [==============================] - 0s 15ms/step - loss: 29.2624 - mae: 29.2624\n",
            "Epoch 342/500\n",
            "1/1 [==============================] - 0s 11ms/step - loss: 17.9698 - mae: 17.9698\n",
            "Epoch 343/500\n",
            "1/1 [==============================] - 0s 13ms/step - loss: 6.4809 - mae: 6.4809\n",
            "Epoch 344/500\n",
            "1/1 [==============================] - 0s 11ms/step - loss: 22.6884 - mae: 22.6884\n",
            "Epoch 345/500\n",
            "1/1 [==============================] - 0s 13ms/step - loss: 4.2112 - mae: 4.2112\n",
            "Epoch 346/500\n",
            "1/1 [==============================] - 0s 11ms/step - loss: 29.9131 - mae: 29.9131\n",
            "Epoch 347/500\n",
            "1/1 [==============================] - 0s 13ms/step - loss: 17.7558 - mae: 17.7558\n",
            "Epoch 348/500\n",
            "1/1 [==============================] - 0s 13ms/step - loss: 6.8674 - mae: 6.8674\n",
            "Epoch 349/500\n",
            "1/1 [==============================] - 0s 13ms/step - loss: 23.5128 - mae: 23.5128\n",
            "Epoch 350/500\n",
            "1/1 [==============================] - 0s 14ms/step - loss: 5.7406 - mae: 5.7406\n",
            "Epoch 351/500\n",
            "1/1 [==============================] - 0s 11ms/step - loss: 28.3584 - mae: 28.3584\n",
            "Epoch 352/500\n",
            "1/1 [==============================] - 0s 16ms/step - loss: 18.2666 - mae: 18.2666\n",
            "Epoch 353/500\n",
            "1/1 [==============================] - 0s 16ms/step - loss: 5.9391 - mae: 5.9391\n",
            "Epoch 354/500\n",
            "1/1 [==============================] - 0s 13ms/step - loss: 22.9219 - mae: 22.9219\n",
            "Epoch 355/500\n",
            "1/1 [==============================] - 0s 12ms/step - loss: 4.6247 - mae: 4.6247\n",
            "Epoch 356/500\n",
            "1/1 [==============================] - 0s 18ms/step - loss: 30.6911 - mae: 30.6911\n",
            "Epoch 357/500\n",
            "1/1 [==============================] - 0s 12ms/step - loss: 17.4996 - mae: 17.4996\n",
            "Epoch 358/500\n",
            "1/1 [==============================] - 0s 15ms/step - loss: 7.3365 - mae: 7.3365\n",
            "Epoch 359/500\n",
            "1/1 [==============================] - 0s 12ms/step - loss: 23.3192 - mae: 23.3192\n",
            "Epoch 360/500\n",
            "1/1 [==============================] - 0s 13ms/step - loss: 5.3696 - mae: 5.3696\n",
            "Epoch 361/500\n",
            "1/1 [==============================] - 0s 13ms/step - loss: 29.1260 - mae: 29.1260\n",
            "Epoch 362/500\n",
            "1/1 [==============================] - 0s 16ms/step - loss: 18.0139 - mae: 18.0139\n",
            "Epoch 363/500\n",
            "1/1 [==============================] - 0s 12ms/step - loss: 6.3790 - mae: 6.3790\n",
            "Epoch 364/500\n",
            "1/1 [==============================] - 0s 15ms/step - loss: 22.7199 - mae: 22.7199\n",
            "Epoch 365/500\n",
            "1/1 [==============================] - 0s 11ms/step - loss: 4.2512 - mae: 4.2512\n",
            "Epoch 366/500\n",
            "1/1 [==============================] - 0s 14ms/step - loss: 29.8024 - mae: 29.8024\n",
            "Epoch 367/500\n",
            "1/1 [==============================] - 0s 14ms/step - loss: 17.7917 - mae: 17.7917\n",
            "Epoch 368/500\n",
            "1/1 [==============================] - 0s 11ms/step - loss: 6.7820 - mae: 6.7820\n",
            "Epoch 369/500\n",
            "1/1 [==============================] - 0s 11ms/step - loss: 23.5373 - mae: 23.5373\n",
            "Epoch 370/500\n",
            "1/1 [==============================] - 0s 12ms/step - loss: 5.7723 - mae: 5.7723\n",
            "Epoch 371/500\n",
            "1/1 [==============================] - 0s 12ms/step - loss: 29.5697 - mae: 29.5697\n",
            "Epoch 372/500\n",
            "1/1 [==============================] - 0s 11ms/step - loss: 17.8677 - mae: 17.8677\n",
            "Epoch 373/500\n",
            "1/1 [==============================] - 0s 13ms/step - loss: 6.6358 - mae: 6.6358\n",
            "Epoch 374/500\n",
            "1/1 [==============================] - 0s 15ms/step - loss: 23.5937 - mae: 23.5937\n",
            "Epoch 375/500\n",
            "1/1 [==============================] - 0s 13ms/step - loss: 5.8804 - mae: 5.8804\n",
            "Epoch 376/500\n",
            "1/1 [==============================] - 0s 12ms/step - loss: 29.3435 - mae: 29.3435\n",
            "Epoch 377/500\n",
            "1/1 [==============================] - 0s 12ms/step - loss: 17.9418 - mae: 17.9418\n",
            "Epoch 378/500\n",
            "1/1 [==============================] - 0s 12ms/step - loss: 6.4934 - mae: 6.4934\n",
            "Epoch 379/500\n",
            "1/1 [==============================] - 0s 15ms/step - loss: 23.6487 - mae: 23.6487\n",
            "Epoch 380/500\n",
            "1/1 [==============================] - 0s 14ms/step - loss: 5.9853 - mae: 5.9853\n",
            "Epoch 381/500\n",
            "1/1 [==============================] - 0s 11ms/step - loss: 29.1238 - mae: 29.1238\n",
            "Epoch 382/500\n",
            "1/1 [==============================] - 0s 13ms/step - loss: 18.0138 - mae: 18.0138\n",
            "Epoch 383/500\n",
            "1/1 [==============================] - 0s 13ms/step - loss: 6.3580 - mae: 6.3580\n",
            "Epoch 384/500\n",
            "1/1 [==============================] - 0s 12ms/step - loss: 22.7165 - mae: 22.7165\n",
            "Epoch 385/500\n",
            "1/1 [==============================] - 0s 12ms/step - loss: 4.2301 - mae: 4.2301\n",
            "Epoch 386/500\n",
            "1/1 [==============================] - 0s 16ms/step - loss: 29.8243 - mae: 29.8243\n",
            "Epoch 387/500\n",
            "1/1 [==============================] - 0s 11ms/step - loss: 17.7839 - mae: 17.7839\n",
            "Epoch 388/500\n",
            "1/1 [==============================] - 0s 12ms/step - loss: 6.7797 - mae: 6.7797\n",
            "Epoch 389/500\n",
            "1/1 [==============================] - 0s 12ms/step - loss: 23.5291 - mae: 23.5291\n",
            "Epoch 390/500\n",
            "1/1 [==============================] - 0s 15ms/step - loss: 5.7461 - mae: 5.7461\n",
            "Epoch 391/500\n",
            "1/1 [==============================] - 0s 12ms/step - loss: 29.6114 - mae: 29.6114\n",
            "Epoch 392/500\n",
            "1/1 [==============================] - 0s 15ms/step - loss: 17.8534 - mae: 17.8534\n",
            "Epoch 393/500\n",
            "1/1 [==============================] - 0s 12ms/step - loss: 6.6456 - mae: 6.6456\n",
            "Epoch 394/500\n",
            "1/1 [==============================] - 0s 13ms/step - loss: 23.5807 - mae: 23.5807\n",
            "Epoch 395/500\n",
            "1/1 [==============================] - 0s 14ms/step - loss: 5.8446 - mae: 5.8446\n",
            "Epoch 396/500\n",
            "1/1 [==============================] - 0s 12ms/step - loss: 29.4047 - mae: 29.4047\n",
            "Epoch 397/500\n",
            "1/1 [==============================] - 0s 11ms/step - loss: 17.9211 - mae: 17.9211\n",
            "Epoch 398/500\n",
            "1/1 [==============================] - 0s 12ms/step - loss: 6.5153 - mae: 6.5153\n",
            "Epoch 399/500\n",
            "1/1 [==============================] - 0s 14ms/step - loss: 23.6309 - mae: 23.6309\n",
            "Epoch 400/500\n",
            "1/1 [==============================] - 0s 12ms/step - loss: 5.9402 - mae: 5.9402\n",
            "Epoch 401/500\n",
            "1/1 [==============================] - 0s 13ms/step - loss: 29.2044 - mae: 29.2044\n",
            "Epoch 402/500\n",
            "1/1 [==============================] - 0s 10ms/step - loss: 17.9868 - mae: 17.9868\n",
            "Epoch 403/500\n",
            "1/1 [==============================] - 0s 11ms/step - loss: 6.3888 - mae: 6.3888\n",
            "Epoch 404/500\n",
            "1/1 [==============================] - 0s 13ms/step - loss: 23.6797 - mae: 23.6797\n",
            "Epoch 405/500\n",
            "1/1 [==============================] - 0s 11ms/step - loss: 6.0327 - mae: 6.0327\n",
            "Epoch 406/500\n",
            "1/1 [==============================] - 0s 13ms/step - loss: 29.0103 - mae: 29.0103\n",
            "Epoch 407/500\n",
            "1/1 [==============================] - 0s 12ms/step - loss: 18.0504 - mae: 18.0504\n",
            "Epoch 408/500\n",
            "1/1 [==============================] - 0s 13ms/step - loss: 6.2671 - mae: 6.2671\n",
            "Epoch 409/500\n",
            "1/1 [==============================] - 0s 13ms/step - loss: 22.7415 - mae: 22.7415\n",
            "Epoch 410/500\n",
            "1/1 [==============================] - 0s 13ms/step - loss: 4.2560 - mae: 4.2560\n",
            "Epoch 411/500\n",
            "1/1 [==============================] - 0s 14ms/step - loss: 29.7405 - mae: 29.7405\n",
            "Epoch 412/500\n",
            "1/1 [==============================] - 0s 12ms/step - loss: 17.8108 - mae: 17.8108\n",
            "Epoch 413/500\n",
            "1/1 [==============================] - 0s 14ms/step - loss: 6.7089 - mae: 6.7089\n",
            "Epoch 414/500\n",
            "1/1 [==============================] - 0s 11ms/step - loss: 23.5465 - mae: 23.5465\n",
            "Epoch 415/500\n",
            "1/1 [==============================] - 0s 12ms/step - loss: 5.7668 - mae: 5.7668\n",
            "Epoch 416/500\n",
            "1/1 [==============================] - 0s 11ms/step - loss: 29.5529 - mae: 29.5529\n",
            "Epoch 417/500\n",
            "1/1 [==============================] - 0s 14ms/step - loss: 17.8720 - mae: 17.8720\n",
            "Epoch 418/500\n",
            "1/1 [==============================] - 0s 15ms/step - loss: 6.5904 - mae: 6.5904\n",
            "Epoch 419/500\n",
            "1/1 [==============================] - 0s 11ms/step - loss: 23.5918 - mae: 23.5918\n",
            "Epoch 420/500\n",
            "1/1 [==============================] - 0s 10ms/step - loss: 5.8533 - mae: 5.8533\n",
            "Epoch 421/500\n",
            "1/1 [==============================] - 0s 11ms/step - loss: 29.3713 - mae: 29.3713\n",
            "Epoch 422/500\n",
            "1/1 [==============================] - 0s 13ms/step - loss: 17.9314 - mae: 17.9314\n",
            "Epoch 423/500\n",
            "1/1 [==============================] - 0s 11ms/step - loss: 6.4755 - mae: 6.4755\n",
            "Epoch 424/500\n",
            "1/1 [==============================] - 0s 17ms/step - loss: 23.6359 - mae: 23.6359\n",
            "Epoch 425/500\n",
            "1/1 [==============================] - 0s 13ms/step - loss: 5.9368 - mae: 5.9368\n",
            "Epoch 426/500\n",
            "1/1 [==============================] - 0s 13ms/step - loss: 29.1959 - mae: 29.1959\n",
            "Epoch 427/500\n",
            "1/1 [==============================] - 0s 12ms/step - loss: 17.9889 - mae: 17.9889\n",
            "Epoch 428/500\n",
            "1/1 [==============================] - 0s 12ms/step - loss: 6.3642 - mae: 6.3642\n",
            "Epoch 429/500\n",
            "1/1 [==============================] - 0s 13ms/step - loss: 23.6785 - mae: 23.6785\n",
            "Epoch 430/500\n",
            "1/1 [==============================] - 0s 13ms/step - loss: 6.0174 - mae: 6.0174\n",
            "Epoch 431/500\n",
            "1/1 [==============================] - 0s 13ms/step - loss: 29.0265 - mae: 29.0265\n",
            "Epoch 432/500\n",
            "1/1 [==============================] - 0s 13ms/step - loss: 18.0445 - mae: 18.0445\n",
            "Epoch 433/500\n",
            "1/1 [==============================] - 0s 12ms/step - loss: 6.2567 - mae: 6.2567\n",
            "Epoch 434/500\n",
            "1/1 [==============================] - 0s 15ms/step - loss: 23.7196 - mae: 23.7196\n",
            "Epoch 435/500\n",
            "1/1 [==============================] - 0s 10ms/step - loss: 6.0951 - mae: 6.0951\n",
            "Epoch 436/500\n",
            "1/1 [==============================] - 0s 15ms/step - loss: 28.8630 - mae: 28.8630\n",
            "Epoch 437/500\n",
            "1/1 [==============================] - 0s 11ms/step - loss: 18.0981 - mae: 18.0981\n",
            "Epoch 438/500\n",
            "1/1 [==============================] - 0s 12ms/step - loss: 6.1529 - mae: 6.1529\n",
            "Epoch 439/500\n",
            "1/1 [==============================] - 0s 14ms/step - loss: 23.7593 - mae: 23.7593\n",
            "Epoch 440/500\n",
            "1/1 [==============================] - 0s 12ms/step - loss: 6.1699 - mae: 6.1699\n",
            "Epoch 441/500\n",
            "1/1 [==============================] - 0s 11ms/step - loss: 28.7056 - mae: 28.7056\n",
            "Epoch 442/500\n",
            "1/1 [==============================] - 0s 12ms/step - loss: 18.1497 - mae: 18.1497\n",
            "Epoch 443/500\n",
            "1/1 [==============================] - 0s 13ms/step - loss: 6.0548 - mae: 6.0548\n",
            "Epoch 444/500\n",
            "1/1 [==============================] - 0s 13ms/step - loss: 22.8148 - mae: 22.8148\n",
            "Epoch 445/500\n",
            "1/1 [==============================] - 0s 13ms/step - loss: 4.3649 - mae: 4.3649\n",
            "Epoch 446/500\n",
            "1/1 [==============================] - 0s 13ms/step - loss: 31.1552 - mae: 31.1552\n",
            "Epoch 447/500\n",
            "1/1 [==============================] - 0s 12ms/step - loss: 17.3443 - mae: 17.3443\n",
            "Epoch 448/500\n",
            "1/1 [==============================] - 0s 12ms/step - loss: 7.5671 - mae: 7.5671\n",
            "Epoch 449/500\n",
            "1/1 [==============================] - 0s 12ms/step - loss: 23.9900 - mae: 23.9900\n",
            "Epoch 450/500\n",
            "1/1 [==============================] - 0s 13ms/step - loss: 6.6133 - mae: 6.6133\n",
            "Epoch 451/500\n",
            "1/1 [==============================] - 0s 13ms/step - loss: 27.7836 - mae: 27.7836\n",
            "Epoch 452/500\n",
            "1/1 [==============================] - 0s 11ms/step - loss: 18.4527 - mae: 18.4527\n",
            "Epoch 453/500\n",
            "1/1 [==============================] - 0s 12ms/step - loss: 5.5044 - mae: 5.5044\n",
            "Epoch 454/500\n",
            "1/1 [==============================] - 0s 13ms/step - loss: 23.0535 - mae: 23.0535\n",
            "Epoch 455/500\n",
            "1/1 [==============================] - 0s 15ms/step - loss: 4.8080 - mae: 4.8080\n",
            "Epoch 456/500\n",
            "1/1 [==============================] - 0s 13ms/step - loss: 30.2188 - mae: 30.2188\n",
            "Epoch 457/500\n",
            "1/1 [==============================] - 0s 13ms/step - loss: 17.6520 - mae: 17.6520\n",
            "Epoch 458/500\n",
            "1/1 [==============================] - 0s 14ms/step - loss: 6.9687 - mae: 6.9687\n",
            "Epoch 459/500\n",
            "1/1 [==============================] - 0s 14ms/step - loss: 23.4222 - mae: 23.4222\n",
            "Epoch 460/500\n",
            "1/1 [==============================] - 0s 12ms/step - loss: 5.5028 - mae: 5.5028\n",
            "Epoch 461/500\n",
            "1/1 [==============================] - 0s 15ms/step - loss: 30.0708 - mae: 30.0708\n",
            "Epoch 462/500\n",
            "1/1 [==============================] - 0s 15ms/step - loss: 17.7003 - mae: 17.7003\n",
            "Epoch 463/500\n",
            "1/1 [==============================] - 0s 10ms/step - loss: 6.8744 - mae: 6.8744\n",
            "Epoch 464/500\n",
            "1/1 [==============================] - 0s 13ms/step - loss: 23.4579 - mae: 23.4579\n",
            "Epoch 465/500\n",
            "1/1 [==============================] - 0s 12ms/step - loss: 5.5702 - mae: 5.5702\n",
            "Epoch 466/500\n",
            "1/1 [==============================] - 0s 14ms/step - loss: 29.9286 - mae: 29.9286\n",
            "Epoch 467/500\n",
            "1/1 [==============================] - 0s 12ms/step - loss: 17.7469 - mae: 17.7469\n",
            "Epoch 468/500\n",
            "1/1 [==============================] - 0s 12ms/step - loss: 6.7836 - mae: 6.7836\n",
            "Epoch 469/500\n",
            "1/1 [==============================] - 0s 16ms/step - loss: 23.4923 - mae: 23.4923\n",
            "Epoch 470/500\n",
            "1/1 [==============================] - 0s 11ms/step - loss: 5.6349 - mae: 5.6349\n",
            "Epoch 471/500\n",
            "1/1 [==============================] - 0s 16ms/step - loss: 29.7921 - mae: 29.7921\n",
            "Epoch 472/500\n",
            "1/1 [==============================] - 0s 12ms/step - loss: 17.7916 - mae: 17.7916\n",
            "Epoch 473/500\n",
            "1/1 [==============================] - 0s 13ms/step - loss: 6.6963 - mae: 6.6963\n",
            "Epoch 474/500\n",
            "1/1 [==============================] - 0s 10ms/step - loss: 23.5253 - mae: 23.5253\n",
            "Epoch 475/500\n",
            "1/1 [==============================] - 0s 14ms/step - loss: 5.6967 - mae: 5.6967\n",
            "Epoch 476/500\n",
            "1/1 [==============================] - 0s 12ms/step - loss: 29.6614 - mae: 29.6614\n",
            "Epoch 477/500\n",
            "1/1 [==============================] - 0s 12ms/step - loss: 17.8344 - mae: 17.8344\n",
            "Epoch 478/500\n",
            "1/1 [==============================] - 0s 12ms/step - loss: 6.6126 - mae: 6.6126\n",
            "Epoch 479/500\n",
            "1/1 [==============================] - 0s 12ms/step - loss: 23.5569 - mae: 23.5569\n",
            "Epoch 480/500\n",
            "1/1 [==============================] - 0s 13ms/step - loss: 5.7558 - mae: 5.7558\n",
            "Epoch 481/500\n",
            "1/1 [==============================] - 0s 16ms/step - loss: 29.5364 - mae: 29.5364\n",
            "Epoch 482/500\n",
            "1/1 [==============================] - 0s 11ms/step - loss: 17.8754 - mae: 17.8754\n",
            "Epoch 483/500\n",
            "1/1 [==============================] - 0s 14ms/step - loss: 6.5323 - mae: 6.5323\n",
            "Epoch 484/500\n",
            "1/1 [==============================] - 0s 13ms/step - loss: 23.5871 - mae: 23.5871\n",
            "Epoch 485/500\n",
            "1/1 [==============================] - 0s 14ms/step - loss: 5.8122 - mae: 5.8122\n",
            "Epoch 486/500\n",
            "1/1 [==============================] - 0s 13ms/step - loss: 29.4170 - mae: 29.4170\n",
            "Epoch 487/500\n",
            "1/1 [==============================] - 0s 13ms/step - loss: 17.9145 - mae: 17.9145\n",
            "Epoch 488/500\n",
            "1/1 [==============================] - 0s 12ms/step - loss: 6.4554 - mae: 6.4554\n",
            "Epoch 489/500\n",
            "1/1 [==============================] - 0s 13ms/step - loss: 23.6159 - mae: 23.6159\n",
            "Epoch 490/500\n",
            "1/1 [==============================] - 0s 16ms/step - loss: 5.8659 - mae: 5.8659\n",
            "Epoch 491/500\n",
            "1/1 [==============================] - 0s 12ms/step - loss: 29.3033 - mae: 29.3033\n",
            "Epoch 492/500\n",
            "1/1 [==============================] - 0s 12ms/step - loss: 17.9517 - mae: 17.9517\n",
            "Epoch 493/500\n",
            "1/1 [==============================] - 0s 12ms/step - loss: 6.3821 - mae: 6.3821\n",
            "Epoch 494/500\n",
            "1/1 [==============================] - 0s 12ms/step - loss: 23.6433 - mae: 23.6433\n",
            "Epoch 495/500\n",
            "1/1 [==============================] - 0s 10ms/step - loss: 5.9169 - mae: 5.9169\n",
            "Epoch 496/500\n",
            "1/1 [==============================] - 0s 14ms/step - loss: 29.1950 - mae: 29.1950\n",
            "Epoch 497/500\n",
            "1/1 [==============================] - 0s 12ms/step - loss: 17.9872 - mae: 17.9872\n",
            "Epoch 498/500\n",
            "1/1 [==============================] - 0s 13ms/step - loss: 6.3121 - mae: 6.3121\n",
            "Epoch 499/500\n",
            "1/1 [==============================] - 0s 11ms/step - loss: 23.6694 - mae: 23.6694\n",
            "Epoch 500/500\n",
            "1/1 [==============================] - 0s 12ms/step - loss: 5.9652 - mae: 5.9652\n"
          ]
        },
        {
          "output_type": "execute_result",
          "data": {
            "text/plain": [
              "<keras.src.callbacks.History at 0x780283d9e0b0>"
            ]
          },
          "metadata": {},
          "execution_count": 52
        }
      ]
    },
    {
      "cell_type": "code",
      "source": [
        "# make and plot predictions for model_3\n",
        "y_pred_3 = model_3.predict(x_test)\n",
        "plot_predictions(predictions = y_pred_3)"
      ],
      "metadata": {
        "colab": {
          "base_uri": "https://localhost:8080/",
          "height": 617
        },
        "id": "3mNRIfipOncM",
        "outputId": "0128c786-d537-4578-d794-350414cf3f06"
      },
      "execution_count": null,
      "outputs": [
        {
          "output_type": "stream",
          "name": "stdout",
          "text": [
            "1/1 [==============================] - 0s 88ms/step\n"
          ]
        },
        {
          "output_type": "display_data",
          "data": {
            "text/plain": [
              "<Figure size 800x700 with 1 Axes>"
            ],
            "image/png": "[encoded data removed]"
          },
          "metadata": {}
        }
      ]
    },
    {
      "cell_type": "code",
      "source": [
        "# Let's calculate the mae and mse for model_3\n",
        "mae_3 = mae(y_test,y_pred_3)\n",
        "mse_3 = mse(y_test,y_pred)\n",
        "mae_3,mse_3"
      ],
      "metadata": {
        "colab": {
          "base_uri": "https://localhost:8080/"
        },
        "id": "TFHbSG3UPK9d",
        "outputId": "73b4986a-30d7-458c-abdc-c599bbbb5896"
      },
      "execution_count": null,
      "outputs": [
        {
          "output_type": "execute_result",
          "data": {
            "text/plain": [
              "(<tf.Tensor: shape=(), dtype=float32, numpy=45.787617>,\n",
              " <tf.Tensor: shape=(), dtype=float32, numpy=369.4527>)"
            ]
          },
          "metadata": {},
          "execution_count": 54
        }
      ]
    },
    {
      "cell_type": "markdown",
      "source": [
        "#### Comparing result of our Experiments\n",
        "\n",
        "we've runn a few experiment , let's compare the result."
      ],
      "metadata": {
        "id": "D3kdqRGrhhmh"
      }
    },
    {
      "cell_type": "code",
      "source": [
        "# let's compare our model's resulta using pandas dataframe\n",
        "import pandas as pd\n",
        "\n",
        "model_results = [[\"model_1\",mae_1.numpy(),mse_1.numpy()],\n",
        "                 [\"model_2\",mae_2.numpy(),mse_2.numpy()],\n",
        "                 [\"model_3\",mae_3.numpy(),mse_3.numpy()]]\n",
        "\n",
        "all_results = pd.DataFrame(model_results,columns=[\"ModelNo\",\"mae\",\"mse\"])\n",
        "all_results"
      ],
      "metadata": {
        "id": "2gYBBMK1PgyX",
        "colab": {
          "base_uri": "https://localhost:8080/",
          "height": 143
        },
        "outputId": "ad7542c5-6629-4eaa-a183-af8ee6144f06"
      },
      "execution_count": null,
      "outputs": [
        {
          "output_type": "execute_result",
          "data": {
            "text/plain": [
              "   ModelNo        mae         mse\n",
              "0  model_1   9.984952  108.133438\n",
              "1  model_2  44.180550  369.452698\n",
              "2  model_3  45.787617  369.452698"
            ],
            "text/html": [
              "\n",
              "  <div id=\"df-ecb94d36-96d2-4c4e-8555-89a9e963e830\" class=\"colab-df-container\">\n",
              "    <div>\n",
              "<style scoped>\n",
              "    .dataframe tbody tr th:only-of-type {\n",
              "        vertical-align: middle;\n",
              "    }\n",
              "\n",
              "    .dataframe tbody tr th {\n",
              "        vertical-align: top;\n",
              "    }\n",
              "\n",
              "    .dataframe thead th {\n",
              "        text-align: right;\n",
              "    }\n",
              "</style>\n",
              "<table border=\"1\" class=\"dataframe\">\n",
              "  <thead>\n",
              "    <tr style=\"text-align: right;\">\n",
              "      <th></th>\n",
              "      <th>ModelNo</th>\n",
              "      <th>mae</th>\n",
              "      <th>mse</th>\n",
              "    </tr>\n",
              "  </thead>\n",
              "  <tbody>\n",
              "    <tr>\n",
              "      <th>0</th>\n",
              "      <td>model_1</td>\n",
              "      <td>9.984952</td>\n",
              "      <td>108.133438</td>\n",
              "    </tr>\n",
              "    <tr>\n",
              "      <th>1</th>\n",
              "      <td>model_2</td>\n",
              "      <td>44.180550</td>\n",
              "      <td>369.452698</td>\n",
              "    </tr>\n",
              "    <tr>\n",
              "      <th>2</th>\n",
              "      <td>model_3</td>\n",
              "      <td>45.787617</td>\n",
              "      <td>369.452698</td>\n",
              "    </tr>\n",
              "  </tbody>\n",
              "</table>\n",
              "</div>\n",
              "    <div class=\"colab-df-buttons\">\n",
              "\n",
              "  <div class=\"colab-df-container\">\n",
              "    <button class=\"colab-df-convert\" onclick=\"convertToInteractive('df-ecb94d36-96d2-4c4e-8555-89a9e963e830')\"\n",
              "            title=\"Convert this dataframe to an interactive table.\"\n",
              "            style=\"display:none;\">\n",
              "\n",
              "  <svg xmlns=\"http://www.w3.org/2000/svg\" height=\"24px\" viewBox=\"0 -960 960 960\">\n",
              "    <path d=\"M120-120v-720h720v720H120Zm60-500h600v-160H180v160Zm220 220h160v-160H400v160Zm0 220h160v-160H400v160ZM180-400h160v-160H180v160Zm440 0h160v-160H620v160ZM180-180h160v-160H180v160Zm440 0h160v-160H620v160Z\"/>\n",
              "  </svg>\n",
              "    </button>\n",
              "\n",
              "  <style>\n",
              "    .colab-df-container {\n",
              "      display:flex;\n",
              "      gap: 12px;\n",
              "    }\n",
              "\n",
              "    .colab-df-convert {\n",
              "      background-color: #E8F0FE;\n",
              "      border: none;\n",
              "      border-radius: 50%;\n",
              "      cursor: pointer;\n",
              "      display: none;\n",
              "      fill: #1967D2;\n",
              "      height: 32px;\n",
              "      padding: 0 0 0 0;\n",
              "      width: 32px;\n",
              "    }\n",
              "\n",
              "    .colab-df-convert:hover {\n",
              "      background-color: #E2EBFA;\n",
              "      box-shadow: 0px 1px 2px rgba(60, 64, 67, 0.3), 0px 1px 3px 1px rgba(60, 64, 67, 0.15);\n",
              "      fill: #174EA6;\n",
              "    }\n",
              "\n",
              "    .colab-df-buttons div {\n",
              "      margin-bottom: 4px;\n",
              "    }\n",
              "\n",
              "    [theme=dark] .colab-df-convert {\n",
              "      background-color: #3B4455;\n",
              "      fill: #D2E3FC;\n",
              "    }\n",
              "\n",
              "    [theme=dark] .colab-df-convert:hover {\n",
              "      background-color: #434B5C;\n",
              "      box-shadow: 0px 1px 3px 1px rgba(0, 0, 0, 0.15);\n",
              "      filter: drop-shadow(0px 1px 2px rgba(0, 0, 0, 0.3));\n",
              "      fill: #FFFFFF;\n",
              "    }\n",
              "  </style>\n",
              "\n",
              "    <script>\n",
              "      const buttonEl =\n",
              "        document.querySelector('#df-ecb94d36-96d2-4c4e-8555-89a9e963e830 button.colab-df-convert');\n",
              "      buttonEl.style.display =\n",
              "        google.colab.kernel.accessAllowed ? 'block' : 'none';\n",
              "\n",
              "      async function convertToInteractive(key) {\n",
              "        const element = document.querySelector('#df-ecb94d36-96d2-4c4e-8555-89a9e963e830');\n",
              "        const dataTable =\n",
              "          await google.colab.kernel.invokeFunction('convertToInteractive',\n",
              "                                                    [key], {});\n",
              "        if (!dataTable) return;\n",
              "\n",
              "        const docLinkHtml = 'Like what you see? Visit the ' +\n",
              "          '<a target=\"_blank\" href=https://colab.research.google.com/notebooks/data_table.ipynb>data table notebook</a>'\n",
              "          + ' to learn more about interactive tables.';\n",
              "        element.innerHTML = '';\n",
              "        dataTable['output_type'] = 'display_data';\n",
              "        await google.colab.output.renderOutput(dataTable, element);\n",
              "        const docLink = document.createElement('div');\n",
              "        docLink.innerHTML = docLinkHtml;\n",
              "        element.appendChild(docLink);\n",
              "      }\n",
              "    </script>\n",
              "  </div>\n",
              "\n",
              "\n",
              "<div id=\"df-9373fcc6-9a22-45c3-998f-4d746e2c55d4\">\n",
              "  <button class=\"colab-df-quickchart\" onclick=\"quickchart('df-9373fcc6-9a22-45c3-998f-4d746e2c55d4')\"\n",
              "            title=\"Suggest charts\"\n",
              "            style=\"display:none;\">\n",
              "\n",
              "<svg xmlns=\"http://www.w3.org/2000/svg\" height=\"24px\"viewBox=\"0 0 24 24\"\n",
              "     width=\"24px\">\n",
              "    <g>\n",
              "        <path d=\"M19 3H5c-1.1 0-2 .9-2 2v14c0 1.1.9 2 2 2h14c1.1 0 2-.9 2-2V5c0-1.1-.9-2-2-2zM9 17H7v-7h2v7zm4 0h-2V7h2v10zm4 0h-2v-4h2v4z\"/>\n",
              "    </g>\n",
              "</svg>\n",
              "  </button>\n",
              "\n",
              "<style>\n",
              "  .colab-df-quickchart {\n",
              "      --bg-color: #E8F0FE;\n",
              "      --fill-color: #1967D2;\n",
              "      --hover-bg-color: #E2EBFA;\n",
              "      --hover-fill-color: #174EA6;\n",
              "      --disabled-fill-color: #AAA;\n",
              "      --disabled-bg-color: #DDD;\n",
              "  }\n",
              "\n",
              "  [theme=dark] .colab-df-quickchart {\n",
              "      --bg-color: #3B4455;\n",
              "      --fill-color: #D2E3FC;\n",
              "      --hover-bg-color: #434B5C;\n",
              "      --hover-fill-color: #FFFFFF;\n",
              "      --disabled-bg-color: #3B4455;\n",
              "      --disabled-fill-color: #666;\n",
              "  }\n",
              "\n",
              "  .colab-df-quickchart {\n",
              "    background-color: var(--bg-color);\n",
              "    border: none;\n",
              "    border-radius: 50%;\n",
              "    cursor: pointer;\n",
              "    display: none;\n",
              "    fill: var(--fill-color);\n",
              "    height: 32px;\n",
              "    padding: 0;\n",
              "    width: 32px;\n",
              "  }\n",
              "\n",
              "  .colab-df-quickchart:hover {\n",
              "    background-color: var(--hover-bg-color);\n",
              "    box-shadow: 0 1px 2px rgba(60, 64, 67, 0.3), 0 1px 3px 1px rgba(60, 64, 67, 0.15);\n",
              "    fill: var(--button-hover-fill-color);\n",
              "  }\n",
              "\n",
              "  .colab-df-quickchart-complete:disabled,\n",
              "  .colab-df-quickchart-complete:disabled:hover {\n",
              "    background-color: var(--disabled-bg-color);\n",
              "    fill: var(--disabled-fill-color);\n",
              "    box-shadow: none;\n",
              "  }\n",
              "\n",
              "  .colab-df-spinner {\n",
              "    border: 2px solid var(--fill-color);\n",
              "    border-color: transparent;\n",
              "    border-bottom-color: var(--fill-color);\n",
              "    animation:\n",
              "      spin 1s steps(1) infinite;\n",
              "  }\n",
              "\n",
              "  @keyframes spin {\n",
              "    0% {\n",
              "      border-color: transparent;\n",
              "      border-bottom-color: var(--fill-color);\n",
              "      border-left-color: var(--fill-color);\n",
              "    }\n",
              "    20% {\n",
              "      border-color: transparent;\n",
              "      border-left-color: var(--fill-color);\n",
              "      border-top-color: var(--fill-color);\n",
              "    }\n",
              "    30% {\n",
              "      border-color: transparent;\n",
              "      border-left-color: var(--fill-color);\n",
              "      border-top-color: var(--fill-color);\n",
              "      border-right-color: var(--fill-color);\n",
              "    }\n",
              "    40% {\n",
              "      border-color: transparent;\n",
              "      border-right-color: var(--fill-color);\n",
              "      border-top-color: var(--fill-color);\n",
              "    }\n",
              "    60% {\n",
              "      border-color: transparent;\n",
              "      border-right-color: var(--fill-color);\n",
              "    }\n",
              "    80% {\n",
              "      border-color: transparent;\n",
              "      border-right-color: var(--fill-color);\n",
              "      border-bottom-color: var(--fill-color);\n",
              "    }\n",
              "    90% {\n",
              "      border-color: transparent;\n",
              "      border-bottom-color: var(--fill-color);\n",
              "    }\n",
              "  }\n",
              "</style>\n",
              "\n",
              "  <script>\n",
              "    async function quickchart(key) {\n",
              "      const quickchartButtonEl =\n",
              "        document.querySelector('#' + key + ' button');\n",
              "      quickchartButtonEl.disabled = true;  // To prevent multiple clicks.\n",
              "      quickchartButtonEl.classList.add('colab-df-spinner');\n",
              "      try {\n",
              "        const charts = await google.colab.kernel.invokeFunction(\n",
              "            'suggestCharts', [key], {});\n",
              "      } catch (error) {\n",
              "        console.error('Error during call to suggestCharts:', error);\n",
              "      }\n",
              "      quickchartButtonEl.classList.remove('colab-df-spinner');\n",
              "      quickchartButtonEl.classList.add('colab-df-quickchart-complete');\n",
              "    }\n",
              "    (() => {\n",
              "      let quickchartButtonEl =\n",
              "        document.querySelector('#df-9373fcc6-9a22-45c3-998f-4d746e2c55d4 button');\n",
              "      quickchartButtonEl.style.display =\n",
              "        google.colab.kernel.accessAllowed ? 'block' : 'none';\n",
              "    })();\n",
              "  </script>\n",
              "</div>\n",
              "\n",
              "  <div id=\"id_f48eea0c-55c3-4c20-bc80-117ac5189755\">\n",
              "    <style>\n",
              "      .colab-df-generate {\n",
              "        background-color: #E8F0FE;\n",
              "        border: none;\n",
              "        border-radius: 50%;\n",
              "        cursor: pointer;\n",
              "        display: none;\n",
              "        fill: #1967D2;\n",
              "        height: 32px;\n",
              "        padding: 0 0 0 0;\n",
              "        width: 32px;\n",
              "      }\n",
              "\n",
              "      .colab-df-generate:hover {\n",
              "        background-color: #E2EBFA;\n",
              "        box-shadow: 0px 1px 2px rgba(60, 64, 67, 0.3), 0px 1px 3px 1px rgba(60, 64, 67, 0.15);\n",
              "        fill: #174EA6;\n",
              "      }\n",
              "\n",
              "      [theme=dark] .colab-df-generate {\n",
              "        background-color: #3B4455;\n",
              "        fill: #D2E3FC;\n",
              "      }\n",
              "\n",
              "      [theme=dark] .colab-df-generate:hover {\n",
              "        background-color: #434B5C;\n",
              "        box-shadow: 0px 1px 3px 1px rgba(0, 0, 0, 0.15);\n",
              "        filter: drop-shadow(0px 1px 2px rgba(0, 0, 0, 0.3));\n",
              "        fill: #FFFFFF;\n",
              "      }\n",
              "    </style>\n",
              "    <button class=\"colab-df-generate\" onclick=\"generateWithVariable('all_results')\"\n",
              "            title=\"Generate code using this dataframe.\"\n",
              "            style=\"display:none;\">\n",
              "\n",
              "  <svg xmlns=\"http://www.w3.org/2000/svg\" height=\"24px\"viewBox=\"0 0 24 24\"\n",
              "       width=\"24px\">\n",
              "    <path d=\"M7,19H8.4L18.45,9,17,7.55,7,17.6ZM5,21V16.75L18.45,3.32a2,2,0,0,1,2.83,0l1.4,1.43a1.91,1.91,0,0,1,.58,1.4,1.91,1.91,0,0,1-.58,1.4L9.25,21ZM18.45,9,17,7.55Zm-12,3A5.31,5.31,0,0,0,4.9,8.1,5.31,5.31,0,0,0,1,6.5,5.31,5.31,0,0,0,4.9,4.9,5.31,5.31,0,0,0,6.5,1,5.31,5.31,0,0,0,8.1,4.9,5.31,5.31,0,0,0,12,6.5,5.46,5.46,0,0,0,6.5,12Z\"/>\n",
              "  </svg>\n",
              "    </button>\n",
              "    <script>\n",
              "      (() => {\n",
              "      const buttonEl =\n",
              "        document.querySelector('#id_f48eea0c-55c3-4c20-bc80-117ac5189755 button.colab-df-generate');\n",
              "      buttonEl.style.display =\n",
              "        google.colab.kernel.accessAllowed ? 'block' : 'none';\n",
              "\n",
              "      buttonEl.onclick = () => {\n",
              "        google.colab.notebook.generateWithVariable('all_results');\n",
              "      }\n",
              "      })();\n",
              "    </script>\n",
              "  </div>\n",
              "\n",
              "    </div>\n",
              "  </div>\n"
            ],
            "application/vnd.google.colaboratory.intrinsic+json": {
              "type": "dataframe",
              "variable_name": "all_results",
              "summary": "{\n  \"name\": \"all_results\",\n  \"rows\": 3,\n  \"fields\": [\n    {\n      \"column\": \"ModelNo\",\n      \"properties\": {\n        \"dtype\": \"string\",\n        \"num_unique_values\": 3,\n        \"samples\": [\n          \"model_1\",\n          \"model_2\",\n          \"model_3\"\n        ],\n        \"semantic_type\": \"\",\n        \"description\": \"\"\n      }\n    },\n    {\n      \"column\": \"mae\",\n      \"properties\": {\n        \"dtype\": \"float32\",\n        \"num_unique_values\": 3,\n        \"samples\": [\n          9.984951972961426,\n          44.18054962158203,\n          45.78761672973633\n        ],\n        \"semantic_type\": \"\",\n        \"description\": \"\"\n      }\n    },\n    {\n      \"column\": \"mse\",\n      \"properties\": {\n        \"dtype\": \"float32\",\n        \"num_unique_values\": 2,\n        \"samples\": [\n          369.45269775390625,\n          108.13343811035156\n        ],\n        \"semantic_type\": \"\",\n        \"description\": \"\"\n      }\n    }\n  ]\n}"
            }
          },
          "metadata": {},
          "execution_count": 55
        }
      ]
    },
    {
      "cell_type": "code",
      "source": [
        "model_3.summary()"
      ],
      "metadata": {
        "colab": {
          "base_uri": "https://localhost:8080/"
        },
        "id": "K3k0KZuSj-h2",
        "outputId": "02241335-8939-4c40-8307-a4750100906e"
      },
      "execution_count": null,
      "outputs": [
        {
          "output_type": "stream",
          "name": "stdout",
          "text": [
            "Model: \"sequential_6\"\n",
            "_________________________________________________________________\n",
            " Layer (type)                Output Shape              Param #   \n",
            "=================================================================\n",
            " dense_10 (Dense)            (None, 10)                20        \n",
            "                                                                 \n",
            " dense_11 (Dense)            (None, 1)                 11        \n",
            "                                                                 \n",
            "=================================================================\n",
            "Total params: 31 (124.00 Byte)\n",
            "Trainable params: 31 (124.00 Byte)\n",
            "Non-trainable params: 0 (0.00 Byte)\n",
            "_________________________________________________________________\n"
          ]
        }
      ]
    },
    {
      "cell_type": "markdown",
      "source": [
        "🔑 **NOTE:** 1. start with small and check if it works well or not and not then go for little complex model.\n",
        "\n",
        "2. One of your main goals should be to minimize the time between your experiments. the more experiment you do, the more things you'll figure out which don't work and in turn, get closer to figuring out what does work.remember the machine learning practioner's motto : \"experiment\" , \"experiment\" , \"experiment\" ."
      ],
      "metadata": {
        "id": "I-i6VgPwnifc"
      }
    },
    {
      "cell_type": "markdown",
      "source": [
        "### Tracking your experiments\n",
        "\n",
        "One really good habit when building machine learning models is to track the results of your experiments.\n",
        "\n",
        "And when doing so, it can be tedious if you're running lots of experiments.\n",
        "\n",
        "Luckily, there are tool to help!\n",
        "\n",
        "* TensorBoard - a component of the tensorflow library to help track modelling experiments.\n",
        "* weights & Biases - a tool for tracking all of kinds of machine learning experiments."
      ],
      "metadata": {
        "id": "Pndxyn1ep8TP"
      }
    },
    {
      "cell_type": "markdown",
      "source": [
        "#### Saving our models\n",
        "\n",
        "Saving our models allows us to use them outside of Google Colab (or wherever they were trained) such as in web application or mobile app.\n",
        "\n",
        "There are two main format we can save our model's too:\n",
        "\n",
        "1. The savemodel format.\n",
        "2.The HDF5 format."
      ],
      "metadata": {
        "id": "8_FlZhWjsjRQ"
      }
    },
    {
      "cell_type": "code",
      "source": [
        "# Saving our model using savemodel format\n",
        "model_3.save(\"model_3_saved_model\")\n"
      ],
      "metadata": {
        "id": "_szTwUgprx06"
      },
      "execution_count": null,
      "outputs": []
    },
    {
      "cell_type": "code",
      "source": [
        "# saving our model using HDf5 format\n",
        "model_3.save(\"model_3.h5\")"
      ],
      "metadata": {
        "colab": {
          "base_uri": "https://localhost:8080/"
        },
        "id": "HDjsvRPet9kV",
        "outputId": "2c75030a-7651-4f49-c513-034a33ccf2af"
      },
      "execution_count": null,
      "outputs": [
        {
          "output_type": "stream",
          "name": "stderr",
          "text": [
            "/usr/local/lib/python3.10/dist-packages/keras/src/engine/training.py:3103: UserWarning: You are saving your model as an HDF5 file via `model.save()`. This file format is considered legacy. We recommend using instead the native Keras format, e.g. `model.save('my_model.keras')`.\n",
            "  saving_api.save_model(\n"
          ]
        }
      ]
    },
    {
      "cell_type": "markdown",
      "source": [
        "#### Loading in saved model"
      ],
      "metadata": {
        "id": "2Xt76G1W5b5N"
      }
    },
    {
      "cell_type": "code",
      "source": [
        "# Load in saved model format\n",
        "loaded_savemodel_format = tf.keras.models.load_model(\"/content/model_3_saved_model\")\n",
        "loaded_savemodel_format.summary()"
      ],
      "metadata": {
        "colab": {
          "base_uri": "https://localhost:8080/"
        },
        "id": "QbEJn0o45jAV",
        "outputId": "88ba7ac7-1a94-4510-8988-392b42af67c9"
      },
      "execution_count": null,
      "outputs": [
        {
          "output_type": "stream",
          "name": "stdout",
          "text": [
            "Model: \"sequential_6\"\n",
            "_________________________________________________________________\n",
            " Layer (type)                Output Shape              Param #   \n",
            "=================================================================\n",
            " dense_10 (Dense)            (None, 10)                20        \n",
            "                                                                 \n",
            " dense_11 (Dense)            (None, 1)                 11        \n",
            "                                                                 \n",
            "=================================================================\n",
            "Total params: 31 (124.00 Byte)\n",
            "Trainable params: 31 (124.00 Byte)\n",
            "Non-trainable params: 0 (0.00 Byte)\n",
            "_________________________________________________________________\n"
          ]
        }
      ]
    },
    {
      "cell_type": "code",
      "source": [
        "model_3.summary()"
      ],
      "metadata": {
        "colab": {
          "base_uri": "https://localhost:8080/"
        },
        "id": "TeObAIwa857L",
        "outputId": "fd4a4803-a6b9-4a88-8233-2995429c68ec"
      },
      "execution_count": null,
      "outputs": [
        {
          "output_type": "stream",
          "name": "stdout",
          "text": [
            "Model: \"sequential_6\"\n",
            "_________________________________________________________________\n",
            " Layer (type)                Output Shape              Param #   \n",
            "=================================================================\n",
            " dense_10 (Dense)            (None, 10)                20        \n",
            "                                                                 \n",
            " dense_11 (Dense)            (None, 1)                 11        \n",
            "                                                                 \n",
            "=================================================================\n",
            "Total params: 31 (124.00 Byte)\n",
            "Trainable params: 31 (124.00 Byte)\n",
            "Non-trainable params: 0 (0.00 Byte)\n",
            "_________________________________________________________________\n"
          ]
        }
      ]
    },
    {
      "cell_type": "code",
      "source": [
        "# compare and check loaded_savemodel_fromat model predictins match with model_3\n",
        "model_3_preds = model_3.predict(x_test)\n",
        "loaded_savemodel_format_preds = loaded_savemodel_format.predict(x_test)\n",
        "model_3_preds == loaded_savemodel_format_preds"
      ],
      "metadata": {
        "colab": {
          "base_uri": "https://localhost:8080/"
        },
        "id": "Wc_vYsGF8_Yj",
        "outputId": "4ddf9757-42c9-4750-f2f5-f6522a18cf12"
      },
      "execution_count": null,
      "outputs": [
        {
          "output_type": "stream",
          "name": "stdout",
          "text": [
            "1/1 [==============================] - 0s 58ms/step\n",
            "1/1 [==============================] - 0s 78ms/step\n"
          ]
        },
        {
          "output_type": "execute_result",
          "data": {
            "text/plain": [
              "array([[ True],\n",
              "       [ True],\n",
              "       [ True],\n",
              "       [ True],\n",
              "       [ True],\n",
              "       [ True],\n",
              "       [ True],\n",
              "       [ True],\n",
              "       [ True],\n",
              "       [ True]])"
            ]
          },
          "metadata": {},
          "execution_count": 61
        }
      ]
    },
    {
      "cell_type": "code",
      "source": [
        "# load in a model using the .h5 format\n",
        "loaded_h5_format = tf.keras.models.load_model(\"/content/model_3.h5\")\n",
        "loaded_h5_format.summary()"
      ],
      "metadata": {
        "colab": {
          "base_uri": "https://localhost:8080/"
        },
        "id": "Ah38K0BC9l5C",
        "outputId": "14360c8e-6681-4c43-c927-dfff32527e64"
      },
      "execution_count": null,
      "outputs": [
        {
          "output_type": "stream",
          "name": "stdout",
          "text": [
            "Model: \"sequential_6\"\n",
            "_________________________________________________________________\n",
            " Layer (type)                Output Shape              Param #   \n",
            "=================================================================\n",
            " dense_10 (Dense)            (None, 10)                20        \n",
            "                                                                 \n",
            " dense_11 (Dense)            (None, 1)                 11        \n",
            "                                                                 \n",
            "=================================================================\n",
            "Total params: 31 (124.00 Byte)\n",
            "Trainable params: 31 (124.00 Byte)\n",
            "Non-trainable params: 0 (0.00 Byte)\n",
            "_________________________________________________________________\n"
          ]
        }
      ]
    },
    {
      "cell_type": "code",
      "source": [
        "# compare model_3 predictions with loaded_h5_format model predictions\n",
        "model_3_preds = model_3.predict(x_test)\n",
        "loaded_h5_format_preds = loaded_h5_format.predict(x_test)\n",
        "model_3_preds == loaded_h5_format_preds"
      ],
      "metadata": {
        "colab": {
          "base_uri": "https://localhost:8080/"
        },
        "id": "WCj8jh8L_BXP",
        "outputId": "84724b42-8c9f-4c4a-9152-bff56a6e2753"
      },
      "execution_count": null,
      "outputs": [
        {
          "output_type": "stream",
          "name": "stdout",
          "text": [
            "1/1 [==============================] - 0s 31ms/step\n",
            "1/1 [==============================] - 0s 168ms/step\n"
          ]
        },
        {
          "output_type": "execute_result",
          "data": {
            "text/plain": [
              "array([[ True],\n",
              "       [ True],\n",
              "       [ True],\n",
              "       [ True],\n",
              "       [ True],\n",
              "       [ True],\n",
              "       [ True],\n",
              "       [ True],\n",
              "       [ True],\n",
              "       [ True]])"
            ]
          },
          "metadata": {},
          "execution_count": 63
        }
      ]
    },
    {
      "cell_type": "markdown",
      "source": [
        "#### Download a model (or any other file ) from Google Colab\n",
        "\n",
        "IF you want to dowmload your file fro Google Colab:\n",
        "1. You can go to the \"file\" tab and right click on the file and click on download.\n",
        "\n",
        "2. Use code ."
      ],
      "metadata": {
        "id": "nmCoetrfAl_j"
      }
    },
    {
      "cell_type": "code",
      "source": [
        "# Download file from Google Colab\n",
        "from google.colab import files\n",
        "files.download(\"/content/model_3_saved_model\")"
      ],
      "metadata": {
        "colab": {
          "base_uri": "https://localhost:8080/",
          "height": 34
        },
        "id": "1Veq3oA__dbd",
        "outputId": "dee13b21-c232-4cd7-cacc-68d5fb030253"
      },
      "execution_count": null,
      "outputs": [
        {
          "output_type": "display_data",
          "data": {
            "text/plain": [
              "<IPython.core.display.Javascript object>"
            ],
            "application/javascript": [
              "\n",
              "    async function download(id, filename, size) {\n",
              "      if (!google.colab.kernel.accessAllowed) {\n",
              "        return;\n",
              "      }\n",
              "      const div = document.createElement('div');\n",
              "      const label = document.createElement('label');\n",
              "      label.textContent = `Downloading \"${filename}\": `;\n",
              "      div.appendChild(label);\n",
              "      const progress = document.createElement('progress');\n",
              "      progress.max = size;\n",
              "      div.appendChild(progress);\n",
              "      document.body.appendChild(div);\n",
              "\n",
              "      const buffers = [];\n",
              "      let downloaded = 0;\n",
              "\n",
              "      const channel = await google.colab.kernel.comms.open(id);\n",
              "      // Send a message to notify the kernel that we're ready.\n",
              "      channel.send({})\n",
              "\n",
              "      for await (const message of channel.messages) {\n",
              "        // Send a message to notify the kernel that we're ready.\n",
              "        channel.send({})\n",
              "        if (message.buffers) {\n",
              "          for (const buffer of message.buffers) {\n",
              "            buffers.push(buffer);\n",
              "            downloaded += buffer.byteLength;\n",
              "            progress.value = downloaded;\n",
              "          }\n",
              "        }\n",
              "      }\n",
              "      const blob = new Blob(buffers, {type: 'application/binary'});\n",
              "      const a = document.createElement('a');\n",
              "      a.href = window.URL.createObjectURL(blob);\n",
              "      a.download = filename;\n",
              "      div.appendChild(a);\n",
              "      a.click();\n",
              "      div.remove();\n",
              "    }\n",
              "  "
            ]
          },
          "metadata": {}
        },
        {
          "output_type": "display_data",
          "data": {
            "text/plain": [
              "<IPython.core.display.Javascript object>"
            ],
            "application/javascript": [
              "download(\"download_c4098542-2b08-41cc-847a-a76ca85cd467\", \"model_3_saved_model\", 4096)"
            ]
          },
          "metadata": {}
        }
      ]
    },
    {
      "cell_type": "code",
      "source": [
        "# Save file from Google Colab to Google Drive\n",
        "'''from google.colab import drive\n",
        "drive.mount(\"/content/drive\")'''"
      ],
      "metadata": {
        "colab": {
          "base_uri": "https://localhost:8080/",
          "height": 35
        },
        "id": "ZFXL7UBHJpbb",
        "outputId": "a17a6497-f107-48a6-a73f-9eda18f92793"
      },
      "execution_count": null,
      "outputs": [
        {
          "output_type": "execute_result",
          "data": {
            "text/plain": [
              "'from google.colab import drive\\ndrive.mount(\"/content/drive\")'"
            ],
            "application/vnd.google.colaboratory.intrinsic+json": {
              "type": "string"
            }
          },
          "metadata": {},
          "execution_count": 65
        }
      ]
    },
    {
      "cell_type": "markdown",
      "source": [
        "### Let's make model on bigger dataset"
      ],
      "metadata": {
        "id": "7aZhJwkPEqX7"
      }
    },
    {
      "cell_type": "code",
      "source": [
        "# import libraries\n",
        "import tensorflow as tf\n",
        "import numpy as np\n",
        "import matplotlib.pyplot as plt\n",
        "import pandas as pd"
      ],
      "metadata": {
        "id": "b1q1TM3mEipl"
      },
      "execution_count": null,
      "outputs": []
    },
    {
      "cell_type": "code",
      "source": [
        "insurance = pd.read_csv(\"/content/Insurance.zip\")\n",
        "insurance.head()"
      ],
      "metadata": {
        "colab": {
          "base_uri": "https://localhost:8080/",
          "height": 206
        },
        "id": "AoyYYZAxFEzT",
        "outputId": "898b0435-508c-4b89-8d35-2c6faea5fa9a"
      },
      "execution_count": null,
      "outputs": [
        {
          "output_type": "execute_result",
          "data": {
            "text/plain": [
              "   age     sex     bmi  children smoker     region      charges\n",
              "0   19  female  27.900         0    yes  southwest  16884.92400\n",
              "1   18    male  33.770         1     no  southeast   1725.55230\n",
              "2   28    male  33.000         3     no  southeast   4449.46200\n",
              "3   33    male  22.705         0     no  northwest  21984.47061\n",
              "4   32    male  28.880         0     no  northwest   3866.85520"
            ],
            "text/html": [
              "\n",
              "  <div id=\"df-56a156cd-76d7-48e0-abdc-7c32bb4288b5\" class=\"colab-df-container\">\n",
              "    <div>\n",
              "<style scoped>\n",
              "    .dataframe tbody tr th:only-of-type {\n",
              "        vertical-align: middle;\n",
              "    }\n",
              "\n",
              "    .dataframe tbody tr th {\n",
              "        vertical-align: top;\n",
              "    }\n",
              "\n",
              "    .dataframe thead th {\n",
              "        text-align: right;\n",
              "    }\n",
              "</style>\n",
              "<table border=\"1\" class=\"dataframe\">\n",
              "  <thead>\n",
              "    <tr style=\"text-align: right;\">\n",
              "      <th></th>\n",
              "      <th>age</th>\n",
              "      <th>sex</th>\n",
              "      <th>bmi</th>\n",
              "      <th>children</th>\n",
              "      <th>smoker</th>\n",
              "      <th>region</th>\n",
              "      <th>charges</th>\n",
              "    </tr>\n",
              "  </thead>\n",
              "  <tbody>\n",
              "    <tr>\n",
              "      <th>0</th>\n",
              "      <td>19</td>\n",
              "      <td>female</td>\n",
              "      <td>27.900</td>\n",
              "      <td>0</td>\n",
              "      <td>yes</td>\n",
              "      <td>southwest</td>\n",
              "      <td>16884.92400</td>\n",
              "    </tr>\n",
              "    <tr>\n",
              "      <th>1</th>\n",
              "      <td>18</td>\n",
              "      <td>male</td>\n",
              "      <td>33.770</td>\n",
              "      <td>1</td>\n",
              "      <td>no</td>\n",
              "      <td>southeast</td>\n",
              "      <td>1725.55230</td>\n",
              "    </tr>\n",
              "    <tr>\n",
              "      <th>2</th>\n",
              "      <td>28</td>\n",
              "      <td>male</td>\n",
              "      <td>33.000</td>\n",
              "      <td>3</td>\n",
              "      <td>no</td>\n",
              "      <td>southeast</td>\n",
              "      <td>4449.46200</td>\n",
              "    </tr>\n",
              "    <tr>\n",
              "      <th>3</th>\n",
              "      <td>33</td>\n",
              "      <td>male</td>\n",
              "      <td>22.705</td>\n",
              "      <td>0</td>\n",
              "      <td>no</td>\n",
              "      <td>northwest</td>\n",
              "      <td>21984.47061</td>\n",
              "    </tr>\n",
              "    <tr>\n",
              "      <th>4</th>\n",
              "      <td>32</td>\n",
              "      <td>male</td>\n",
              "      <td>28.880</td>\n",
              "      <td>0</td>\n",
              "      <td>no</td>\n",
              "      <td>northwest</td>\n",
              "      <td>3866.85520</td>\n",
              "    </tr>\n",
              "  </tbody>\n",
              "</table>\n",
              "</div>\n",
              "    <div class=\"colab-df-buttons\">\n",
              "\n",
              "  <div class=\"colab-df-container\">\n",
              "    <button class=\"colab-df-convert\" onclick=\"convertToInteractive('df-56a156cd-76d7-48e0-abdc-7c32bb4288b5')\"\n",
              "            title=\"Convert this dataframe to an interactive table.\"\n",
              "            style=\"display:none;\">\n",
              "\n",
              "  <svg xmlns=\"http://www.w3.org/2000/svg\" height=\"24px\" viewBox=\"0 -960 960 960\">\n",
              "    <path d=\"M120-120v-720h720v720H120Zm60-500h600v-160H180v160Zm220 220h160v-160H400v160Zm0 220h160v-160H400v160ZM180-400h160v-160H180v160Zm440 0h160v-160H620v160ZM180-180h160v-160H180v160Zm440 0h160v-160H620v160Z\"/>\n",
              "  </svg>\n",
              "    </button>\n",
              "\n",
              "  <style>\n",
              "    .colab-df-container {\n",
              "      display:flex;\n",
              "      gap: 12px;\n",
              "    }\n",
              "\n",
              "    .colab-df-convert {\n",
              "      background-color: #E8F0FE;\n",
              "      border: none;\n",
              "      border-radius: 50%;\n",
              "      cursor: pointer;\n",
              "      display: none;\n",
              "      fill: #1967D2;\n",
              "      height: 32px;\n",
              "      padding: 0 0 0 0;\n",
              "      width: 32px;\n",
              "    }\n",
              "\n",
              "    .colab-df-convert:hover {\n",
              "      background-color: #E2EBFA;\n",
              "      box-shadow: 0px 1px 2px rgba(60, 64, 67, 0.3), 0px 1px 3px 1px rgba(60, 64, 67, 0.15);\n",
              "      fill: #174EA6;\n",
              "    }\n",
              "\n",
              "    .colab-df-buttons div {\n",
              "      margin-bottom: 4px;\n",
              "    }\n",
              "\n",
              "    [theme=dark] .colab-df-convert {\n",
              "      background-color: #3B4455;\n",
              "      fill: #D2E3FC;\n",
              "    }\n",
              "\n",
              "    [theme=dark] .colab-df-convert:hover {\n",
              "      background-color: #434B5C;\n",
              "      box-shadow: 0px 1px 3px 1px rgba(0, 0, 0, 0.15);\n",
              "      filter: drop-shadow(0px 1px 2px rgba(0, 0, 0, 0.3));\n",
              "      fill: #FFFFFF;\n",
              "    }\n",
              "  </style>\n",
              "\n",
              "    <script>\n",
              "      const buttonEl =\n",
              "        document.querySelector('#df-56a156cd-76d7-48e0-abdc-7c32bb4288b5 button.colab-df-convert');\n",
              "      buttonEl.style.display =\n",
              "        google.colab.kernel.accessAllowed ? 'block' : 'none';\n",
              "\n",
              "      async function convertToInteractive(key) {\n",
              "        const element = document.querySelector('#df-56a156cd-76d7-48e0-abdc-7c32bb4288b5');\n",
              "        const dataTable =\n",
              "          await google.colab.kernel.invokeFunction('convertToInteractive',\n",
              "                                                    [key], {});\n",
              "        if (!dataTable) return;\n",
              "\n",
              "        const docLinkHtml = 'Like what you see? Visit the ' +\n",
              "          '<a target=\"_blank\" href=https://colab.research.google.com/notebooks/data_table.ipynb>data table notebook</a>'\n",
              "          + ' to learn more about interactive tables.';\n",
              "        element.innerHTML = '';\n",
              "        dataTable['output_type'] = 'display_data';\n",
              "        await google.colab.output.renderOutput(dataTable, element);\n",
              "        const docLink = document.createElement('div');\n",
              "        docLink.innerHTML = docLinkHtml;\n",
              "        element.appendChild(docLink);\n",
              "      }\n",
              "    </script>\n",
              "  </div>\n",
              "\n",
              "\n",
              "<div id=\"df-e67c79f1-b2f0-48c2-8e27-68ac051eb104\">\n",
              "  <button class=\"colab-df-quickchart\" onclick=\"quickchart('df-e67c79f1-b2f0-48c2-8e27-68ac051eb104')\"\n",
              "            title=\"Suggest charts\"\n",
              "            style=\"display:none;\">\n",
              "\n",
              "<svg xmlns=\"http://www.w3.org/2000/svg\" height=\"24px\"viewBox=\"0 0 24 24\"\n",
              "     width=\"24px\">\n",
              "    <g>\n",
              "        <path d=\"M19 3H5c-1.1 0-2 .9-2 2v14c0 1.1.9 2 2 2h14c1.1 0 2-.9 2-2V5c0-1.1-.9-2-2-2zM9 17H7v-7h2v7zm4 0h-2V7h2v10zm4 0h-2v-4h2v4z\"/>\n",
              "    </g>\n",
              "</svg>\n",
              "  </button>\n",
              "\n",
              "<style>\n",
              "  .colab-df-quickchart {\n",
              "      --bg-color: #E8F0FE;\n",
              "      --fill-color: #1967D2;\n",
              "      --hover-bg-color: #E2EBFA;\n",
              "      --hover-fill-color: #174EA6;\n",
              "      --disabled-fill-color: #AAA;\n",
              "      --disabled-bg-color: #DDD;\n",
              "  }\n",
              "\n",
              "  [theme=dark] .colab-df-quickchart {\n",
              "      --bg-color: #3B4455;\n",
              "      --fill-color: #D2E3FC;\n",
              "      --hover-bg-color: #434B5C;\n",
              "      --hover-fill-color: #FFFFFF;\n",
              "      --disabled-bg-color: #3B4455;\n",
              "      --disabled-fill-color: #666;\n",
              "  }\n",
              "\n",
              "  .colab-df-quickchart {\n",
              "    background-color: var(--bg-color);\n",
              "    border: none;\n",
              "    border-radius: 50%;\n",
              "    cursor: pointer;\n",
              "    display: none;\n",
              "    fill: var(--fill-color);\n",
              "    height: 32px;\n",
              "    padding: 0;\n",
              "    width: 32px;\n",
              "  }\n",
              "\n",
              "  .colab-df-quickchart:hover {\n",
              "    background-color: var(--hover-bg-color);\n",
              "    box-shadow: 0 1px 2px rgba(60, 64, 67, 0.3), 0 1px 3px 1px rgba(60, 64, 67, 0.15);\n",
              "    fill: var(--button-hover-fill-color);\n",
              "  }\n",
              "\n",
              "  .colab-df-quickchart-complete:disabled,\n",
              "  .colab-df-quickchart-complete:disabled:hover {\n",
              "    background-color: var(--disabled-bg-color);\n",
              "    fill: var(--disabled-fill-color);\n",
              "    box-shadow: none;\n",
              "  }\n",
              "\n",
              "  .colab-df-spinner {\n",
              "    border: 2px solid var(--fill-color);\n",
              "    border-color: transparent;\n",
              "    border-bottom-color: var(--fill-color);\n",
              "    animation:\n",
              "      spin 1s steps(1) infinite;\n",
              "  }\n",
              "\n",
              "  @keyframes spin {\n",
              "    0% {\n",
              "      border-color: transparent;\n",
              "      border-bottom-color: var(--fill-color);\n",
              "      border-left-color: var(--fill-color);\n",
              "    }\n",
              "    20% {\n",
              "      border-color: transparent;\n",
              "      border-left-color: var(--fill-color);\n",
              "      border-top-color: var(--fill-color);\n",
              "    }\n",
              "    30% {\n",
              "      border-color: transparent;\n",
              "      border-left-color: var(--fill-color);\n",
              "      border-top-color: var(--fill-color);\n",
              "      border-right-color: var(--fill-color);\n",
              "    }\n",
              "    40% {\n",
              "      border-color: transparent;\n",
              "      border-right-color: var(--fill-color);\n",
              "      border-top-color: var(--fill-color);\n",
              "    }\n",
              "    60% {\n",
              "      border-color: transparent;\n",
              "      border-right-color: var(--fill-color);\n",
              "    }\n",
              "    80% {\n",
              "      border-color: transparent;\n",
              "      border-right-color: var(--fill-color);\n",
              "      border-bottom-color: var(--fill-color);\n",
              "    }\n",
              "    90% {\n",
              "      border-color: transparent;\n",
              "      border-bottom-color: var(--fill-color);\n",
              "    }\n",
              "  }\n",
              "</style>\n",
              "\n",
              "  <script>\n",
              "    async function quickchart(key) {\n",
              "      const quickchartButtonEl =\n",
              "        document.querySelector('#' + key + ' button');\n",
              "      quickchartButtonEl.disabled = true;  // To prevent multiple clicks.\n",
              "      quickchartButtonEl.classList.add('colab-df-spinner');\n",
              "      try {\n",
              "        const charts = await google.colab.kernel.invokeFunction(\n",
              "            'suggestCharts', [key], {});\n",
              "      } catch (error) {\n",
              "        console.error('Error during call to suggestCharts:', error);\n",
              "      }\n",
              "      quickchartButtonEl.classList.remove('colab-df-spinner');\n",
              "      quickchartButtonEl.classList.add('colab-df-quickchart-complete');\n",
              "    }\n",
              "    (() => {\n",
              "      let quickchartButtonEl =\n",
              "        document.querySelector('#df-e67c79f1-b2f0-48c2-8e27-68ac051eb104 button');\n",
              "      quickchartButtonEl.style.display =\n",
              "        google.colab.kernel.accessAllowed ? 'block' : 'none';\n",
              "    })();\n",
              "  </script>\n",
              "</div>\n",
              "\n",
              "    </div>\n",
              "  </div>\n"
            ],
            "application/vnd.google.colaboratory.intrinsic+json": {
              "type": "dataframe",
              "variable_name": "insurance",
              "summary": "{\n  \"name\": \"insurance\",\n  \"rows\": 1338,\n  \"fields\": [\n    {\n      \"column\": \"age\",\n      \"properties\": {\n        \"dtype\": \"number\",\n        \"std\": 14,\n        \"min\": 18,\n        \"max\": 64,\n        \"num_unique_values\": 47,\n        \"samples\": [\n          21,\n          45,\n          36\n        ],\n        \"semantic_type\": \"\",\n        \"description\": \"\"\n      }\n    },\n    {\n      \"column\": \"sex\",\n      \"properties\": {\n        \"dtype\": \"category\",\n        \"num_unique_values\": 2,\n        \"samples\": [\n          \"male\",\n          \"female\"\n        ],\n        \"semantic_type\": \"\",\n        \"description\": \"\"\n      }\n    },\n    {\n      \"column\": \"bmi\",\n      \"properties\": {\n        \"dtype\": \"number\",\n        \"std\": 6.098186911679014,\n        \"min\": 15.96,\n        \"max\": 53.13,\n        \"num_unique_values\": 548,\n        \"samples\": [\n          23.18,\n          26.885\n        ],\n        \"semantic_type\": \"\",\n        \"description\": \"\"\n      }\n    },\n    {\n      \"column\": \"children\",\n      \"properties\": {\n        \"dtype\": \"number\",\n        \"std\": 1,\n        \"min\": 0,\n        \"max\": 5,\n        \"num_unique_values\": 6,\n        \"samples\": [\n          0,\n          1\n        ],\n        \"semantic_type\": \"\",\n        \"description\": \"\"\n      }\n    },\n    {\n      \"column\": \"smoker\",\n      \"properties\": {\n        \"dtype\": \"category\",\n        \"num_unique_values\": 2,\n        \"samples\": [\n          \"no\",\n          \"yes\"\n        ],\n        \"semantic_type\": \"\",\n        \"description\": \"\"\n      }\n    },\n    {\n      \"column\": \"region\",\n      \"properties\": {\n        \"dtype\": \"category\",\n        \"num_unique_values\": 4,\n        \"samples\": [\n          \"southeast\",\n          \"northeast\"\n        ],\n        \"semantic_type\": \"\",\n        \"description\": \"\"\n      }\n    },\n    {\n      \"column\": \"charges\",\n      \"properties\": {\n        \"dtype\": \"number\",\n        \"std\": 12110.011236694001,\n        \"min\": 1121.8739,\n        \"max\": 63770.42801,\n        \"num_unique_values\": 1337,\n        \"samples\": [\n          8688.85885,\n          5708.867\n        ],\n        \"semantic_type\": \"\",\n        \"description\": \"\"\n      }\n    }\n  ]\n}"
            }
          },
          "metadata": {},
          "execution_count": 141
        }
      ]
    },
    {
      "cell_type": "code",
      "source": [
        "# checking the columns and row\n",
        "insurance.shape"
      ],
      "metadata": {
        "colab": {
          "base_uri": "https://localhost:8080/"
        },
        "id": "Tjf2tgU5GBgd",
        "outputId": "b851d778-089f-4417-e5f7-401d101dfcb0"
      },
      "execution_count": null,
      "outputs": [
        {
          "output_type": "execute_result",
          "data": {
            "text/plain": [
              "(1338, 7)"
            ]
          },
          "metadata": {},
          "execution_count": 142
        }
      ]
    },
    {
      "cell_type": "code",
      "source": [
        "insurance[\"age\"],insurance[\"sex\"]"
      ],
      "metadata": {
        "colab": {
          "base_uri": "https://localhost:8080/"
        },
        "id": "H7ugqcU_HaAX",
        "outputId": "7c6e9b66-c9eb-4f27-cae9-0440eeeb9e37"
      },
      "execution_count": null,
      "outputs": [
        {
          "output_type": "execute_result",
          "data": {
            "text/plain": [
              "(0       19\n",
              " 1       18\n",
              " 2       28\n",
              " 3       33\n",
              " 4       32\n",
              "         ..\n",
              " 1333    50\n",
              " 1334    18\n",
              " 1335    18\n",
              " 1336    21\n",
              " 1337    61\n",
              " Name: age, Length: 1338, dtype: int64,\n",
              " 0       female\n",
              " 1         male\n",
              " 2         male\n",
              " 3         male\n",
              " 4         male\n",
              "          ...  \n",
              " 1333      male\n",
              " 1334    female\n",
              " 1335    female\n",
              " 1336    female\n",
              " 1337    female\n",
              " Name: sex, Length: 1338, dtype: object)"
            ]
          },
          "metadata": {},
          "execution_count": 143
        }
      ]
    },
    {
      "cell_type": "code",
      "source": [
        "# since some columns in our data in the form of categorical columns so using getdummies method make it in numerical category\n",
        "insurance_one_hot = pd.get_dummies(insurance)\n",
        "insurance_one_hot.head()"
      ],
      "metadata": {
        "colab": {
          "base_uri": "https://localhost:8080/",
          "height": 226
        },
        "id": "2WirWGbsH984",
        "outputId": "208deff5-e068-4dbe-f261-cb73db2d0087"
      },
      "execution_count": null,
      "outputs": [
        {
          "output_type": "execute_result",
          "data": {
            "text/plain": [
              "   age     bmi  children      charges  sex_female  sex_male  smoker_no  \\\n",
              "0   19  27.900         0  16884.92400        True     False      False   \n",
              "1   18  33.770         1   1725.55230       False      True       True   \n",
              "2   28  33.000         3   4449.46200       False      True       True   \n",
              "3   33  22.705         0  21984.47061       False      True       True   \n",
              "4   32  28.880         0   3866.85520       False      True       True   \n",
              "\n",
              "   smoker_yes  region_northeast  region_northwest  region_southeast  \\\n",
              "0        True             False             False             False   \n",
              "1       False             False             False              True   \n",
              "2       False             False             False              True   \n",
              "3       False             False              True             False   \n",
              "4       False             False              True             False   \n",
              "\n",
              "   region_southwest  \n",
              "0              True  \n",
              "1             False  \n",
              "2             False  \n",
              "3             False  \n",
              "4             False  "
            ],
            "text/html": [
              "\n",
              "  <div id=\"df-0b66ef0f-d87f-4e5a-ac9a-8bb4300190e7\" class=\"colab-df-container\">\n",
              "    <div>\n",
              "<style scoped>\n",
              "    .dataframe tbody tr th:only-of-type {\n",
              "        vertical-align: middle;\n",
              "    }\n",
              "\n",
              "    .dataframe tbody tr th {\n",
              "        vertical-align: top;\n",
              "    }\n",
              "\n",
              "    .dataframe thead th {\n",
              "        text-align: right;\n",
              "    }\n",
              "</style>\n",
              "<table border=\"1\" class=\"dataframe\">\n",
              "  <thead>\n",
              "    <tr style=\"text-align: right;\">\n",
              "      <th></th>\n",
              "      <th>age</th>\n",
              "      <th>bmi</th>\n",
              "      <th>children</th>\n",
              "      <th>charges</th>\n",
              "      <th>sex_female</th>\n",
              "      <th>sex_male</th>\n",
              "      <th>smoker_no</th>\n",
              "      <th>smoker_yes</th>\n",
              "      <th>region_northeast</th>\n",
              "      <th>region_northwest</th>\n",
              "      <th>region_southeast</th>\n",
              "      <th>region_southwest</th>\n",
              "    </tr>\n",
              "  </thead>\n",
              "  <tbody>\n",
              "    <tr>\n",
              "      <th>0</th>\n",
              "      <td>19</td>\n",
              "      <td>27.900</td>\n",
              "      <td>0</td>\n",
              "      <td>16884.92400</td>\n",
              "      <td>True</td>\n",
              "      <td>False</td>\n",
              "      <td>False</td>\n",
              "      <td>True</td>\n",
              "      <td>False</td>\n",
              "      <td>False</td>\n",
              "      <td>False</td>\n",
              "      <td>True</td>\n",
              "    </tr>\n",
              "    <tr>\n",
              "      <th>1</th>\n",
              "      <td>18</td>\n",
              "      <td>33.770</td>\n",
              "      <td>1</td>\n",
              "      <td>1725.55230</td>\n",
              "      <td>False</td>\n",
              "      <td>True</td>\n",
              "      <td>True</td>\n",
              "      <td>False</td>\n",
              "      <td>False</td>\n",
              "      <td>False</td>\n",
              "      <td>True</td>\n",
              "      <td>False</td>\n",
              "    </tr>\n",
              "    <tr>\n",
              "      <th>2</th>\n",
              "      <td>28</td>\n",
              "      <td>33.000</td>\n",
              "      <td>3</td>\n",
              "      <td>4449.46200</td>\n",
              "      <td>False</td>\n",
              "      <td>True</td>\n",
              "      <td>True</td>\n",
              "      <td>False</td>\n",
              "      <td>False</td>\n",
              "      <td>False</td>\n",
              "      <td>True</td>\n",
              "      <td>False</td>\n",
              "    </tr>\n",
              "    <tr>\n",
              "      <th>3</th>\n",
              "      <td>33</td>\n",
              "      <td>22.705</td>\n",
              "      <td>0</td>\n",
              "      <td>21984.47061</td>\n",
              "      <td>False</td>\n",
              "      <td>True</td>\n",
              "      <td>True</td>\n",
              "      <td>False</td>\n",
              "      <td>False</td>\n",
              "      <td>True</td>\n",
              "      <td>False</td>\n",
              "      <td>False</td>\n",
              "    </tr>\n",
              "    <tr>\n",
              "      <th>4</th>\n",
              "      <td>32</td>\n",
              "      <td>28.880</td>\n",
              "      <td>0</td>\n",
              "      <td>3866.85520</td>\n",
              "      <td>False</td>\n",
              "      <td>True</td>\n",
              "      <td>True</td>\n",
              "      <td>False</td>\n",
              "      <td>False</td>\n",
              "      <td>True</td>\n",
              "      <td>False</td>\n",
              "      <td>False</td>\n",
              "    </tr>\n",
              "  </tbody>\n",
              "</table>\n",
              "</div>\n",
              "    <div class=\"colab-df-buttons\">\n",
              "\n",
              "  <div class=\"colab-df-container\">\n",
              "    <button class=\"colab-df-convert\" onclick=\"convertToInteractive('df-0b66ef0f-d87f-4e5a-ac9a-8bb4300190e7')\"\n",
              "            title=\"Convert this dataframe to an interactive table.\"\n",
              "            style=\"display:none;\">\n",
              "\n",
              "  <svg xmlns=\"http://www.w3.org/2000/svg\" height=\"24px\" viewBox=\"0 -960 960 960\">\n",
              "    <path d=\"M120-120v-720h720v720H120Zm60-500h600v-160H180v160Zm220 220h160v-160H400v160Zm0 220h160v-160H400v160ZM180-400h160v-160H180v160Zm440 0h160v-160H620v160ZM180-180h160v-160H180v160Zm440 0h160v-160H620v160Z\"/>\n",
              "  </svg>\n",
              "    </button>\n",
              "\n",
              "  <style>\n",
              "    .colab-df-container {\n",
              "      display:flex;\n",
              "      gap: 12px;\n",
              "    }\n",
              "\n",
              "    .colab-df-convert {\n",
              "      background-color: #E8F0FE;\n",
              "      border: none;\n",
              "      border-radius: 50%;\n",
              "      cursor: pointer;\n",
              "      display: none;\n",
              "      fill: #1967D2;\n",
              "      height: 32px;\n",
              "      padding: 0 0 0 0;\n",
              "      width: 32px;\n",
              "    }\n",
              "\n",
              "    .colab-df-convert:hover {\n",
              "      background-color: #E2EBFA;\n",
              "      box-shadow: 0px 1px 2px rgba(60, 64, 67, 0.3), 0px 1px 3px 1px rgba(60, 64, 67, 0.15);\n",
              "      fill: #174EA6;\n",
              "    }\n",
              "\n",
              "    .colab-df-buttons div {\n",
              "      margin-bottom: 4px;\n",
              "    }\n",
              "\n",
              "    [theme=dark] .colab-df-convert {\n",
              "      background-color: #3B4455;\n",
              "      fill: #D2E3FC;\n",
              "    }\n",
              "\n",
              "    [theme=dark] .colab-df-convert:hover {\n",
              "      background-color: #434B5C;\n",
              "      box-shadow: 0px 1px 3px 1px rgba(0, 0, 0, 0.15);\n",
              "      filter: drop-shadow(0px 1px 2px rgba(0, 0, 0, 0.3));\n",
              "      fill: #FFFFFF;\n",
              "    }\n",
              "  </style>\n",
              "\n",
              "    <script>\n",
              "      const buttonEl =\n",
              "        document.querySelector('#df-0b66ef0f-d87f-4e5a-ac9a-8bb4300190e7 button.colab-df-convert');\n",
              "      buttonEl.style.display =\n",
              "        google.colab.kernel.accessAllowed ? 'block' : 'none';\n",
              "\n",
              "      async function convertToInteractive(key) {\n",
              "        const element = document.querySelector('#df-0b66ef0f-d87f-4e5a-ac9a-8bb4300190e7');\n",
              "        const dataTable =\n",
              "          await google.colab.kernel.invokeFunction('convertToInteractive',\n",
              "                                                    [key], {});\n",
              "        if (!dataTable) return;\n",
              "\n",
              "        const docLinkHtml = 'Like what you see? Visit the ' +\n",
              "          '<a target=\"_blank\" href=https://colab.research.google.com/notebooks/data_table.ipynb>data table notebook</a>'\n",
              "          + ' to learn more about interactive tables.';\n",
              "        element.innerHTML = '';\n",
              "        dataTable['output_type'] = 'display_data';\n",
              "        await google.colab.output.renderOutput(dataTable, element);\n",
              "        const docLink = document.createElement('div');\n",
              "        docLink.innerHTML = docLinkHtml;\n",
              "        element.appendChild(docLink);\n",
              "      }\n",
              "    </script>\n",
              "  </div>\n",
              "\n",
              "\n",
              "<div id=\"df-941971df-f7eb-4191-aaf0-8336c37ab609\">\n",
              "  <button class=\"colab-df-quickchart\" onclick=\"quickchart('df-941971df-f7eb-4191-aaf0-8336c37ab609')\"\n",
              "            title=\"Suggest charts\"\n",
              "            style=\"display:none;\">\n",
              "\n",
              "<svg xmlns=\"http://www.w3.org/2000/svg\" height=\"24px\"viewBox=\"0 0 24 24\"\n",
              "     width=\"24px\">\n",
              "    <g>\n",
              "        <path d=\"M19 3H5c-1.1 0-2 .9-2 2v14c0 1.1.9 2 2 2h14c1.1 0 2-.9 2-2V5c0-1.1-.9-2-2-2zM9 17H7v-7h2v7zm4 0h-2V7h2v10zm4 0h-2v-4h2v4z\"/>\n",
              "    </g>\n",
              "</svg>\n",
              "  </button>\n",
              "\n",
              "<style>\n",
              "  .colab-df-quickchart {\n",
              "      --bg-color: #E8F0FE;\n",
              "      --fill-color: #1967D2;\n",
              "      --hover-bg-color: #E2EBFA;\n",
              "      --hover-fill-color: #174EA6;\n",
              "      --disabled-fill-color: #AAA;\n",
              "      --disabled-bg-color: #DDD;\n",
              "  }\n",
              "\n",
              "  [theme=dark] .colab-df-quickchart {\n",
              "      --bg-color: #3B4455;\n",
              "      --fill-color: #D2E3FC;\n",
              "      --hover-bg-color: #434B5C;\n",
              "      --hover-fill-color: #FFFFFF;\n",
              "      --disabled-bg-color: #3B4455;\n",
              "      --disabled-fill-color: #666;\n",
              "  }\n",
              "\n",
              "  .colab-df-quickchart {\n",
              "    background-color: var(--bg-color);\n",
              "    border: none;\n",
              "    border-radius: 50%;\n",
              "    cursor: pointer;\n",
              "    display: none;\n",
              "    fill: var(--fill-color);\n",
              "    height: 32px;\n",
              "    padding: 0;\n",
              "    width: 32px;\n",
              "  }\n",
              "\n",
              "  .colab-df-quickchart:hover {\n",
              "    background-color: var(--hover-bg-color);\n",
              "    box-shadow: 0 1px 2px rgba(60, 64, 67, 0.3), 0 1px 3px 1px rgba(60, 64, 67, 0.15);\n",
              "    fill: var(--button-hover-fill-color);\n",
              "  }\n",
              "\n",
              "  .colab-df-quickchart-complete:disabled,\n",
              "  .colab-df-quickchart-complete:disabled:hover {\n",
              "    background-color: var(--disabled-bg-color);\n",
              "    fill: var(--disabled-fill-color);\n",
              "    box-shadow: none;\n",
              "  }\n",
              "\n",
              "  .colab-df-spinner {\n",
              "    border: 2px solid var(--fill-color);\n",
              "    border-color: transparent;\n",
              "    border-bottom-color: var(--fill-color);\n",
              "    animation:\n",
              "      spin 1s steps(1) infinite;\n",
              "  }\n",
              "\n",
              "  @keyframes spin {\n",
              "    0% {\n",
              "      border-color: transparent;\n",
              "      border-bottom-color: var(--fill-color);\n",
              "      border-left-color: var(--fill-color);\n",
              "    }\n",
              "    20% {\n",
              "      border-color: transparent;\n",
              "      border-left-color: var(--fill-color);\n",
              "      border-top-color: var(--fill-color);\n",
              "    }\n",
              "    30% {\n",
              "      border-color: transparent;\n",
              "      border-left-color: var(--fill-color);\n",
              "      border-top-color: var(--fill-color);\n",
              "      border-right-color: var(--fill-color);\n",
              "    }\n",
              "    40% {\n",
              "      border-color: transparent;\n",
              "      border-right-color: var(--fill-color);\n",
              "      border-top-color: var(--fill-color);\n",
              "    }\n",
              "    60% {\n",
              "      border-color: transparent;\n",
              "      border-right-color: var(--fill-color);\n",
              "    }\n",
              "    80% {\n",
              "      border-color: transparent;\n",
              "      border-right-color: var(--fill-color);\n",
              "      border-bottom-color: var(--fill-color);\n",
              "    }\n",
              "    90% {\n",
              "      border-color: transparent;\n",
              "      border-bottom-color: var(--fill-color);\n",
              "    }\n",
              "  }\n",
              "</style>\n",
              "\n",
              "  <script>\n",
              "    async function quickchart(key) {\n",
              "      const quickchartButtonEl =\n",
              "        document.querySelector('#' + key + ' button');\n",
              "      quickchartButtonEl.disabled = true;  // To prevent multiple clicks.\n",
              "      quickchartButtonEl.classList.add('colab-df-spinner');\n",
              "      try {\n",
              "        const charts = await google.colab.kernel.invokeFunction(\n",
              "            'suggestCharts', [key], {});\n",
              "      } catch (error) {\n",
              "        console.error('Error during call to suggestCharts:', error);\n",
              "      }\n",
              "      quickchartButtonEl.classList.remove('colab-df-spinner');\n",
              "      quickchartButtonEl.classList.add('colab-df-quickchart-complete');\n",
              "    }\n",
              "    (() => {\n",
              "      let quickchartButtonEl =\n",
              "        document.querySelector('#df-941971df-f7eb-4191-aaf0-8336c37ab609 button');\n",
              "      quickchartButtonEl.style.display =\n",
              "        google.colab.kernel.accessAllowed ? 'block' : 'none';\n",
              "    })();\n",
              "  </script>\n",
              "</div>\n",
              "\n",
              "    </div>\n",
              "  </div>\n"
            ],
            "application/vnd.google.colaboratory.intrinsic+json": {
              "type": "dataframe",
              "variable_name": "insurance_one_hot",
              "summary": "{\n  \"name\": \"insurance_one_hot\",\n  \"rows\": 1338,\n  \"fields\": [\n    {\n      \"column\": \"age\",\n      \"properties\": {\n        \"dtype\": \"number\",\n        \"std\": 14,\n        \"min\": 18,\n        \"max\": 64,\n        \"num_unique_values\": 47,\n        \"samples\": [\n          21,\n          45,\n          36\n        ],\n        \"semantic_type\": \"\",\n        \"description\": \"\"\n      }\n    },\n    {\n      \"column\": \"bmi\",\n      \"properties\": {\n        \"dtype\": \"number\",\n        \"std\": 6.098186911679014,\n        \"min\": 15.96,\n        \"max\": 53.13,\n        \"num_unique_values\": 548,\n        \"samples\": [\n          23.18,\n          26.885,\n          29.26\n        ],\n        \"semantic_type\": \"\",\n        \"description\": \"\"\n      }\n    },\n    {\n      \"column\": \"children\",\n      \"properties\": {\n        \"dtype\": \"number\",\n        \"std\": 1,\n        \"min\": 0,\n        \"max\": 5,\n        \"num_unique_values\": 6,\n        \"samples\": [\n          0,\n          1,\n          4\n        ],\n        \"semantic_type\": \"\",\n        \"description\": \"\"\n      }\n    },\n    {\n      \"column\": \"charges\",\n      \"properties\": {\n        \"dtype\": \"number\",\n        \"std\": 12110.011236694001,\n        \"min\": 1121.8739,\n        \"max\": 63770.42801,\n        \"num_unique_values\": 1337,\n        \"samples\": [\n          8688.85885,\n          5708.867,\n          11436.73815\n        ],\n        \"semantic_type\": \"\",\n        \"description\": \"\"\n      }\n    },\n    {\n      \"column\": \"sex_female\",\n      \"properties\": {\n        \"dtype\": \"boolean\",\n        \"num_unique_values\": 2,\n        \"samples\": [\n          false,\n          true\n        ],\n        \"semantic_type\": \"\",\n        \"description\": \"\"\n      }\n    },\n    {\n      \"column\": \"sex_male\",\n      \"properties\": {\n        \"dtype\": \"boolean\",\n        \"num_unique_values\": 2,\n        \"samples\": [\n          true,\n          false\n        ],\n        \"semantic_type\": \"\",\n        \"description\": \"\"\n      }\n    },\n    {\n      \"column\": \"smoker_no\",\n      \"properties\": {\n        \"dtype\": \"boolean\",\n        \"num_unique_values\": 2,\n        \"samples\": [\n          true,\n          false\n        ],\n        \"semantic_type\": \"\",\n        \"description\": \"\"\n      }\n    },\n    {\n      \"column\": \"smoker_yes\",\n      \"properties\": {\n        \"dtype\": \"boolean\",\n        \"num_unique_values\": 2,\n        \"samples\": [\n          false,\n          true\n        ],\n        \"semantic_type\": \"\",\n        \"description\": \"\"\n      }\n    },\n    {\n      \"column\": \"region_northeast\",\n      \"properties\": {\n        \"dtype\": \"boolean\",\n        \"num_unique_values\": 2,\n        \"samples\": [\n          true,\n          false\n        ],\n        \"semantic_type\": \"\",\n        \"description\": \"\"\n      }\n    },\n    {\n      \"column\": \"region_northwest\",\n      \"properties\": {\n        \"dtype\": \"boolean\",\n        \"num_unique_values\": 2,\n        \"samples\": [\n          true,\n          false\n        ],\n        \"semantic_type\": \"\",\n        \"description\": \"\"\n      }\n    },\n    {\n      \"column\": \"region_southeast\",\n      \"properties\": {\n        \"dtype\": \"boolean\",\n        \"num_unique_values\": 2,\n        \"samples\": [\n          true,\n          false\n        ],\n        \"semantic_type\": \"\",\n        \"description\": \"\"\n      }\n    },\n    {\n      \"column\": \"region_southwest\",\n      \"properties\": {\n        \"dtype\": \"boolean\",\n        \"num_unique_values\": 2,\n        \"samples\": [\n          false,\n          true\n        ],\n        \"semantic_type\": \"\",\n        \"description\": \"\"\n      }\n    }\n  ]\n}"
            }
          },
          "metadata": {},
          "execution_count": 144
        }
      ]
    },
    {
      "cell_type": "code",
      "source": [
        "# Create x & y values (features and labels)\n",
        "x = insurance_one_hot.drop(\"charges\",axis=1)\n",
        "y = insurance_one_hot[\"charges\"]"
      ],
      "metadata": {
        "id": "7czeDCbSI16n"
      },
      "execution_count": null,
      "outputs": []
    },
    {
      "cell_type": "code",
      "source": [
        "x.head()"
      ],
      "metadata": {
        "colab": {
          "base_uri": "https://localhost:8080/",
          "height": 226
        },
        "id": "HTUbOePxKoIi",
        "outputId": "f672ad17-99bb-4a12-a4ac-9be194af0198"
      },
      "execution_count": null,
      "outputs": [
        {
          "output_type": "execute_result",
          "data": {
            "text/plain": [
              "   age     bmi  children  sex_female  sex_male  smoker_no  smoker_yes  \\\n",
              "0   19  27.900         0        True     False      False        True   \n",
              "1   18  33.770         1       False      True       True       False   \n",
              "2   28  33.000         3       False      True       True       False   \n",
              "3   33  22.705         0       False      True       True       False   \n",
              "4   32  28.880         0       False      True       True       False   \n",
              "\n",
              "   region_northeast  region_northwest  region_southeast  region_southwest  \n",
              "0             False             False             False              True  \n",
              "1             False             False              True             False  \n",
              "2             False             False              True             False  \n",
              "3             False              True             False             False  \n",
              "4             False              True             False             False  "
            ],
            "text/html": [
              "\n",
              "  <div id=\"df-02de1ec9-19c8-495f-a0da-715f76a7dff3\" class=\"colab-df-container\">\n",
              "    <div>\n",
              "<style scoped>\n",
              "    .dataframe tbody tr th:only-of-type {\n",
              "        vertical-align: middle;\n",
              "    }\n",
              "\n",
              "    .dataframe tbody tr th {\n",
              "        vertical-align: top;\n",
              "    }\n",
              "\n",
              "    .dataframe thead th {\n",
              "        text-align: right;\n",
              "    }\n",
              "</style>\n",
              "<table border=\"1\" class=\"dataframe\">\n",
              "  <thead>\n",
              "    <tr style=\"text-align: right;\">\n",
              "      <th></th>\n",
              "      <th>age</th>\n",
              "      <th>bmi</th>\n",
              "      <th>children</th>\n",
              "      <th>sex_female</th>\n",
              "      <th>sex_male</th>\n",
              "      <th>smoker_no</th>\n",
              "      <th>smoker_yes</th>\n",
              "      <th>region_northeast</th>\n",
              "      <th>region_northwest</th>\n",
              "      <th>region_southeast</th>\n",
              "      <th>region_southwest</th>\n",
              "    </tr>\n",
              "  </thead>\n",
              "  <tbody>\n",
              "    <tr>\n",
              "      <th>0</th>\n",
              "      <td>19</td>\n",
              "      <td>27.900</td>\n",
              "      <td>0</td>\n",
              "      <td>True</td>\n",
              "      <td>False</td>\n",
              "      <td>False</td>\n",
              "      <td>True</td>\n",
              "      <td>False</td>\n",
              "      <td>False</td>\n",
              "      <td>False</td>\n",
              "      <td>True</td>\n",
              "    </tr>\n",
              "    <tr>\n",
              "      <th>1</th>\n",
              "      <td>18</td>\n",
              "      <td>33.770</td>\n",
              "      <td>1</td>\n",
              "      <td>False</td>\n",
              "      <td>True</td>\n",
              "      <td>True</td>\n",
              "      <td>False</td>\n",
              "      <td>False</td>\n",
              "      <td>False</td>\n",
              "      <td>True</td>\n",
              "      <td>False</td>\n",
              "    </tr>\n",
              "    <tr>\n",
              "      <th>2</th>\n",
              "      <td>28</td>\n",
              "      <td>33.000</td>\n",
              "      <td>3</td>\n",
              "      <td>False</td>\n",
              "      <td>True</td>\n",
              "      <td>True</td>\n",
              "      <td>False</td>\n",
              "      <td>False</td>\n",
              "      <td>False</td>\n",
              "      <td>True</td>\n",
              "      <td>False</td>\n",
              "    </tr>\n",
              "    <tr>\n",
              "      <th>3</th>\n",
              "      <td>33</td>\n",
              "      <td>22.705</td>\n",
              "      <td>0</td>\n",
              "      <td>False</td>\n",
              "      <td>True</td>\n",
              "      <td>True</td>\n",
              "      <td>False</td>\n",
              "      <td>False</td>\n",
              "      <td>True</td>\n",
              "      <td>False</td>\n",
              "      <td>False</td>\n",
              "    </tr>\n",
              "    <tr>\n",
              "      <th>4</th>\n",
              "      <td>32</td>\n",
              "      <td>28.880</td>\n",
              "      <td>0</td>\n",
              "      <td>False</td>\n",
              "      <td>True</td>\n",
              "      <td>True</td>\n",
              "      <td>False</td>\n",
              "      <td>False</td>\n",
              "      <td>True</td>\n",
              "      <td>False</td>\n",
              "      <td>False</td>\n",
              "    </tr>\n",
              "  </tbody>\n",
              "</table>\n",
              "</div>\n",
              "    <div class=\"colab-df-buttons\">\n",
              "\n",
              "  <div class=\"colab-df-container\">\n",
              "    <button class=\"colab-df-convert\" onclick=\"convertToInteractive('df-02de1ec9-19c8-495f-a0da-715f76a7dff3')\"\n",
              "            title=\"Convert this dataframe to an interactive table.\"\n",
              "            style=\"display:none;\">\n",
              "\n",
              "  <svg xmlns=\"http://www.w3.org/2000/svg\" height=\"24px\" viewBox=\"0 -960 960 960\">\n",
              "    <path d=\"M120-120v-720h720v720H120Zm60-500h600v-160H180v160Zm220 220h160v-160H400v160Zm0 220h160v-160H400v160ZM180-400h160v-160H180v160Zm440 0h160v-160H620v160ZM180-180h160v-160H180v160Zm440 0h160v-160H620v160Z\"/>\n",
              "  </svg>\n",
              "    </button>\n",
              "\n",
              "  <style>\n",
              "    .colab-df-container {\n",
              "      display:flex;\n",
              "      gap: 12px;\n",
              "    }\n",
              "\n",
              "    .colab-df-convert {\n",
              "      background-color: #E8F0FE;\n",
              "      border: none;\n",
              "      border-radius: 50%;\n",
              "      cursor: pointer;\n",
              "      display: none;\n",
              "      fill: #1967D2;\n",
              "      height: 32px;\n",
              "      padding: 0 0 0 0;\n",
              "      width: 32px;\n",
              "    }\n",
              "\n",
              "    .colab-df-convert:hover {\n",
              "      background-color: #E2EBFA;\n",
              "      box-shadow: 0px 1px 2px rgba(60, 64, 67, 0.3), 0px 1px 3px 1px rgba(60, 64, 67, 0.15);\n",
              "      fill: #174EA6;\n",
              "    }\n",
              "\n",
              "    .colab-df-buttons div {\n",
              "      margin-bottom: 4px;\n",
              "    }\n",
              "\n",
              "    [theme=dark] .colab-df-convert {\n",
              "      background-color: #3B4455;\n",
              "      fill: #D2E3FC;\n",
              "    }\n",
              "\n",
              "    [theme=dark] .colab-df-convert:hover {\n",
              "      background-color: #434B5C;\n",
              "      box-shadow: 0px 1px 3px 1px rgba(0, 0, 0, 0.15);\n",
              "      filter: drop-shadow(0px 1px 2px rgba(0, 0, 0, 0.3));\n",
              "      fill: #FFFFFF;\n",
              "    }\n",
              "  </style>\n",
              "\n",
              "    <script>\n",
              "      const buttonEl =\n",
              "        document.querySelector('#df-02de1ec9-19c8-495f-a0da-715f76a7dff3 button.colab-df-convert');\n",
              "      buttonEl.style.display =\n",
              "        google.colab.kernel.accessAllowed ? 'block' : 'none';\n",
              "\n",
              "      async function convertToInteractive(key) {\n",
              "        const element = document.querySelector('#df-02de1ec9-19c8-495f-a0da-715f76a7dff3');\n",
              "        const dataTable =\n",
              "          await google.colab.kernel.invokeFunction('convertToInteractive',\n",
              "                                                    [key], {});\n",
              "        if (!dataTable) return;\n",
              "\n",
              "        const docLinkHtml = 'Like what you see? Visit the ' +\n",
              "          '<a target=\"_blank\" href=https://colab.research.google.com/notebooks/data_table.ipynb>data table notebook</a>'\n",
              "          + ' to learn more about interactive tables.';\n",
              "        element.innerHTML = '';\n",
              "        dataTable['output_type'] = 'display_data';\n",
              "        await google.colab.output.renderOutput(dataTable, element);\n",
              "        const docLink = document.createElement('div');\n",
              "        docLink.innerHTML = docLinkHtml;\n",
              "        element.appendChild(docLink);\n",
              "      }\n",
              "    </script>\n",
              "  </div>\n",
              "\n",
              "\n",
              "<div id=\"df-66f973b8-1b95-4bcb-b662-a45fa287655e\">\n",
              "  <button class=\"colab-df-quickchart\" onclick=\"quickchart('df-66f973b8-1b95-4bcb-b662-a45fa287655e')\"\n",
              "            title=\"Suggest charts\"\n",
              "            style=\"display:none;\">\n",
              "\n",
              "<svg xmlns=\"http://www.w3.org/2000/svg\" height=\"24px\"viewBox=\"0 0 24 24\"\n",
              "     width=\"24px\">\n",
              "    <g>\n",
              "        <path d=\"M19 3H5c-1.1 0-2 .9-2 2v14c0 1.1.9 2 2 2h14c1.1 0 2-.9 2-2V5c0-1.1-.9-2-2-2zM9 17H7v-7h2v7zm4 0h-2V7h2v10zm4 0h-2v-4h2v4z\"/>\n",
              "    </g>\n",
              "</svg>\n",
              "  </button>\n",
              "\n",
              "<style>\n",
              "  .colab-df-quickchart {\n",
              "      --bg-color: #E8F0FE;\n",
              "      --fill-color: #1967D2;\n",
              "      --hover-bg-color: #E2EBFA;\n",
              "      --hover-fill-color: #174EA6;\n",
              "      --disabled-fill-color: #AAA;\n",
              "      --disabled-bg-color: #DDD;\n",
              "  }\n",
              "\n",
              "  [theme=dark] .colab-df-quickchart {\n",
              "      --bg-color: #3B4455;\n",
              "      --fill-color: #D2E3FC;\n",
              "      --hover-bg-color: #434B5C;\n",
              "      --hover-fill-color: #FFFFFF;\n",
              "      --disabled-bg-color: #3B4455;\n",
              "      --disabled-fill-color: #666;\n",
              "  }\n",
              "\n",
              "  .colab-df-quickchart {\n",
              "    background-color: var(--bg-color);\n",
              "    border: none;\n",
              "    border-radius: 50%;\n",
              "    cursor: pointer;\n",
              "    display: none;\n",
              "    fill: var(--fill-color);\n",
              "    height: 32px;\n",
              "    padding: 0;\n",
              "    width: 32px;\n",
              "  }\n",
              "\n",
              "  .colab-df-quickchart:hover {\n",
              "    background-color: var(--hover-bg-color);\n",
              "    box-shadow: 0 1px 2px rgba(60, 64, 67, 0.3), 0 1px 3px 1px rgba(60, 64, 67, 0.15);\n",
              "    fill: var(--button-hover-fill-color);\n",
              "  }\n",
              "\n",
              "  .colab-df-quickchart-complete:disabled,\n",
              "  .colab-df-quickchart-complete:disabled:hover {\n",
              "    background-color: var(--disabled-bg-color);\n",
              "    fill: var(--disabled-fill-color);\n",
              "    box-shadow: none;\n",
              "  }\n",
              "\n",
              "  .colab-df-spinner {\n",
              "    border: 2px solid var(--fill-color);\n",
              "    border-color: transparent;\n",
              "    border-bottom-color: var(--fill-color);\n",
              "    animation:\n",
              "      spin 1s steps(1) infinite;\n",
              "  }\n",
              "\n",
              "  @keyframes spin {\n",
              "    0% {\n",
              "      border-color: transparent;\n",
              "      border-bottom-color: var(--fill-color);\n",
              "      border-left-color: var(--fill-color);\n",
              "    }\n",
              "    20% {\n",
              "      border-color: transparent;\n",
              "      border-left-color: var(--fill-color);\n",
              "      border-top-color: var(--fill-color);\n",
              "    }\n",
              "    30% {\n",
              "      border-color: transparent;\n",
              "      border-left-color: var(--fill-color);\n",
              "      border-top-color: var(--fill-color);\n",
              "      border-right-color: var(--fill-color);\n",
              "    }\n",
              "    40% {\n",
              "      border-color: transparent;\n",
              "      border-right-color: var(--fill-color);\n",
              "      border-top-color: var(--fill-color);\n",
              "    }\n",
              "    60% {\n",
              "      border-color: transparent;\n",
              "      border-right-color: var(--fill-color);\n",
              "    }\n",
              "    80% {\n",
              "      border-color: transparent;\n",
              "      border-right-color: var(--fill-color);\n",
              "      border-bottom-color: var(--fill-color);\n",
              "    }\n",
              "    90% {\n",
              "      border-color: transparent;\n",
              "      border-bottom-color: var(--fill-color);\n",
              "    }\n",
              "  }\n",
              "</style>\n",
              "\n",
              "  <script>\n",
              "    async function quickchart(key) {\n",
              "      const quickchartButtonEl =\n",
              "        document.querySelector('#' + key + ' button');\n",
              "      quickchartButtonEl.disabled = true;  // To prevent multiple clicks.\n",
              "      quickchartButtonEl.classList.add('colab-df-spinner');\n",
              "      try {\n",
              "        const charts = await google.colab.kernel.invokeFunction(\n",
              "            'suggestCharts', [key], {});\n",
              "      } catch (error) {\n",
              "        console.error('Error during call to suggestCharts:', error);\n",
              "      }\n",
              "      quickchartButtonEl.classList.remove('colab-df-spinner');\n",
              "      quickchartButtonEl.classList.add('colab-df-quickchart-complete');\n",
              "    }\n",
              "    (() => {\n",
              "      let quickchartButtonEl =\n",
              "        document.querySelector('#df-66f973b8-1b95-4bcb-b662-a45fa287655e button');\n",
              "      quickchartButtonEl.style.display =\n",
              "        google.colab.kernel.accessAllowed ? 'block' : 'none';\n",
              "    })();\n",
              "  </script>\n",
              "</div>\n",
              "\n",
              "    </div>\n",
              "  </div>\n"
            ],
            "application/vnd.google.colaboratory.intrinsic+json": {
              "type": "dataframe",
              "variable_name": "x",
              "summary": "{\n  \"name\": \"x\",\n  \"rows\": 1338,\n  \"fields\": [\n    {\n      \"column\": \"age\",\n      \"properties\": {\n        \"dtype\": \"number\",\n        \"std\": 14,\n        \"min\": 18,\n        \"max\": 64,\n        \"num_unique_values\": 47,\n        \"samples\": [\n          21,\n          45,\n          36\n        ],\n        \"semantic_type\": \"\",\n        \"description\": \"\"\n      }\n    },\n    {\n      \"column\": \"bmi\",\n      \"properties\": {\n        \"dtype\": \"number\",\n        \"std\": 6.098186911679014,\n        \"min\": 15.96,\n        \"max\": 53.13,\n        \"num_unique_values\": 548,\n        \"samples\": [\n          23.18,\n          26.885,\n          29.26\n        ],\n        \"semantic_type\": \"\",\n        \"description\": \"\"\n      }\n    },\n    {\n      \"column\": \"children\",\n      \"properties\": {\n        \"dtype\": \"number\",\n        \"std\": 1,\n        \"min\": 0,\n        \"max\": 5,\n        \"num_unique_values\": 6,\n        \"samples\": [\n          0,\n          1,\n          4\n        ],\n        \"semantic_type\": \"\",\n        \"description\": \"\"\n      }\n    },\n    {\n      \"column\": \"sex_female\",\n      \"properties\": {\n        \"dtype\": \"boolean\",\n        \"num_unique_values\": 2,\n        \"samples\": [\n          false,\n          true\n        ],\n        \"semantic_type\": \"\",\n        \"description\": \"\"\n      }\n    },\n    {\n      \"column\": \"sex_male\",\n      \"properties\": {\n        \"dtype\": \"boolean\",\n        \"num_unique_values\": 2,\n        \"samples\": [\n          true,\n          false\n        ],\n        \"semantic_type\": \"\",\n        \"description\": \"\"\n      }\n    },\n    {\n      \"column\": \"smoker_no\",\n      \"properties\": {\n        \"dtype\": \"boolean\",\n        \"num_unique_values\": 2,\n        \"samples\": [\n          true,\n          false\n        ],\n        \"semantic_type\": \"\",\n        \"description\": \"\"\n      }\n    },\n    {\n      \"column\": \"smoker_yes\",\n      \"properties\": {\n        \"dtype\": \"boolean\",\n        \"num_unique_values\": 2,\n        \"samples\": [\n          false,\n          true\n        ],\n        \"semantic_type\": \"\",\n        \"description\": \"\"\n      }\n    },\n    {\n      \"column\": \"region_northeast\",\n      \"properties\": {\n        \"dtype\": \"boolean\",\n        \"num_unique_values\": 2,\n        \"samples\": [\n          true,\n          false\n        ],\n        \"semantic_type\": \"\",\n        \"description\": \"\"\n      }\n    },\n    {\n      \"column\": \"region_northwest\",\n      \"properties\": {\n        \"dtype\": \"boolean\",\n        \"num_unique_values\": 2,\n        \"samples\": [\n          true,\n          false\n        ],\n        \"semantic_type\": \"\",\n        \"description\": \"\"\n      }\n    },\n    {\n      \"column\": \"region_southeast\",\n      \"properties\": {\n        \"dtype\": \"boolean\",\n        \"num_unique_values\": 2,\n        \"samples\": [\n          true,\n          false\n        ],\n        \"semantic_type\": \"\",\n        \"description\": \"\"\n      }\n    },\n    {\n      \"column\": \"region_southwest\",\n      \"properties\": {\n        \"dtype\": \"boolean\",\n        \"num_unique_values\": 2,\n        \"samples\": [\n          false,\n          true\n        ],\n        \"semantic_type\": \"\",\n        \"description\": \"\"\n      }\n    }\n  ]\n}"
            }
          },
          "metadata": {},
          "execution_count": 111
        }
      ]
    },
    {
      "cell_type": "code",
      "source": [
        "y.head()"
      ],
      "metadata": {
        "colab": {
          "base_uri": "https://localhost:8080/",
          "height": 241
        },
        "id": "8h2iQxF3KqNx",
        "outputId": "99ba9228-c028-488f-e39e-c8cf6c463267"
      },
      "execution_count": null,
      "outputs": [
        {
          "output_type": "execute_result",
          "data": {
            "text/plain": [
              "0    16884.92400\n",
              "1     1725.55230\n",
              "2     4449.46200\n",
              "3    21984.47061\n",
              "4     3866.85520\n",
              "Name: charges, dtype: float64"
            ],
            "text/html": [
              "<table border=\"1\" class=\"dataframe\">\n",
              "  <thead>\n",
              "    <tr style=\"text-align: right;\">\n",
              "      <th></th>\n",
              "      <th>charges</th>\n",
              "    </tr>\n",
              "  </thead>\n",
              "  <tbody>\n",
              "    <tr>\n",
              "      <th>0</th>\n",
              "      <td>16884.92400</td>\n",
              "    </tr>\n",
              "    <tr>\n",
              "      <th>1</th>\n",
              "      <td>1725.55230</td>\n",
              "    </tr>\n",
              "    <tr>\n",
              "      <th>2</th>\n",
              "      <td>4449.46200</td>\n",
              "    </tr>\n",
              "    <tr>\n",
              "      <th>3</th>\n",
              "      <td>21984.47061</td>\n",
              "    </tr>\n",
              "    <tr>\n",
              "      <th>4</th>\n",
              "      <td>3866.85520</td>\n",
              "    </tr>\n",
              "  </tbody>\n",
              "</table><br><label><b>dtype:</b> float64</label>"
            ]
          },
          "metadata": {},
          "execution_count": 112
        }
      ]
    },
    {
      "cell_type": "code",
      "source": [
        "# Create train and test set\n",
        "from sklearn.model_selection import train_test_split\n",
        "x_train, x_test, y_train, y_test = train_test_split(x,y, test_size=(0.2), random_state=42)\n",
        "len(x_train),len(x_test),len(y_train),len(y_test)"
      ],
      "metadata": {
        "colab": {
          "base_uri": "https://localhost:8080/"
        },
        "id": "KnFMGFBJKwkL",
        "outputId": "073b57b0-fe37-4319-c3ee-8ab53ed47921"
      },
      "execution_count": null,
      "outputs": [
        {
          "output_type": "execute_result",
          "data": {
            "text/plain": [
              "(1070, 268, 1070, 268)"
            ]
          },
          "metadata": {},
          "execution_count": 146
        }
      ]
    },
    {
      "cell_type": "code",
      "source": [
        "# converting int in to float\n",
        "x_train = tf.constant(x_train , dtype=tf.float32)\n",
        "x_test = tf.constant(x_test , dtype=tf.float32)"
      ],
      "metadata": {
        "id": "NmtnAQyrOTSO"
      },
      "execution_count": null,
      "outputs": []
    },
    {
      "cell_type": "code",
      "source": [
        "# converting int to float\n",
        "y_train = tf.constant(y_train , dtype=tf.float32)\n",
        "y_test = tf.constant(y_test,dtype=tf.float32)"
      ],
      "metadata": {
        "id": "qLGYW03yRQEF"
      },
      "execution_count": null,
      "outputs": []
    },
    {
      "cell_type": "code",
      "source": [
        "# Build a neural network\n",
        "\n",
        "# 1. Create a model\n",
        "insurance_model = tf.keras.Sequential([\n",
        "    tf.keras.layers.Dense(10),\n",
        "    tf.keras.layers.Dense(1),\n",
        "    ])\n",
        "\n",
        "# 2. Compile the model\n",
        "insurance_model.compile(loss=tf.keras.losses.mae,\n",
        "                        optimizer = tf.keras.optimizers.SGD(),\n",
        "                        metrics=[\"mae\"])\n",
        "\n",
        "# 3. Fit the model\n",
        "insurance_model.fit(x_train,y_train,epochs=100)\n"
      ],
      "metadata": {
        "colab": {
          "base_uri": "https://localhost:8080/"
        },
        "id": "MxV91u5kLhte",
        "outputId": "061b744a-9d09-432f-d26b-1652dad24a15"
      },
      "execution_count": null,
      "outputs": [
        {
          "output_type": "stream",
          "name": "stdout",
          "text": [
            "Epoch 1/100\n",
            "34/34 [==============================] - 0s 2ms/step - loss: 8753.1523 - mae: 8753.1523\n",
            "Epoch 2/100\n",
            "34/34 [==============================] - 0s 2ms/step - loss: 7875.6587 - mae: 7875.6587\n",
            "Epoch 3/100\n",
            "34/34 [==============================] - 0s 3ms/step - loss: 7558.7173 - mae: 7558.7173\n",
            "Epoch 4/100\n",
            "34/34 [==============================] - 0s 4ms/step - loss: 7544.9380 - mae: 7544.9380\n",
            "Epoch 5/100\n",
            "34/34 [==============================] - 0s 3ms/step - loss: 7746.7695 - mae: 7746.7695\n",
            "Epoch 6/100\n",
            "34/34 [==============================] - 0s 3ms/step - loss: 7650.8584 - mae: 7650.8584\n",
            "Epoch 7/100\n",
            "34/34 [==============================] - 0s 2ms/step - loss: 7588.2065 - mae: 7588.2065\n",
            "Epoch 8/100\n",
            "34/34 [==============================] - 0s 4ms/step - loss: 7739.4526 - mae: 7739.4526\n",
            "Epoch 9/100\n",
            "34/34 [==============================] - 0s 3ms/step - loss: 7613.6089 - mae: 7613.6089\n",
            "Epoch 10/100\n",
            "34/34 [==============================] - 0s 2ms/step - loss: 7744.8877 - mae: 7744.8877\n",
            "Epoch 11/100\n",
            "34/34 [==============================] - 0s 2ms/step - loss: 7581.9585 - mae: 7581.9585\n",
            "Epoch 12/100\n",
            "34/34 [==============================] - 0s 3ms/step - loss: 7536.0005 - mae: 7536.0005\n",
            "Epoch 13/100\n",
            "34/34 [==============================] - 0s 3ms/step - loss: 7675.2583 - mae: 7675.2583\n",
            "Epoch 14/100\n",
            "34/34 [==============================] - 0s 3ms/step - loss: 7662.5454 - mae: 7662.5454\n",
            "Epoch 15/100\n",
            "34/34 [==============================] - 0s 3ms/step - loss: 7404.5757 - mae: 7404.5757\n",
            "Epoch 16/100\n",
            "34/34 [==============================] - 0s 3ms/step - loss: 7774.1123 - mae: 7774.1123\n",
            "Epoch 17/100\n",
            "34/34 [==============================] - 0s 3ms/step - loss: 7455.1675 - mae: 7455.1675\n",
            "Epoch 18/100\n",
            "34/34 [==============================] - 0s 2ms/step - loss: 7800.9014 - mae: 7800.9014\n",
            "Epoch 19/100\n",
            "34/34 [==============================] - 0s 3ms/step - loss: 7731.7236 - mae: 7731.7236\n",
            "Epoch 20/100\n",
            "34/34 [==============================] - 0s 2ms/step - loss: 7941.9644 - mae: 7941.9644\n",
            "Epoch 21/100\n",
            "34/34 [==============================] - 0s 3ms/step - loss: 7522.1313 - mae: 7522.1313\n",
            "Epoch 22/100\n",
            "34/34 [==============================] - 0s 3ms/step - loss: 7828.9185 - mae: 7828.9185\n",
            "Epoch 23/100\n",
            "34/34 [==============================] - 0s 3ms/step - loss: 7658.4619 - mae: 7658.4619\n",
            "Epoch 24/100\n",
            "34/34 [==============================] - 0s 3ms/step - loss: 7559.1875 - mae: 7559.1875\n",
            "Epoch 25/100\n",
            "34/34 [==============================] - 0s 3ms/step - loss: 7559.0220 - mae: 7559.0220\n",
            "Epoch 26/100\n",
            "34/34 [==============================] - 0s 3ms/step - loss: 7603.3818 - mae: 7603.3818\n",
            "Epoch 27/100\n",
            "34/34 [==============================] - 0s 3ms/step - loss: 7688.8599 - mae: 7688.8599\n",
            "Epoch 28/100\n",
            "34/34 [==============================] - 0s 3ms/step - loss: 7445.4907 - mae: 7445.4907\n",
            "Epoch 29/100\n",
            "34/34 [==============================] - 0s 3ms/step - loss: 7694.8916 - mae: 7694.8916\n",
            "Epoch 30/100\n",
            "34/34 [==============================] - 0s 3ms/step - loss: 7747.8569 - mae: 7747.8569\n",
            "Epoch 31/100\n",
            "34/34 [==============================] - 0s 3ms/step - loss: 7504.2451 - mae: 7504.2451\n",
            "Epoch 32/100\n",
            "34/34 [==============================] - 0s 3ms/step - loss: 7224.9497 - mae: 7224.9497\n",
            "Epoch 33/100\n",
            "34/34 [==============================] - 0s 3ms/step - loss: 7485.1782 - mae: 7485.1782\n",
            "Epoch 34/100\n",
            "34/34 [==============================] - 0s 3ms/step - loss: 7522.6221 - mae: 7522.6221\n",
            "Epoch 35/100\n",
            "34/34 [==============================] - 0s 3ms/step - loss: 7542.2485 - mae: 7542.2485\n",
            "Epoch 36/100\n",
            "34/34 [==============================] - 0s 3ms/step - loss: 7580.7749 - mae: 7580.7749\n",
            "Epoch 37/100\n",
            "34/34 [==============================] - 0s 4ms/step - loss: 7695.7422 - mae: 7695.7422\n",
            "Epoch 38/100\n",
            "34/34 [==============================] - 0s 4ms/step - loss: 7547.6855 - mae: 7547.6855\n",
            "Epoch 39/100\n",
            "34/34 [==============================] - 0s 3ms/step - loss: 7522.5083 - mae: 7522.5083\n",
            "Epoch 40/100\n",
            "34/34 [==============================] - 0s 3ms/step - loss: 7554.6948 - mae: 7554.6948\n",
            "Epoch 41/100\n",
            "34/34 [==============================] - 0s 4ms/step - loss: 7727.9937 - mae: 7727.9937\n",
            "Epoch 42/100\n",
            "34/34 [==============================] - 0s 4ms/step - loss: 7398.3062 - mae: 7398.3062\n",
            "Epoch 43/100\n",
            "34/34 [==============================] - 0s 3ms/step - loss: 7608.0527 - mae: 7608.0527\n",
            "Epoch 44/100\n",
            "34/34 [==============================] - 0s 4ms/step - loss: 7412.6484 - mae: 7412.6484\n",
            "Epoch 45/100\n",
            "34/34 [==============================] - 0s 4ms/step - loss: 7491.6533 - mae: 7491.6533\n",
            "Epoch 46/100\n",
            "34/34 [==============================] - 0s 4ms/step - loss: 7457.0083 - mae: 7457.0083\n",
            "Epoch 47/100\n",
            "34/34 [==============================] - 0s 4ms/step - loss: 7391.1260 - mae: 7391.1260\n",
            "Epoch 48/100\n",
            "34/34 [==============================] - 0s 5ms/step - loss: 7496.8003 - mae: 7496.8003\n",
            "Epoch 49/100\n",
            "34/34 [==============================] - 0s 4ms/step - loss: 7540.3203 - mae: 7540.3203\n",
            "Epoch 50/100\n",
            "34/34 [==============================] - 0s 4ms/step - loss: 7487.9746 - mae: 7487.9746\n",
            "Epoch 51/100\n",
            "34/34 [==============================] - 0s 4ms/step - loss: 7384.3809 - mae: 7384.3809\n",
            "Epoch 52/100\n",
            "34/34 [==============================] - 0s 4ms/step - loss: 7358.5986 - mae: 7358.5986\n",
            "Epoch 53/100\n",
            "34/34 [==============================] - 0s 4ms/step - loss: 7680.9697 - mae: 7680.9697\n",
            "Epoch 54/100\n",
            "34/34 [==============================] - 0s 4ms/step - loss: 7253.5957 - mae: 7253.5957\n",
            "Epoch 55/100\n",
            "34/34 [==============================] - 0s 3ms/step - loss: 7292.6826 - mae: 7292.6826\n",
            "Epoch 56/100\n",
            "34/34 [==============================] - 0s 4ms/step - loss: 7195.0781 - mae: 7195.0781\n",
            "Epoch 57/100\n",
            "34/34 [==============================] - 0s 4ms/step - loss: 7492.7300 - mae: 7492.7300\n",
            "Epoch 58/100\n",
            "34/34 [==============================] - 0s 3ms/step - loss: 7317.3813 - mae: 7317.3813\n",
            "Epoch 59/100\n",
            "34/34 [==============================] - 0s 3ms/step - loss: 7365.1792 - mae: 7365.1792\n",
            "Epoch 60/100\n",
            "34/34 [==============================] - 0s 3ms/step - loss: 7444.0117 - mae: 7444.0117\n",
            "Epoch 61/100\n",
            "34/34 [==============================] - 0s 3ms/step - loss: 7323.9990 - mae: 7323.9990\n",
            "Epoch 62/100\n",
            "34/34 [==============================] - 0s 3ms/step - loss: 7548.4839 - mae: 7548.4839\n",
            "Epoch 63/100\n",
            "34/34 [==============================] - 0s 3ms/step - loss: 7371.5093 - mae: 7371.5093\n",
            "Epoch 64/100\n",
            "34/34 [==============================] - 0s 4ms/step - loss: 7295.4951 - mae: 7295.4951\n",
            "Epoch 65/100\n",
            "34/34 [==============================] - 0s 3ms/step - loss: 7454.8428 - mae: 7454.8428\n",
            "Epoch 66/100\n",
            "34/34 [==============================] - 0s 3ms/step - loss: 7387.0996 - mae: 7387.0996\n",
            "Epoch 67/100\n",
            "34/34 [==============================] - 0s 2ms/step - loss: 7364.4131 - mae: 7364.4131\n",
            "Epoch 68/100\n",
            "34/34 [==============================] - 0s 2ms/step - loss: 7455.7773 - mae: 7455.7773\n",
            "Epoch 69/100\n",
            "34/34 [==============================] - 0s 2ms/step - loss: 7561.6802 - mae: 7561.6802\n",
            "Epoch 70/100\n",
            "34/34 [==============================] - 0s 2ms/step - loss: 7568.4160 - mae: 7568.4160\n",
            "Epoch 71/100\n",
            "34/34 [==============================] - 0s 2ms/step - loss: 7264.8672 - mae: 7264.8672\n",
            "Epoch 72/100\n",
            "34/34 [==============================] - 0s 2ms/step - loss: 7378.0820 - mae: 7378.0820\n",
            "Epoch 73/100\n",
            "34/34 [==============================] - 0s 2ms/step - loss: 7352.4897 - mae: 7352.4897\n",
            "Epoch 74/100\n",
            "34/34 [==============================] - 0s 2ms/step - loss: 7435.8008 - mae: 7435.8008\n",
            "Epoch 75/100\n",
            "34/34 [==============================] - 0s 2ms/step - loss: 7237.7446 - mae: 7237.7446\n",
            "Epoch 76/100\n",
            "34/34 [==============================] - 0s 2ms/step - loss: 7093.9341 - mae: 7093.9341\n",
            "Epoch 77/100\n",
            "34/34 [==============================] - 0s 2ms/step - loss: 7612.7256 - mae: 7612.7256\n",
            "Epoch 78/100\n",
            "34/34 [==============================] - 0s 2ms/step - loss: 7063.8989 - mae: 7063.8989\n",
            "Epoch 79/100\n",
            "34/34 [==============================] - 0s 2ms/step - loss: 7650.4551 - mae: 7650.4551\n",
            "Epoch 80/100\n",
            "34/34 [==============================] - 0s 2ms/step - loss: 7372.4829 - mae: 7372.4829\n",
            "Epoch 81/100\n",
            "34/34 [==============================] - 0s 2ms/step - loss: 7241.8184 - mae: 7241.8184\n",
            "Epoch 82/100\n",
            "34/34 [==============================] - 0s 2ms/step - loss: 7266.2207 - mae: 7266.2207\n",
            "Epoch 83/100\n",
            "34/34 [==============================] - 0s 2ms/step - loss: 7448.8506 - mae: 7448.8506\n",
            "Epoch 84/100\n",
            "34/34 [==============================] - 0s 2ms/step - loss: 7223.9155 - mae: 7223.9155\n",
            "Epoch 85/100\n",
            "34/34 [==============================] - 0s 2ms/step - loss: 7436.9336 - mae: 7436.9336\n",
            "Epoch 86/100\n",
            "34/34 [==============================] - 0s 2ms/step - loss: 7550.0361 - mae: 7550.0361\n",
            "Epoch 87/100\n",
            "34/34 [==============================] - 0s 2ms/step - loss: 7213.9556 - mae: 7213.9556\n",
            "Epoch 88/100\n",
            "34/34 [==============================] - 0s 2ms/step - loss: 7260.3701 - mae: 7260.3701\n",
            "Epoch 89/100\n",
            "34/34 [==============================] - 0s 2ms/step - loss: 7364.2109 - mae: 7364.2109\n",
            "Epoch 90/100\n",
            "34/34 [==============================] - 0s 2ms/step - loss: 7038.4492 - mae: 7038.4492\n",
            "Epoch 91/100\n",
            "34/34 [==============================] - 0s 2ms/step - loss: 7217.4819 - mae: 7217.4819\n",
            "Epoch 92/100\n",
            "34/34 [==============================] - 0s 2ms/step - loss: 7280.3779 - mae: 7280.3779\n",
            "Epoch 93/100\n",
            "34/34 [==============================] - 0s 2ms/step - loss: 7557.7041 - mae: 7557.7041\n",
            "Epoch 94/100\n",
            "34/34 [==============================] - 0s 2ms/step - loss: 7326.5596 - mae: 7326.5596\n",
            "Epoch 95/100\n",
            "34/34 [==============================] - 0s 2ms/step - loss: 7411.3193 - mae: 7411.3193\n",
            "Epoch 96/100\n",
            "34/34 [==============================] - 0s 2ms/step - loss: 7190.2617 - mae: 7190.2617\n",
            "Epoch 97/100\n",
            "34/34 [==============================] - 0s 2ms/step - loss: 7180.8584 - mae: 7180.8584\n",
            "Epoch 98/100\n",
            "34/34 [==============================] - 0s 2ms/step - loss: 7416.5635 - mae: 7416.5635\n",
            "Epoch 99/100\n",
            "34/34 [==============================] - 0s 2ms/step - loss: 7249.8022 - mae: 7249.8022\n",
            "Epoch 100/100\n",
            "34/34 [==============================] - 0s 2ms/step - loss: 7120.4521 - mae: 7120.4521\n"
          ]
        },
        {
          "output_type": "execute_result",
          "data": {
            "text/plain": [
              "<keras.src.callbacks.History at 0x78027ad8e050>"
            ]
          },
          "metadata": {},
          "execution_count": 116
        }
      ]
    },
    {
      "cell_type": "code",
      "source": [
        "# evaluating model on the test data\n",
        "insurance_model.evaluate(x_test,y_test)"
      ],
      "metadata": {
        "colab": {
          "base_uri": "https://localhost:8080/"
        },
        "id": "0JC-FB2-OHJY",
        "outputId": "5eeefe93-55e9-461c-dc8d-2c3bec577959"
      },
      "execution_count": null,
      "outputs": [
        {
          "output_type": "stream",
          "name": "stdout",
          "text": [
            "9/9 [==============================] - 0s 2ms/step - loss: 7284.0708 - mae: 7284.0708\n"
          ]
        },
        {
          "output_type": "execute_result",
          "data": {
            "text/plain": [
              "[7284.07080078125, 7284.07080078125]"
            ]
          },
          "metadata": {},
          "execution_count": 117
        }
      ]
    },
    {
      "cell_type": "markdown",
      "source": [
        "#### Improve our model:\n",
        "Right now it looks like our model not performing too well, let's improve it.\n",
        "\n",
        "1. 3 dense layers, for 100 epochs.\n",
        "2. 3 dense layers, for 200 epochs with adam optimizer.\n",
        "3. 3 dense layers , for 500 epochs with Adam optimizer."
      ],
      "metadata": {
        "id": "5eBOUmIHWRJ5"
      }
    },
    {
      "cell_type": "markdown",
      "source": [
        "**`insurance_model_1`**"
      ],
      "metadata": {
        "id": "RcComMBWXjtS"
      }
    },
    {
      "cell_type": "code",
      "source": [
        "# set seed\n",
        "tf.random.set_seed(42)\n",
        "\n",
        "# 1. create a model\n",
        "insurance_model_1 = tf.keras.Sequential([\n",
        "    tf.keras.layers.Dense(100),\n",
        "    tf.keras.layers.Dense(10),\n",
        "    tf.keras.layers.Dense(1),\n",
        "])\n",
        "\n",
        "# 2. compile the model\n",
        "insurance_model_1.compile(loss=tf.keras.losses.mae,\n",
        "                           optimizer=tf.keras.optimizers.Adam(),\n",
        "                          metrics = [\"mae\"])\n",
        "\n",
        "# 3. Fit the model\n",
        "insurance_model_1.fit(x_train,y_train,epochs=100)"
      ],
      "metadata": {
        "colab": {
          "base_uri": "https://localhost:8080/"
        },
        "id": "Dk2dOBnZSgxd",
        "outputId": "3fc15c0e-48df-4f6a-8a0e-d2087c77a642"
      },
      "execution_count": null,
      "outputs": [
        {
          "output_type": "stream",
          "name": "stdout",
          "text": [
            "Epoch 1/100\n",
            "34/34 [==============================] - 1s 2ms/step - loss: 13273.8818 - mae: 13273.8818\n",
            "Epoch 2/100\n",
            "34/34 [==============================] - 0s 2ms/step - loss: 13086.4395 - mae: 13086.4395\n",
            "Epoch 3/100\n",
            "34/34 [==============================] - 0s 2ms/step - loss: 12695.5596 - mae: 12695.5596\n",
            "Epoch 4/100\n",
            "34/34 [==============================] - 0s 2ms/step - loss: 11950.1611 - mae: 11950.1611\n",
            "Epoch 5/100\n",
            "34/34 [==============================] - 0s 2ms/step - loss: 10747.1064 - mae: 10747.1064\n",
            "Epoch 6/100\n",
            "34/34 [==============================] - 0s 2ms/step - loss: 9282.7510 - mae: 9282.7510\n",
            "Epoch 7/100\n",
            "34/34 [==============================] - 0s 2ms/step - loss: 8018.2729 - mae: 8018.2729\n",
            "Epoch 8/100\n",
            "34/34 [==============================] - 0s 2ms/step - loss: 7492.8638 - mae: 7492.8638\n",
            "Epoch 9/100\n",
            "34/34 [==============================] - 0s 2ms/step - loss: 7417.8716 - mae: 7417.8716\n",
            "Epoch 10/100\n",
            "34/34 [==============================] - 0s 2ms/step - loss: 7398.5801 - mae: 7398.5801\n",
            "Epoch 11/100\n",
            "34/34 [==============================] - 0s 8ms/step - loss: 7380.1802 - mae: 7380.1802\n",
            "Epoch 12/100\n",
            "34/34 [==============================] - 0s 8ms/step - loss: 7358.1733 - mae: 7358.1733\n",
            "Epoch 13/100\n",
            "34/34 [==============================] - 0s 7ms/step - loss: 7338.0000 - mae: 7338.0000\n",
            "Epoch 14/100\n",
            "34/34 [==============================] - 0s 6ms/step - loss: 7315.6768 - mae: 7315.6768\n",
            "Epoch 15/100\n",
            "34/34 [==============================] - 0s 2ms/step - loss: 7297.2241 - mae: 7297.2241\n",
            "Epoch 16/100\n",
            "34/34 [==============================] - 0s 2ms/step - loss: 7274.9644 - mae: 7274.9644\n",
            "Epoch 17/100\n",
            "34/34 [==============================] - 0s 2ms/step - loss: 7254.3306 - mae: 7254.3306\n",
            "Epoch 18/100\n",
            "34/34 [==============================] - 0s 2ms/step - loss: 7231.2432 - mae: 7231.2432\n",
            "Epoch 19/100\n",
            "34/34 [==============================] - 0s 2ms/step - loss: 7209.0229 - mae: 7209.0229\n",
            "Epoch 20/100\n",
            "34/34 [==============================] - 0s 2ms/step - loss: 7185.5864 - mae: 7185.5864\n",
            "Epoch 21/100\n",
            "34/34 [==============================] - 0s 2ms/step - loss: 7167.2178 - mae: 7167.2178\n",
            "Epoch 22/100\n",
            "34/34 [==============================] - 0s 2ms/step - loss: 7138.5327 - mae: 7138.5327\n",
            "Epoch 23/100\n",
            "34/34 [==============================] - 0s 2ms/step - loss: 7113.5815 - mae: 7113.5815\n",
            "Epoch 24/100\n",
            "34/34 [==============================] - 0s 2ms/step - loss: 7088.3853 - mae: 7088.3853\n",
            "Epoch 25/100\n",
            "34/34 [==============================] - 0s 2ms/step - loss: 7069.9946 - mae: 7069.9946\n",
            "Epoch 26/100\n",
            "34/34 [==============================] - 0s 2ms/step - loss: 7038.1958 - mae: 7038.1958\n",
            "Epoch 27/100\n",
            "34/34 [==============================] - 0s 3ms/step - loss: 7010.0093 - mae: 7010.0093\n",
            "Epoch 28/100\n",
            "34/34 [==============================] - 0s 3ms/step - loss: 6981.8677 - mae: 6981.8677\n",
            "Epoch 29/100\n",
            "34/34 [==============================] - 0s 2ms/step - loss: 6954.2427 - mae: 6954.2427\n",
            "Epoch 30/100\n",
            "34/34 [==============================] - 0s 2ms/step - loss: 6926.2500 - mae: 6926.2500\n",
            "Epoch 31/100\n",
            "34/34 [==============================] - 0s 2ms/step - loss: 6896.1782 - mae: 6896.1782\n",
            "Epoch 32/100\n",
            "34/34 [==============================] - 0s 2ms/step - loss: 6868.1011 - mae: 6868.1011\n",
            "Epoch 33/100\n",
            "34/34 [==============================] - 0s 2ms/step - loss: 6836.9067 - mae: 6836.9067\n",
            "Epoch 34/100\n",
            "34/34 [==============================] - 0s 2ms/step - loss: 6805.1792 - mae: 6805.1792\n",
            "Epoch 35/100\n",
            "34/34 [==============================] - 0s 2ms/step - loss: 6771.6367 - mae: 6771.6367\n",
            "Epoch 36/100\n",
            "34/34 [==============================] - 0s 2ms/step - loss: 6738.0889 - mae: 6738.0889\n",
            "Epoch 37/100\n",
            "34/34 [==============================] - 0s 2ms/step - loss: 6702.5342 - mae: 6702.5342\n",
            "Epoch 38/100\n",
            "34/34 [==============================] - 0s 2ms/step - loss: 6672.2319 - mae: 6672.2319\n",
            "Epoch 39/100\n",
            "34/34 [==============================] - 0s 2ms/step - loss: 6635.9185 - mae: 6635.9185\n",
            "Epoch 40/100\n",
            "34/34 [==============================] - 0s 2ms/step - loss: 6601.5869 - mae: 6601.5869\n",
            "Epoch 41/100\n",
            "34/34 [==============================] - 0s 2ms/step - loss: 6572.0083 - mae: 6572.0083\n",
            "Epoch 42/100\n",
            "34/34 [==============================] - 0s 2ms/step - loss: 6548.8877 - mae: 6548.8877\n",
            "Epoch 43/100\n",
            "34/34 [==============================] - 0s 3ms/step - loss: 6518.6802 - mae: 6518.6802\n",
            "Epoch 44/100\n",
            "34/34 [==============================] - 0s 3ms/step - loss: 6498.5503 - mae: 6498.5503\n",
            "Epoch 45/100\n",
            "34/34 [==============================] - 0s 3ms/step - loss: 6486.4897 - mae: 6486.4897\n",
            "Epoch 46/100\n",
            "34/34 [==============================] - 0s 3ms/step - loss: 6469.4600 - mae: 6469.4600\n",
            "Epoch 47/100\n",
            "34/34 [==============================] - 0s 3ms/step - loss: 6452.5923 - mae: 6452.5923\n",
            "Epoch 48/100\n",
            "34/34 [==============================] - 0s 3ms/step - loss: 6438.6787 - mae: 6438.6787\n",
            "Epoch 49/100\n",
            "34/34 [==============================] - 0s 4ms/step - loss: 6426.5449 - mae: 6426.5449\n",
            "Epoch 50/100\n",
            "34/34 [==============================] - 0s 4ms/step - loss: 6411.7710 - mae: 6411.7710\n",
            "Epoch 51/100\n",
            "34/34 [==============================] - 0s 3ms/step - loss: 6397.4263 - mae: 6397.4263\n",
            "Epoch 52/100\n",
            "34/34 [==============================] - 0s 3ms/step - loss: 6386.4180 - mae: 6386.4180\n",
            "Epoch 53/100\n",
            "34/34 [==============================] - 0s 3ms/step - loss: 6372.3618 - mae: 6372.3618\n",
            "Epoch 54/100\n",
            "34/34 [==============================] - 0s 3ms/step - loss: 6358.6147 - mae: 6358.6147\n",
            "Epoch 55/100\n",
            "34/34 [==============================] - 0s 3ms/step - loss: 6345.2124 - mae: 6345.2124\n",
            "Epoch 56/100\n",
            "34/34 [==============================] - 0s 3ms/step - loss: 6330.7207 - mae: 6330.7207\n",
            "Epoch 57/100\n",
            "34/34 [==============================] - 0s 5ms/step - loss: 6318.0513 - mae: 6318.0513\n",
            "Epoch 58/100\n",
            "34/34 [==============================] - 0s 4ms/step - loss: 6303.6284 - mae: 6303.6284\n",
            "Epoch 59/100\n",
            "34/34 [==============================] - 0s 3ms/step - loss: 6288.9902 - mae: 6288.9902\n",
            "Epoch 60/100\n",
            "34/34 [==============================] - 0s 3ms/step - loss: 6277.9829 - mae: 6277.9829\n",
            "Epoch 61/100\n",
            "34/34 [==============================] - 0s 3ms/step - loss: 6258.3608 - mae: 6258.3608\n",
            "Epoch 62/100\n",
            "34/34 [==============================] - 0s 4ms/step - loss: 6245.9746 - mae: 6245.9746\n",
            "Epoch 63/100\n",
            "34/34 [==============================] - 0s 3ms/step - loss: 6227.3804 - mae: 6227.3804\n",
            "Epoch 64/100\n",
            "34/34 [==============================] - 0s 4ms/step - loss: 6210.2559 - mae: 6210.2559\n",
            "Epoch 65/100\n",
            "34/34 [==============================] - 0s 4ms/step - loss: 6193.2095 - mae: 6193.2095\n",
            "Epoch 66/100\n",
            "34/34 [==============================] - 0s 6ms/step - loss: 6175.8867 - mae: 6175.8867\n",
            "Epoch 67/100\n",
            "34/34 [==============================] - 0s 3ms/step - loss: 6163.1675 - mae: 6163.1675\n",
            "Epoch 68/100\n",
            "34/34 [==============================] - 0s 4ms/step - loss: 6140.1553 - mae: 6140.1553\n",
            "Epoch 69/100\n",
            "34/34 [==============================] - 0s 3ms/step - loss: 6123.9209 - mae: 6123.9209\n",
            "Epoch 70/100\n",
            "34/34 [==============================] - 0s 3ms/step - loss: 6103.4526 - mae: 6103.4526\n",
            "Epoch 71/100\n",
            "34/34 [==============================] - 0s 4ms/step - loss: 6083.4917 - mae: 6083.4917\n",
            "Epoch 72/100\n",
            "34/34 [==============================] - 0s 4ms/step - loss: 6064.7627 - mae: 6064.7627\n",
            "Epoch 73/100\n",
            "34/34 [==============================] - 0s 4ms/step - loss: 6049.6675 - mae: 6049.6675\n",
            "Epoch 74/100\n",
            "34/34 [==============================] - 0s 4ms/step - loss: 6021.5498 - mae: 6021.5498\n",
            "Epoch 75/100\n",
            "34/34 [==============================] - 0s 3ms/step - loss: 5999.7769 - mae: 5999.7769\n",
            "Epoch 76/100\n",
            "34/34 [==============================] - 0s 2ms/step - loss: 5985.4512 - mae: 5985.4512\n",
            "Epoch 77/100\n",
            "34/34 [==============================] - 0s 2ms/step - loss: 5952.4634 - mae: 5952.4634\n",
            "Epoch 78/100\n",
            "34/34 [==============================] - 0s 2ms/step - loss: 5929.0938 - mae: 5929.0938\n",
            "Epoch 79/100\n",
            "34/34 [==============================] - 0s 2ms/step - loss: 5904.0972 - mae: 5904.0972\n",
            "Epoch 80/100\n",
            "34/34 [==============================] - 0s 2ms/step - loss: 5876.4062 - mae: 5876.4062\n",
            "Epoch 81/100\n",
            "34/34 [==============================] - 0s 2ms/step - loss: 5849.9214 - mae: 5849.9214\n",
            "Epoch 82/100\n",
            "34/34 [==============================] - 0s 2ms/step - loss: 5821.3472 - mae: 5821.3472\n",
            "Epoch 83/100\n",
            "34/34 [==============================] - 0s 3ms/step - loss: 5792.6787 - mae: 5792.6787\n",
            "Epoch 84/100\n",
            "34/34 [==============================] - 0s 2ms/step - loss: 5759.1748 - mae: 5759.1748\n",
            "Epoch 85/100\n",
            "34/34 [==============================] - 0s 2ms/step - loss: 5732.8140 - mae: 5732.8140\n",
            "Epoch 86/100\n",
            "34/34 [==============================] - 0s 2ms/step - loss: 5698.1167 - mae: 5698.1167\n",
            "Epoch 87/100\n",
            "34/34 [==============================] - 0s 2ms/step - loss: 5659.6426 - mae: 5659.6426\n",
            "Epoch 88/100\n",
            "34/34 [==============================] - 0s 2ms/step - loss: 5623.9575 - mae: 5623.9575\n",
            "Epoch 89/100\n",
            "34/34 [==============================] - 0s 2ms/step - loss: 5584.9590 - mae: 5584.9590\n",
            "Epoch 90/100\n",
            "34/34 [==============================] - 0s 2ms/step - loss: 5542.9058 - mae: 5542.9058\n",
            "Epoch 91/100\n",
            "34/34 [==============================] - 0s 2ms/step - loss: 5506.1489 - mae: 5506.1489\n",
            "Epoch 92/100\n",
            "34/34 [==============================] - 0s 2ms/step - loss: 5455.7441 - mae: 5455.7441\n",
            "Epoch 93/100\n",
            "34/34 [==============================] - 0s 2ms/step - loss: 5413.7988 - mae: 5413.7988\n",
            "Epoch 94/100\n",
            "34/34 [==============================] - 0s 3ms/step - loss: 5366.7300 - mae: 5366.7300\n",
            "Epoch 95/100\n",
            "34/34 [==============================] - 0s 2ms/step - loss: 5313.0698 - mae: 5313.0698\n",
            "Epoch 96/100\n",
            "34/34 [==============================] - 0s 2ms/step - loss: 5266.4888 - mae: 5266.4888\n",
            "Epoch 97/100\n",
            "34/34 [==============================] - 0s 2ms/step - loss: 5212.5557 - mae: 5212.5557\n",
            "Epoch 98/100\n",
            "34/34 [==============================] - 0s 2ms/step - loss: 5148.8813 - mae: 5148.8813\n",
            "Epoch 99/100\n",
            "34/34 [==============================] - 0s 2ms/step - loss: 5089.3735 - mae: 5089.3735\n",
            "Epoch 100/100\n",
            "34/34 [==============================] - 0s 2ms/step - loss: 5033.8867 - mae: 5033.8867\n"
          ]
        },
        {
          "output_type": "execute_result",
          "data": {
            "text/plain": [
              "<keras.src.callbacks.History at 0x78027a98bac0>"
            ]
          },
          "metadata": {},
          "execution_count": 118
        }
      ]
    },
    {
      "cell_type": "code",
      "source": [
        "insurance_model.evaluate(x_test,y_test),\n",
        "insurance_model_1.evaluate(x_test,y_test)"
      ],
      "metadata": {
        "colab": {
          "base_uri": "https://localhost:8080/"
        },
        "id": "_7_MIabBdMkk",
        "outputId": "13cd26a4-cac1-4234-b3e6-1ace85b164a9"
      },
      "execution_count": null,
      "outputs": [
        {
          "output_type": "stream",
          "name": "stdout",
          "text": [
            "9/9 [==============================] - 0s 2ms/step - loss: 7284.0708 - mae: 7284.0708\n",
            "9/9 [==============================] - 0s 2ms/step - loss: 4898.3003 - mae: 4898.3003\n"
          ]
        },
        {
          "output_type": "execute_result",
          "data": {
            "text/plain": [
              "[4898.30029296875, 4898.30029296875]"
            ]
          },
          "metadata": {},
          "execution_count": 119
        }
      ]
    },
    {
      "cell_type": "markdown",
      "source": [
        "**`insurance_model_2`**"
      ],
      "metadata": {
        "id": "x8uIl68medG2"
      }
    },
    {
      "cell_type": "code",
      "source": [
        "# set random seed\n",
        "tf.random.set_seed(42)\n",
        "\n",
        "# 1. Create model\n",
        "insurance_model_2 = tf.keras.Sequential([\n",
        "    tf.keras.layers.Dense(100),\n",
        "    tf.keras.layers.Dense(10),\n",
        "    tf.keras.layers.Dense(1)\n",
        "])\n",
        "# 2. compile the model\n",
        "insurance_model_2.compile(loss=tf.keras.losses.mae,\n",
        "                          optimizer = tf.keras.optimizers.Adam(lr=0.1),\n",
        "                          metrics=[\"mae\"])\n",
        "\n",
        "# 3. fit the model\n",
        "history = insurance_model_2.fit(x_train,y_train,epochs=200)"
      ],
      "metadata": {
        "colab": {
          "base_uri": "https://localhost:8080/"
        },
        "id": "3w55QRZqeMDL",
        "outputId": "10667210-eea9-4660-b67d-abfd65cee8c9"
      },
      "execution_count": null,
      "outputs": [
        {
          "output_type": "stream",
          "name": "stderr",
          "text": [
            "WARNING:absl:`lr` is deprecated in Keras optimizer, please use `learning_rate` or use the legacy optimizer, e.g.,tf.keras.optimizers.legacy.Adam.\n"
          ]
        },
        {
          "output_type": "stream",
          "name": "stdout",
          "text": [
            "Epoch 1/200\n",
            "34/34 [==============================] - 1s 3ms/step - loss: 13290.2559 - mae: 13290.2559\n",
            "Epoch 2/200\n",
            "34/34 [==============================] - 0s 2ms/step - loss: 13124.4326 - mae: 13124.4326\n",
            "Epoch 3/200\n",
            "34/34 [==============================] - 0s 2ms/step - loss: 12779.7529 - mae: 12779.7529\n",
            "Epoch 4/200\n",
            "34/34 [==============================] - 0s 2ms/step - loss: 12101.3369 - mae: 12101.3369\n",
            "Epoch 5/200\n",
            "34/34 [==============================] - 0s 2ms/step - loss: 10961.8271 - mae: 10961.8271\n",
            "Epoch 6/200\n",
            "34/34 [==============================] - 0s 2ms/step - loss: 9506.2910 - mae: 9506.2910\n",
            "Epoch 7/200\n",
            "34/34 [==============================] - 0s 2ms/step - loss: 8170.2056 - mae: 8170.2056\n",
            "Epoch 8/200\n",
            "34/34 [==============================] - 0s 2ms/step - loss: 7530.3262 - mae: 7530.3262\n",
            "Epoch 9/200\n",
            "34/34 [==============================] - 0s 2ms/step - loss: 7426.3623 - mae: 7426.3623\n",
            "Epoch 10/200\n",
            "34/34 [==============================] - 0s 2ms/step - loss: 7406.1719 - mae: 7406.1719\n",
            "Epoch 11/200\n",
            "34/34 [==============================] - 0s 2ms/step - loss: 7387.5488 - mae: 7387.5488\n",
            "Epoch 12/200\n",
            "34/34 [==============================] - 0s 2ms/step - loss: 7365.7109 - mae: 7365.7109\n",
            "Epoch 13/200\n",
            "34/34 [==============================] - 0s 2ms/step - loss: 7345.3989 - mae: 7345.3989\n",
            "Epoch 14/200\n",
            "34/34 [==============================] - 0s 2ms/step - loss: 7323.1836 - mae: 7323.1836\n",
            "Epoch 15/200\n",
            "34/34 [==============================] - 0s 2ms/step - loss: 7304.4097 - mae: 7304.4097\n",
            "Epoch 16/200\n",
            "34/34 [==============================] - 0s 2ms/step - loss: 7282.0415 - mae: 7282.0415\n",
            "Epoch 17/200\n",
            "34/34 [==============================] - 0s 2ms/step - loss: 7262.0479 - mae: 7262.0479\n",
            "Epoch 18/200\n",
            "34/34 [==============================] - 0s 2ms/step - loss: 7238.9121 - mae: 7238.9121\n",
            "Epoch 19/200\n",
            "34/34 [==============================] - 0s 2ms/step - loss: 7216.6006 - mae: 7216.6006\n",
            "Epoch 20/200\n",
            "34/34 [==============================] - 0s 2ms/step - loss: 7193.1436 - mae: 7193.1436\n",
            "Epoch 21/200\n",
            "34/34 [==============================] - 0s 3ms/step - loss: 7174.3774 - mae: 7174.3774\n",
            "Epoch 22/200\n",
            "34/34 [==============================] - 0s 3ms/step - loss: 7146.8364 - mae: 7146.8364\n",
            "Epoch 23/200\n",
            "34/34 [==============================] - 0s 2ms/step - loss: 7121.9385 - mae: 7121.9385\n",
            "Epoch 24/200\n",
            "34/34 [==============================] - 0s 2ms/step - loss: 7096.6616 - mae: 7096.6616\n",
            "Epoch 25/200\n",
            "34/34 [==============================] - 0s 3ms/step - loss: 7077.9751 - mae: 7077.9751\n",
            "Epoch 26/200\n",
            "34/34 [==============================] - 0s 2ms/step - loss: 7046.7681 - mae: 7046.7681\n",
            "Epoch 27/200\n",
            "34/34 [==============================] - 0s 2ms/step - loss: 7018.1763 - mae: 7018.1763\n",
            "Epoch 28/200\n",
            "34/34 [==============================] - 0s 2ms/step - loss: 6990.0620 - mae: 6990.0620\n",
            "Epoch 29/200\n",
            "34/34 [==============================] - 0s 2ms/step - loss: 6961.9551 - mae: 6961.9551\n",
            "Epoch 30/200\n",
            "34/34 [==============================] - 0s 2ms/step - loss: 6934.1514 - mae: 6934.1514\n",
            "Epoch 31/200\n",
            "34/34 [==============================] - 0s 2ms/step - loss: 6903.4014 - mae: 6903.4014\n",
            "Epoch 32/200\n",
            "34/34 [==============================] - 0s 3ms/step - loss: 6875.3550 - mae: 6875.3550\n",
            "Epoch 33/200\n",
            "34/34 [==============================] - 0s 3ms/step - loss: 6843.7886 - mae: 6843.7886\n",
            "Epoch 34/200\n",
            "34/34 [==============================] - 0s 3ms/step - loss: 6811.9888 - mae: 6811.9888\n",
            "Epoch 35/200\n",
            "34/34 [==============================] - 0s 2ms/step - loss: 6777.7227 - mae: 6777.7227\n",
            "Epoch 36/200\n",
            "34/34 [==============================] - 0s 2ms/step - loss: 6743.5815 - mae: 6743.5815\n",
            "Epoch 37/200\n",
            "34/34 [==============================] - 0s 2ms/step - loss: 6707.0269 - mae: 6707.0269\n",
            "Epoch 38/200\n",
            "34/34 [==============================] - 0s 4ms/step - loss: 6676.4272 - mae: 6676.4272\n",
            "Epoch 39/200\n",
            "34/34 [==============================] - 0s 4ms/step - loss: 6639.0737 - mae: 6639.0737\n",
            "Epoch 40/200\n",
            "34/34 [==============================] - 0s 4ms/step - loss: 6604.1958 - mae: 6604.1958\n",
            "Epoch 41/200\n",
            "34/34 [==============================] - 0s 4ms/step - loss: 6573.3276 - mae: 6573.3276\n",
            "Epoch 42/200\n",
            "34/34 [==============================] - 0s 5ms/step - loss: 6549.9341 - mae: 6549.9341\n",
            "Epoch 43/200\n",
            "34/34 [==============================] - 0s 3ms/step - loss: 6519.5635 - mae: 6519.5635\n",
            "Epoch 44/200\n",
            "34/34 [==============================] - 0s 3ms/step - loss: 6499.8521 - mae: 6499.8521\n",
            "Epoch 45/200\n",
            "34/34 [==============================] - 0s 3ms/step - loss: 6488.6284 - mae: 6488.6284\n",
            "Epoch 46/200\n",
            "34/34 [==============================] - 0s 4ms/step - loss: 6470.7974 - mae: 6470.7974\n",
            "Epoch 47/200\n",
            "34/34 [==============================] - 0s 3ms/step - loss: 6453.5527 - mae: 6453.5527\n",
            "Epoch 48/200\n",
            "34/34 [==============================] - 0s 3ms/step - loss: 6439.3828 - mae: 6439.3828\n",
            "Epoch 49/200\n",
            "34/34 [==============================] - 0s 3ms/step - loss: 6426.9141 - mae: 6426.9141\n",
            "Epoch 50/200\n",
            "34/34 [==============================] - 0s 4ms/step - loss: 6412.5088 - mae: 6412.5088\n",
            "Epoch 51/200\n",
            "34/34 [==============================] - 0s 4ms/step - loss: 6398.3721 - mae: 6398.3721\n",
            "Epoch 52/200\n",
            "34/34 [==============================] - 0s 4ms/step - loss: 6386.8149 - mae: 6386.8149\n",
            "Epoch 53/200\n",
            "34/34 [==============================] - 0s 3ms/step - loss: 6373.1846 - mae: 6373.1846\n",
            "Epoch 54/200\n",
            "34/34 [==============================] - 0s 3ms/step - loss: 6359.7495 - mae: 6359.7495\n",
            "Epoch 55/200\n",
            "34/34 [==============================] - 0s 3ms/step - loss: 6345.9961 - mae: 6345.9961\n",
            "Epoch 56/200\n",
            "34/34 [==============================] - 0s 4ms/step - loss: 6331.3359 - mae: 6331.3359\n",
            "Epoch 57/200\n",
            "34/34 [==============================] - 0s 4ms/step - loss: 6318.8530 - mae: 6318.8530\n",
            "Epoch 58/200\n",
            "34/34 [==============================] - 0s 4ms/step - loss: 6304.2773 - mae: 6304.2773\n",
            "Epoch 59/200\n",
            "34/34 [==============================] - 0s 4ms/step - loss: 6289.4600 - mae: 6289.4600\n",
            "Epoch 60/200\n",
            "34/34 [==============================] - 0s 4ms/step - loss: 6278.6367 - mae: 6278.6367\n",
            "Epoch 61/200\n",
            "34/34 [==============================] - 0s 3ms/step - loss: 6258.7944 - mae: 6258.7944\n",
            "Epoch 62/200\n",
            "34/34 [==============================] - 0s 3ms/step - loss: 6246.8921 - mae: 6246.8921\n",
            "Epoch 63/200\n",
            "34/34 [==============================] - 0s 3ms/step - loss: 6227.4375 - mae: 6227.4375\n",
            "Epoch 64/200\n",
            "34/34 [==============================] - 0s 3ms/step - loss: 6211.1162 - mae: 6211.1162\n",
            "Epoch 65/200\n",
            "34/34 [==============================] - 0s 3ms/step - loss: 6193.8438 - mae: 6193.8438\n",
            "Epoch 66/200\n",
            "34/34 [==============================] - 0s 3ms/step - loss: 6176.4224 - mae: 6176.4224\n",
            "Epoch 67/200\n",
            "34/34 [==============================] - 0s 4ms/step - loss: 6163.6802 - mae: 6163.6802\n",
            "Epoch 68/200\n",
            "34/34 [==============================] - 0s 4ms/step - loss: 6140.7207 - mae: 6140.7207\n",
            "Epoch 69/200\n",
            "34/34 [==============================] - 0s 4ms/step - loss: 6124.5391 - mae: 6124.5391\n",
            "Epoch 70/200\n",
            "34/34 [==============================] - 0s 3ms/step - loss: 6103.9927 - mae: 6103.9927\n",
            "Epoch 71/200\n",
            "34/34 [==============================] - 0s 2ms/step - loss: 6084.1108 - mae: 6084.1108\n",
            "Epoch 72/200\n",
            "34/34 [==============================] - 0s 2ms/step - loss: 6064.1216 - mae: 6064.1216\n",
            "Epoch 73/200\n",
            "34/34 [==============================] - 0s 2ms/step - loss: 6050.3623 - mae: 6050.3623\n",
            "Epoch 74/200\n",
            "34/34 [==============================] - 0s 3ms/step - loss: 6021.7021 - mae: 6021.7021\n",
            "Epoch 75/200\n",
            "34/34 [==============================] - 0s 3ms/step - loss: 6000.6733 - mae: 6000.6733\n",
            "Epoch 76/200\n",
            "34/34 [==============================] - 0s 2ms/step - loss: 5984.8184 - mae: 5984.8184\n",
            "Epoch 77/200\n",
            "34/34 [==============================] - 0s 2ms/step - loss: 5953.0049 - mae: 5953.0049\n",
            "Epoch 78/200\n",
            "34/34 [==============================] - 0s 2ms/step - loss: 5929.4951 - mae: 5929.4951\n",
            "Epoch 79/200\n",
            "34/34 [==============================] - 0s 2ms/step - loss: 5904.7627 - mae: 5904.7627\n",
            "Epoch 80/200\n",
            "34/34 [==============================] - 0s 2ms/step - loss: 5876.7773 - mae: 5876.7773\n",
            "Epoch 81/200\n",
            "34/34 [==============================] - 0s 2ms/step - loss: 5850.9624 - mae: 5850.9624\n",
            "Epoch 82/200\n",
            "34/34 [==============================] - 0s 2ms/step - loss: 5821.9355 - mae: 5821.9355\n",
            "Epoch 83/200\n",
            "34/34 [==============================] - 0s 2ms/step - loss: 5793.5601 - mae: 5793.5601\n",
            "Epoch 84/200\n",
            "34/34 [==============================] - 0s 2ms/step - loss: 5760.1284 - mae: 5760.1284\n",
            "Epoch 85/200\n",
            "34/34 [==============================] - 0s 2ms/step - loss: 5737.0073 - mae: 5737.0073\n",
            "Epoch 86/200\n",
            "34/34 [==============================] - 0s 3ms/step - loss: 5700.6895 - mae: 5700.6895\n",
            "Epoch 87/200\n",
            "34/34 [==============================] - 0s 2ms/step - loss: 5661.5693 - mae: 5661.5693\n",
            "Epoch 88/200\n",
            "34/34 [==============================] - 0s 3ms/step - loss: 5626.5645 - mae: 5626.5645\n",
            "Epoch 89/200\n",
            "34/34 [==============================] - 0s 2ms/step - loss: 5587.0801 - mae: 5587.0801\n",
            "Epoch 90/200\n",
            "34/34 [==============================] - 0s 2ms/step - loss: 5545.3682 - mae: 5545.3682\n",
            "Epoch 91/200\n",
            "34/34 [==============================] - 0s 2ms/step - loss: 5507.5063 - mae: 5507.5063\n",
            "Epoch 92/200\n",
            "34/34 [==============================] - 0s 2ms/step - loss: 5459.0088 - mae: 5459.0088\n",
            "Epoch 93/200\n",
            "34/34 [==============================] - 0s 2ms/step - loss: 5416.3901 - mae: 5416.3901\n",
            "Epoch 94/200\n",
            "34/34 [==============================] - 0s 2ms/step - loss: 5370.5635 - mae: 5370.5635\n",
            "Epoch 95/200\n",
            "34/34 [==============================] - 0s 2ms/step - loss: 5318.4048 - mae: 5318.4048\n",
            "Epoch 96/200\n",
            "34/34 [==============================] - 0s 2ms/step - loss: 5271.9609 - mae: 5271.9609\n",
            "Epoch 97/200\n",
            "34/34 [==============================] - 0s 2ms/step - loss: 5218.0352 - mae: 5218.0352\n",
            "Epoch 98/200\n",
            "34/34 [==============================] - 0s 3ms/step - loss: 5155.6938 - mae: 5155.6938\n",
            "Epoch 99/200\n",
            "34/34 [==============================] - 0s 3ms/step - loss: 5097.2012 - mae: 5097.2012\n",
            "Epoch 100/200\n",
            "34/34 [==============================] - 0s 2ms/step - loss: 5041.4038 - mae: 5041.4038\n",
            "Epoch 101/200\n",
            "34/34 [==============================] - 0s 2ms/step - loss: 4970.3413 - mae: 4970.3413\n",
            "Epoch 102/200\n",
            "34/34 [==============================] - 0s 2ms/step - loss: 4897.9526 - mae: 4897.9526\n",
            "Epoch 103/200\n",
            "34/34 [==============================] - 0s 2ms/step - loss: 4831.2612 - mae: 4831.2612\n",
            "Epoch 104/200\n",
            "34/34 [==============================] - 0s 2ms/step - loss: 4751.8008 - mae: 4751.8008\n",
            "Epoch 105/200\n",
            "34/34 [==============================] - 0s 2ms/step - loss: 4667.1855 - mae: 4667.1855\n",
            "Epoch 106/200\n",
            "34/34 [==============================] - 0s 2ms/step - loss: 4584.6655 - mae: 4584.6655\n",
            "Epoch 107/200\n",
            "34/34 [==============================] - 0s 2ms/step - loss: 4498.2119 - mae: 4498.2119\n",
            "Epoch 108/200\n",
            "34/34 [==============================] - 0s 2ms/step - loss: 4409.9512 - mae: 4409.9512\n",
            "Epoch 109/200\n",
            "34/34 [==============================] - 0s 3ms/step - loss: 4327.1357 - mae: 4327.1357\n",
            "Epoch 110/200\n",
            "34/34 [==============================] - 0s 2ms/step - loss: 4244.5000 - mae: 4244.5000\n",
            "Epoch 111/200\n",
            "34/34 [==============================] - 0s 2ms/step - loss: 4164.9146 - mae: 4164.9146\n",
            "Epoch 112/200\n",
            "34/34 [==============================] - 0s 2ms/step - loss: 4096.2852 - mae: 4096.2852\n",
            "Epoch 113/200\n",
            "34/34 [==============================] - 0s 2ms/step - loss: 4026.0510 - mae: 4026.0510\n",
            "Epoch 114/200\n",
            "34/34 [==============================] - 0s 2ms/step - loss: 3984.4653 - mae: 3984.4653\n",
            "Epoch 115/200\n",
            "34/34 [==============================] - 0s 2ms/step - loss: 3938.6150 - mae: 3938.6150\n",
            "Epoch 116/200\n",
            "34/34 [==============================] - 0s 2ms/step - loss: 3919.0364 - mae: 3919.0364\n",
            "Epoch 117/200\n",
            "34/34 [==============================] - 0s 2ms/step - loss: 3895.8486 - mae: 3895.8486\n",
            "Epoch 118/200\n",
            "34/34 [==============================] - 0s 2ms/step - loss: 3872.4517 - mae: 3872.4517\n",
            "Epoch 119/200\n",
            "34/34 [==============================] - 0s 2ms/step - loss: 3850.6213 - mae: 3850.6213\n",
            "Epoch 120/200\n",
            "34/34 [==============================] - 0s 2ms/step - loss: 3835.2517 - mae: 3835.2517\n",
            "Epoch 121/200\n",
            "34/34 [==============================] - 0s 3ms/step - loss: 3827.5845 - mae: 3827.5845\n",
            "Epoch 122/200\n",
            "34/34 [==============================] - 0s 3ms/step - loss: 3820.9678 - mae: 3820.9678\n",
            "Epoch 123/200\n",
            "34/34 [==============================] - 0s 2ms/step - loss: 3812.3892 - mae: 3812.3892\n",
            "Epoch 124/200\n",
            "34/34 [==============================] - 0s 9ms/step - loss: 3805.6838 - mae: 3805.6838\n",
            "Epoch 125/200\n",
            "34/34 [==============================] - 0s 8ms/step - loss: 3795.1714 - mae: 3795.1714\n",
            "Epoch 126/200\n",
            "34/34 [==============================] - 0s 4ms/step - loss: 3803.4119 - mae: 3803.4119\n",
            "Epoch 127/200\n",
            "34/34 [==============================] - 0s 3ms/step - loss: 3798.0115 - mae: 3798.0115\n",
            "Epoch 128/200\n",
            "34/34 [==============================] - 0s 2ms/step - loss: 3791.6868 - mae: 3791.6868\n",
            "Epoch 129/200\n",
            "34/34 [==============================] - 0s 2ms/step - loss: 3800.5376 - mae: 3800.5376\n",
            "Epoch 130/200\n",
            "34/34 [==============================] - 0s 2ms/step - loss: 3789.2317 - mae: 3789.2317\n",
            "Epoch 131/200\n",
            "34/34 [==============================] - 0s 2ms/step - loss: 3781.1956 - mae: 3781.1956\n",
            "Epoch 132/200\n",
            "34/34 [==============================] - 0s 2ms/step - loss: 3774.7036 - mae: 3774.7036\n",
            "Epoch 133/200\n",
            "34/34 [==============================] - 0s 2ms/step - loss: 3770.9348 - mae: 3770.9348\n",
            "Epoch 134/200\n",
            "34/34 [==============================] - 0s 2ms/step - loss: 3770.1841 - mae: 3770.1841\n",
            "Epoch 135/200\n",
            "34/34 [==============================] - 0s 2ms/step - loss: 3767.1453 - mae: 3767.1453\n",
            "Epoch 136/200\n",
            "34/34 [==============================] - 0s 2ms/step - loss: 3765.8804 - mae: 3765.8804\n",
            "Epoch 137/200\n",
            "34/34 [==============================] - 0s 2ms/step - loss: 3774.2129 - mae: 3774.2129\n",
            "Epoch 138/200\n",
            "34/34 [==============================] - 0s 2ms/step - loss: 3783.7610 - mae: 3783.7610\n",
            "Epoch 139/200\n",
            "34/34 [==============================] - 0s 3ms/step - loss: 3761.2854 - mae: 3761.2854\n",
            "Epoch 140/200\n",
            "34/34 [==============================] - 0s 2ms/step - loss: 3762.5154 - mae: 3762.5154\n",
            "Epoch 141/200\n",
            "34/34 [==============================] - 0s 3ms/step - loss: 3763.6995 - mae: 3763.6995\n",
            "Epoch 142/200\n",
            "34/34 [==============================] - 0s 2ms/step - loss: 3764.6284 - mae: 3764.6284\n",
            "Epoch 143/200\n",
            "34/34 [==============================] - 0s 2ms/step - loss: 3754.7913 - mae: 3754.7913\n",
            "Epoch 144/200\n",
            "34/34 [==============================] - 0s 2ms/step - loss: 3750.6262 - mae: 3750.6262\n",
            "Epoch 145/200\n",
            "34/34 [==============================] - 0s 2ms/step - loss: 3750.8218 - mae: 3750.8218\n",
            "Epoch 146/200\n",
            "34/34 [==============================] - 0s 2ms/step - loss: 3753.6387 - mae: 3753.6387\n",
            "Epoch 147/200\n",
            "34/34 [==============================] - 0s 2ms/step - loss: 3752.4419 - mae: 3752.4419\n",
            "Epoch 148/200\n",
            "34/34 [==============================] - 0s 2ms/step - loss: 3757.9373 - mae: 3757.9373\n",
            "Epoch 149/200\n",
            "34/34 [==============================] - 0s 2ms/step - loss: 3743.6562 - mae: 3743.6562\n",
            "Epoch 150/200\n",
            "34/34 [==============================] - 0s 2ms/step - loss: 3738.6113 - mae: 3738.6113\n",
            "Epoch 151/200\n",
            "34/34 [==============================] - 0s 3ms/step - loss: 3741.8843 - mae: 3741.8843\n",
            "Epoch 152/200\n",
            "34/34 [==============================] - 0s 3ms/step - loss: 3742.4773 - mae: 3742.4773\n",
            "Epoch 153/200\n",
            "34/34 [==============================] - 0s 2ms/step - loss: 3744.3801 - mae: 3744.3801\n",
            "Epoch 154/200\n",
            "34/34 [==============================] - 0s 2ms/step - loss: 3736.7358 - mae: 3736.7358\n",
            "Epoch 155/200\n",
            "34/34 [==============================] - 0s 2ms/step - loss: 3738.0151 - mae: 3738.0151\n",
            "Epoch 156/200\n",
            "34/34 [==============================] - 0s 2ms/step - loss: 3736.6877 - mae: 3736.6877\n",
            "Epoch 157/200\n",
            "34/34 [==============================] - 0s 2ms/step - loss: 3732.8267 - mae: 3732.8267\n",
            "Epoch 158/200\n",
            "34/34 [==============================] - 0s 2ms/step - loss: 3730.1406 - mae: 3730.1406\n",
            "Epoch 159/200\n",
            "34/34 [==============================] - 0s 2ms/step - loss: 3727.6953 - mae: 3727.6953\n",
            "Epoch 160/200\n",
            "34/34 [==============================] - 0s 2ms/step - loss: 3733.5442 - mae: 3733.5442\n",
            "Epoch 161/200\n",
            "34/34 [==============================] - 0s 2ms/step - loss: 3728.2622 - mae: 3728.2622\n",
            "Epoch 162/200\n",
            "34/34 [==============================] - 0s 2ms/step - loss: 3725.8391 - mae: 3725.8391\n",
            "Epoch 163/200\n",
            "34/34 [==============================] - 0s 3ms/step - loss: 3722.7078 - mae: 3722.7078\n",
            "Epoch 164/200\n",
            "34/34 [==============================] - 0s 3ms/step - loss: 3727.5120 - mae: 3727.5120\n",
            "Epoch 165/200\n",
            "34/34 [==============================] - 0s 2ms/step - loss: 3717.5000 - mae: 3717.5000\n",
            "Epoch 166/200\n",
            "34/34 [==============================] - 0s 2ms/step - loss: 3720.6550 - mae: 3720.6550\n",
            "Epoch 167/200\n",
            "34/34 [==============================] - 0s 2ms/step - loss: 3721.7007 - mae: 3721.7007\n",
            "Epoch 168/200\n",
            "34/34 [==============================] - 0s 2ms/step - loss: 3716.3428 - mae: 3716.3428\n",
            "Epoch 169/200\n",
            "34/34 [==============================] - 0s 2ms/step - loss: 3713.9534 - mae: 3713.9534\n",
            "Epoch 170/200\n",
            "34/34 [==============================] - 0s 2ms/step - loss: 3708.5193 - mae: 3708.5193\n",
            "Epoch 171/200\n",
            "34/34 [==============================] - 0s 2ms/step - loss: 3707.6328 - mae: 3707.6328\n",
            "Epoch 172/200\n",
            "34/34 [==============================] - 0s 2ms/step - loss: 3710.3813 - mae: 3710.3813\n",
            "Epoch 173/200\n",
            "34/34 [==============================] - 0s 2ms/step - loss: 3705.9402 - mae: 3705.9402\n",
            "Epoch 174/200\n",
            "34/34 [==============================] - 0s 2ms/step - loss: 3710.4409 - mae: 3710.4409\n",
            "Epoch 175/200\n",
            "34/34 [==============================] - 0s 2ms/step - loss: 3709.8306 - mae: 3709.8306\n",
            "Epoch 176/200\n",
            "34/34 [==============================] - 0s 3ms/step - loss: 3707.3359 - mae: 3707.3359\n",
            "Epoch 177/200\n",
            "34/34 [==============================] - 0s 2ms/step - loss: 3700.1768 - mae: 3700.1768\n",
            "Epoch 178/200\n",
            "34/34 [==============================] - 0s 2ms/step - loss: 3695.7317 - mae: 3695.7317\n",
            "Epoch 179/200\n",
            "34/34 [==============================] - 0s 2ms/step - loss: 3707.5779 - mae: 3707.5779\n",
            "Epoch 180/200\n",
            "34/34 [==============================] - 0s 2ms/step - loss: 3711.7188 - mae: 3711.7188\n",
            "Epoch 181/200\n",
            "34/34 [==============================] - 0s 2ms/step - loss: 3696.8599 - mae: 3696.8599\n",
            "Epoch 182/200\n",
            "34/34 [==============================] - 0s 2ms/step - loss: 3693.5127 - mae: 3693.5127\n",
            "Epoch 183/200\n",
            "34/34 [==============================] - 0s 4ms/step - loss: 3692.4973 - mae: 3692.4973\n",
            "Epoch 184/200\n",
            "34/34 [==============================] - 0s 3ms/step - loss: 3700.6167 - mae: 3700.6167\n",
            "Epoch 185/200\n",
            "34/34 [==============================] - 0s 4ms/step - loss: 3693.7358 - mae: 3693.7358\n",
            "Epoch 186/200\n",
            "34/34 [==============================] - 0s 5ms/step - loss: 3697.2668 - mae: 3697.2668\n",
            "Epoch 187/200\n",
            "34/34 [==============================] - 0s 7ms/step - loss: 3689.3289 - mae: 3689.3289\n",
            "Epoch 188/200\n",
            "34/34 [==============================] - 0s 4ms/step - loss: 3695.7673 - mae: 3695.7673\n",
            "Epoch 189/200\n",
            "34/34 [==============================] - 0s 3ms/step - loss: 3684.9426 - mae: 3684.9426\n",
            "Epoch 190/200\n",
            "34/34 [==============================] - 0s 3ms/step - loss: 3684.4985 - mae: 3684.4985\n",
            "Epoch 191/200\n",
            "34/34 [==============================] - 0s 3ms/step - loss: 3700.9336 - mae: 3700.9336\n",
            "Epoch 192/200\n",
            "34/34 [==============================] - 0s 4ms/step - loss: 3685.5500 - mae: 3685.5500\n",
            "Epoch 193/200\n",
            "34/34 [==============================] - 0s 3ms/step - loss: 3676.3962 - mae: 3676.3962\n",
            "Epoch 194/200\n",
            "34/34 [==============================] - 0s 3ms/step - loss: 3677.5920 - mae: 3677.5920\n",
            "Epoch 195/200\n",
            "34/34 [==============================] - 0s 3ms/step - loss: 3674.3738 - mae: 3674.3738\n",
            "Epoch 196/200\n",
            "34/34 [==============================] - 0s 3ms/step - loss: 3682.3865 - mae: 3682.3865\n",
            "Epoch 197/200\n",
            "34/34 [==============================] - 0s 4ms/step - loss: 3667.4045 - mae: 3667.4045\n",
            "Epoch 198/200\n",
            "34/34 [==============================] - 0s 3ms/step - loss: 3672.8826 - mae: 3672.8826\n",
            "Epoch 199/200\n",
            "34/34 [==============================] - 0s 3ms/step - loss: 3681.8987 - mae: 3681.8987\n",
            "Epoch 200/200\n",
            "34/34 [==============================] - 0s 4ms/step - loss: 3667.8923 - mae: 3667.8923\n"
          ]
        }
      ]
    },
    {
      "cell_type": "code",
      "source": [
        "insurance_model.evaluate(x_test,y_test),\n",
        "insurance_model_1.evaluate(x_test,y_test),\n",
        "insurance_model_2.evaluate(x_test,y_test)"
      ],
      "metadata": {
        "colab": {
          "base_uri": "https://localhost:8080/"
        },
        "id": "cowFsakzi_t5",
        "outputId": "fe4a69be-9110-403b-b4f0-d07ad27c73fd"
      },
      "execution_count": null,
      "outputs": [
        {
          "output_type": "stream",
          "name": "stdout",
          "text": [
            "9/9 [==============================] - 0s 2ms/step - loss: 7284.0708 - mae: 7284.0708\n",
            "9/9 [==============================] - 0s 2ms/step - loss: 4898.3003 - mae: 4898.3003\n",
            "9/9 [==============================] - 0s 2ms/step - loss: 3493.5857 - mae: 3493.5857\n"
          ]
        },
        {
          "output_type": "execute_result",
          "data": {
            "text/plain": [
              "[3493.585693359375, 3493.585693359375]"
            ]
          },
          "metadata": {},
          "execution_count": 121
        }
      ]
    },
    {
      "cell_type": "code",
      "source": [
        "# plot history (also known as loss curve or training curve)\n",
        "pd.DataFrame(history.history).plot()\n",
        "plt.xlabel(\"epochs\")\n",
        "plt.ylabel(\"loss\")\n",
        "plt.show()"
      ],
      "metadata": {
        "colab": {
          "base_uri": "https://localhost:8080/",
          "height": 449
        },
        "id": "6ibhS-INj8kv",
        "outputId": "de5e4086-ac1f-43e9-9d46-5177b5350eeb"
      },
      "execution_count": null,
      "outputs": [
        {
          "output_type": "display_data",
          "data": {
            "text/plain": [
              "<Figure size 640x480 with 1 Axes>"
            ],
            "image/png": "[encoded data removed]"
          },
          "metadata": {}
        }
      ]
    },
    {
      "cell_type": "markdown",
      "source": [
        "🤔 **QUESTION** :  how long should you train for?\n",
        "\n",
        "it depends on the problem you're working on. but one TensorFlow method called **`EarlyStopping Callback`** , which is TensorFlow component you can add to your model to stop training once it stop improving a certain metric."
      ],
      "metadata": {
        "id": "xIpquUcySCT3"
      }
    },
    {
      "cell_type": "markdown",
      "source": [
        "### Preprocessing data (normalization and standardization)\n",
        "\n",
        "In terms of scaling values, neural network tend to prefer normlization.\n",
        "\n",
        "If you are not sure which one to use, you could try both and see which perform best."
      ],
      "metadata": {
        "id": "_k3be6NsT8XV"
      }
    },
    {
      "cell_type": "code",
      "source": [
        "import tensorflow as tf\n",
        "import numpy as np\n",
        "import matplotlib.pyplot as plt\n",
        "import pandas as pd"
      ],
      "metadata": {
        "id": "e_pODZMOb2F0"
      },
      "execution_count": null,
      "outputs": []
    },
    {
      "cell_type": "code",
      "source": [
        "x[\"bmi\"].plot(kind=\"hist\")"
      ],
      "metadata": {
        "colab": {
          "base_uri": "https://localhost:8080/",
          "height": 448
        },
        "id": "WNUjTzIwbPyr",
        "outputId": "5a1c9a09-fd57-417e-b6b5-b2055ceefc7b"
      },
      "execution_count": null,
      "outputs": [
        {
          "output_type": "execute_result",
          "data": {
            "text/plain": [
              "<Axes: ylabel='Frequency'>"
            ]
          },
          "metadata": {},
          "execution_count": 124
        },
        {
          "output_type": "display_data",
          "data": {
            "text/plain": [
              "<Figure size 640x480 with 1 Axes>"
            ],
            "image/png": "[encoded data removed]"
          },
          "metadata": {}
        }
      ]
    },
    {
      "cell_type": "code",
      "source": [
        "x[\"age\"].plot(kind=\"hist\")"
      ],
      "metadata": {
        "colab": {
          "base_uri": "https://localhost:8080/",
          "height": 448
        },
        "id": "Gxqih7XHbZHW",
        "outputId": "54961f45-df3a-48b0-9cb6-d29aae8dbf4d"
      },
      "execution_count": null,
      "outputs": [
        {
          "output_type": "execute_result",
          "data": {
            "text/plain": [
              "<Axes: ylabel='Frequency'>"
            ]
          },
          "metadata": {},
          "execution_count": 125
        },
        {
          "output_type": "display_data",
          "data": {
            "text/plain": [
              "<Figure size 640x480 with 1 Axes>"
            ],
            "image/png": "[encoded data removed]"
          },
          "metadata": {}
        }
      ]
    },
    {
      "cell_type": "code",
      "source": [
        "x[\"children\"].plot(kind=\"hist\")"
      ],
      "metadata": {
        "colab": {
          "base_uri": "https://localhost:8080/",
          "height": 452
        },
        "id": "IdNfTiZSbidi",
        "outputId": "45e26b6c-ac25-4119-8710-0fe4c389a21c"
      },
      "execution_count": null,
      "outputs": [
        {
          "output_type": "execute_result",
          "data": {
            "text/plain": [
              "<Axes: ylabel='Frequency'>"
            ]
          },
          "metadata": {},
          "execution_count": 126
        },
        {
          "output_type": "display_data",
          "data": {
            "text/plain": [
              "<Figure size 640x480 with 1 Axes>"
            ],
            "image/png": "[encoded data removed]"
          },
          "metadata": {}
        }
      ]
    },
    {
      "cell_type": "code",
      "source": [
        "insurance.head()"
      ],
      "metadata": {
        "id": "IwppySecbuLd",
        "colab": {
          "base_uri": "https://localhost:8080/",
          "height": 206
        },
        "outputId": "b870303e-ecf4-48c6-919e-e2a49f470605"
      },
      "execution_count": null,
      "outputs": [
        {
          "output_type": "execute_result",
          "data": {
            "text/plain": [
              "   age     sex     bmi  children smoker     region      charges\n",
              "0   19  female  27.900         0    yes  southwest  16884.92400\n",
              "1   18    male  33.770         1     no  southeast   1725.55230\n",
              "2   28    male  33.000         3     no  southeast   4449.46200\n",
              "3   33    male  22.705         0     no  northwest  21984.47061\n",
              "4   32    male  28.880         0     no  northwest   3866.85520"
            ],
            "text/html": [
              "\n",
              "  <div id=\"df-a90a380c-3ece-4e6f-9754-da13a27eade8\" class=\"colab-df-container\">\n",
              "    <div>\n",
              "<style scoped>\n",
              "    .dataframe tbody tr th:only-of-type {\n",
              "        vertical-align: middle;\n",
              "    }\n",
              "\n",
              "    .dataframe tbody tr th {\n",
              "        vertical-align: top;\n",
              "    }\n",
              "\n",
              "    .dataframe thead th {\n",
              "        text-align: right;\n",
              "    }\n",
              "</style>\n",
              "<table border=\"1\" class=\"dataframe\">\n",
              "  <thead>\n",
              "    <tr style=\"text-align: right;\">\n",
              "      <th></th>\n",
              "      <th>age</th>\n",
              "      <th>sex</th>\n",
              "      <th>bmi</th>\n",
              "      <th>children</th>\n",
              "      <th>smoker</th>\n",
              "      <th>region</th>\n",
              "      <th>charges</th>\n",
              "    </tr>\n",
              "  </thead>\n",
              "  <tbody>\n",
              "    <tr>\n",
              "      <th>0</th>\n",
              "      <td>19</td>\n",
              "      <td>female</td>\n",
              "      <td>27.900</td>\n",
              "      <td>0</td>\n",
              "      <td>yes</td>\n",
              "      <td>southwest</td>\n",
              "      <td>16884.92400</td>\n",
              "    </tr>\n",
              "    <tr>\n",
              "      <th>1</th>\n",
              "      <td>18</td>\n",
              "      <td>male</td>\n",
              "      <td>33.770</td>\n",
              "      <td>1</td>\n",
              "      <td>no</td>\n",
              "      <td>southeast</td>\n",
              "      <td>1725.55230</td>\n",
              "    </tr>\n",
              "    <tr>\n",
              "      <th>2</th>\n",
              "      <td>28</td>\n",
              "      <td>male</td>\n",
              "      <td>33.000</td>\n",
              "      <td>3</td>\n",
              "      <td>no</td>\n",
              "      <td>southeast</td>\n",
              "      <td>4449.46200</td>\n",
              "    </tr>\n",
              "    <tr>\n",
              "      <th>3</th>\n",
              "      <td>33</td>\n",
              "      <td>male</td>\n",
              "      <td>22.705</td>\n",
              "      <td>0</td>\n",
              "      <td>no</td>\n",
              "      <td>northwest</td>\n",
              "      <td>21984.47061</td>\n",
              "    </tr>\n",
              "    <tr>\n",
              "      <th>4</th>\n",
              "      <td>32</td>\n",
              "      <td>male</td>\n",
              "      <td>28.880</td>\n",
              "      <td>0</td>\n",
              "      <td>no</td>\n",
              "      <td>northwest</td>\n",
              "      <td>3866.85520</td>\n",
              "    </tr>\n",
              "  </tbody>\n",
              "</table>\n",
              "</div>\n",
              "    <div class=\"colab-df-buttons\">\n",
              "\n",
              "  <div class=\"colab-df-container\">\n",
              "    <button class=\"colab-df-convert\" onclick=\"convertToInteractive('df-a90a380c-3ece-4e6f-9754-da13a27eade8')\"\n",
              "            title=\"Convert this dataframe to an interactive table.\"\n",
              "            style=\"display:none;\">\n",
              "\n",
              "  <svg xmlns=\"http://www.w3.org/2000/svg\" height=\"24px\" viewBox=\"0 -960 960 960\">\n",
              "    <path d=\"M120-120v-720h720v720H120Zm60-500h600v-160H180v160Zm220 220h160v-160H400v160Zm0 220h160v-160H400v160ZM180-400h160v-160H180v160Zm440 0h160v-160H620v160ZM180-180h160v-160H180v160Zm440 0h160v-160H620v160Z\"/>\n",
              "  </svg>\n",
              "    </button>\n",
              "\n",
              "  <style>\n",
              "    .colab-df-container {\n",
              "      display:flex;\n",
              "      gap: 12px;\n",
              "    }\n",
              "\n",
              "    .colab-df-convert {\n",
              "      background-color: #E8F0FE;\n",
              "      border: none;\n",
              "      border-radius: 50%;\n",
              "      cursor: pointer;\n",
              "      display: none;\n",
              "      fill: #1967D2;\n",
              "      height: 32px;\n",
              "      padding: 0 0 0 0;\n",
              "      width: 32px;\n",
              "    }\n",
              "\n",
              "    .colab-df-convert:hover {\n",
              "      background-color: #E2EBFA;\n",
              "      box-shadow: 0px 1px 2px rgba(60, 64, 67, 0.3), 0px 1px 3px 1px rgba(60, 64, 67, 0.15);\n",
              "      fill: #174EA6;\n",
              "    }\n",
              "\n",
              "    .colab-df-buttons div {\n",
              "      margin-bottom: 4px;\n",
              "    }\n",
              "\n",
              "    [theme=dark] .colab-df-convert {\n",
              "      background-color: #3B4455;\n",
              "      fill: #D2E3FC;\n",
              "    }\n",
              "\n",
              "    [theme=dark] .colab-df-convert:hover {\n",
              "      background-color: #434B5C;\n",
              "      box-shadow: 0px 1px 3px 1px rgba(0, 0, 0, 0.15);\n",
              "      filter: drop-shadow(0px 1px 2px rgba(0, 0, 0, 0.3));\n",
              "      fill: #FFFFFF;\n",
              "    }\n",
              "  </style>\n",
              "\n",
              "    <script>\n",
              "      const buttonEl =\n",
              "        document.querySelector('#df-a90a380c-3ece-4e6f-9754-da13a27eade8 button.colab-df-convert');\n",
              "      buttonEl.style.display =\n",
              "        google.colab.kernel.accessAllowed ? 'block' : 'none';\n",
              "\n",
              "      async function convertToInteractive(key) {\n",
              "        const element = document.querySelector('#df-a90a380c-3ece-4e6f-9754-da13a27eade8');\n",
              "        const dataTable =\n",
              "          await google.colab.kernel.invokeFunction('convertToInteractive',\n",
              "                                                    [key], {});\n",
              "        if (!dataTable) return;\n",
              "\n",
              "        const docLinkHtml = 'Like what you see? Visit the ' +\n",
              "          '<a target=\"_blank\" href=https://colab.research.google.com/notebooks/data_table.ipynb>data table notebook</a>'\n",
              "          + ' to learn more about interactive tables.';\n",
              "        element.innerHTML = '';\n",
              "        dataTable['output_type'] = 'display_data';\n",
              "        await google.colab.output.renderOutput(dataTable, element);\n",
              "        const docLink = document.createElement('div');\n",
              "        docLink.innerHTML = docLinkHtml;\n",
              "        element.appendChild(docLink);\n",
              "      }\n",
              "    </script>\n",
              "  </div>\n",
              "\n",
              "\n",
              "<div id=\"df-c7a74fc1-6e3c-46e8-9cf7-89d2a647ab77\">\n",
              "  <button class=\"colab-df-quickchart\" onclick=\"quickchart('df-c7a74fc1-6e3c-46e8-9cf7-89d2a647ab77')\"\n",
              "            title=\"Suggest charts\"\n",
              "            style=\"display:none;\">\n",
              "\n",
              "<svg xmlns=\"http://www.w3.org/2000/svg\" height=\"24px\"viewBox=\"0 0 24 24\"\n",
              "     width=\"24px\">\n",
              "    <g>\n",
              "        <path d=\"M19 3H5c-1.1 0-2 .9-2 2v14c0 1.1.9 2 2 2h14c1.1 0 2-.9 2-2V5c0-1.1-.9-2-2-2zM9 17H7v-7h2v7zm4 0h-2V7h2v10zm4 0h-2v-4h2v4z\"/>\n",
              "    </g>\n",
              "</svg>\n",
              "  </button>\n",
              "\n",
              "<style>\n",
              "  .colab-df-quickchart {\n",
              "      --bg-color: #E8F0FE;\n",
              "      --fill-color: #1967D2;\n",
              "      --hover-bg-color: #E2EBFA;\n",
              "      --hover-fill-color: #174EA6;\n",
              "      --disabled-fill-color: #AAA;\n",
              "      --disabled-bg-color: #DDD;\n",
              "  }\n",
              "\n",
              "  [theme=dark] .colab-df-quickchart {\n",
              "      --bg-color: #3B4455;\n",
              "      --fill-color: #D2E3FC;\n",
              "      --hover-bg-color: #434B5C;\n",
              "      --hover-fill-color: #FFFFFF;\n",
              "      --disabled-bg-color: #3B4455;\n",
              "      --disabled-fill-color: #666;\n",
              "  }\n",
              "\n",
              "  .colab-df-quickchart {\n",
              "    background-color: var(--bg-color);\n",
              "    border: none;\n",
              "    border-radius: 50%;\n",
              "    cursor: pointer;\n",
              "    display: none;\n",
              "    fill: var(--fill-color);\n",
              "    height: 32px;\n",
              "    padding: 0;\n",
              "    width: 32px;\n",
              "  }\n",
              "\n",
              "  .colab-df-quickchart:hover {\n",
              "    background-color: var(--hover-bg-color);\n",
              "    box-shadow: 0 1px 2px rgba(60, 64, 67, 0.3), 0 1px 3px 1px rgba(60, 64, 67, 0.15);\n",
              "    fill: var(--button-hover-fill-color);\n",
              "  }\n",
              "\n",
              "  .colab-df-quickchart-complete:disabled,\n",
              "  .colab-df-quickchart-complete:disabled:hover {\n",
              "    background-color: var(--disabled-bg-color);\n",
              "    fill: var(--disabled-fill-color);\n",
              "    box-shadow: none;\n",
              "  }\n",
              "\n",
              "  .colab-df-spinner {\n",
              "    border: 2px solid var(--fill-color);\n",
              "    border-color: transparent;\n",
              "    border-bottom-color: var(--fill-color);\n",
              "    animation:\n",
              "      spin 1s steps(1) infinite;\n",
              "  }\n",
              "\n",
              "  @keyframes spin {\n",
              "    0% {\n",
              "      border-color: transparent;\n",
              "      border-bottom-color: var(--fill-color);\n",
              "      border-left-color: var(--fill-color);\n",
              "    }\n",
              "    20% {\n",
              "      border-color: transparent;\n",
              "      border-left-color: var(--fill-color);\n",
              "      border-top-color: var(--fill-color);\n",
              "    }\n",
              "    30% {\n",
              "      border-color: transparent;\n",
              "      border-left-color: var(--fill-color);\n",
              "      border-top-color: var(--fill-color);\n",
              "      border-right-color: var(--fill-color);\n",
              "    }\n",
              "    40% {\n",
              "      border-color: transparent;\n",
              "      border-right-color: var(--fill-color);\n",
              "      border-top-color: var(--fill-color);\n",
              "    }\n",
              "    60% {\n",
              "      border-color: transparent;\n",
              "      border-right-color: var(--fill-color);\n",
              "    }\n",
              "    80% {\n",
              "      border-color: transparent;\n",
              "      border-right-color: var(--fill-color);\n",
              "      border-bottom-color: var(--fill-color);\n",
              "    }\n",
              "    90% {\n",
              "      border-color: transparent;\n",
              "      border-bottom-color: var(--fill-color);\n",
              "    }\n",
              "  }\n",
              "</style>\n",
              "\n",
              "  <script>\n",
              "    async function quickchart(key) {\n",
              "      const quickchartButtonEl =\n",
              "        document.querySelector('#' + key + ' button');\n",
              "      quickchartButtonEl.disabled = true;  // To prevent multiple clicks.\n",
              "      quickchartButtonEl.classList.add('colab-df-spinner');\n",
              "      try {\n",
              "        const charts = await google.colab.kernel.invokeFunction(\n",
              "            'suggestCharts', [key], {});\n",
              "      } catch (error) {\n",
              "        console.error('Error during call to suggestCharts:', error);\n",
              "      }\n",
              "      quickchartButtonEl.classList.remove('colab-df-spinner');\n",
              "      quickchartButtonEl.classList.add('colab-df-quickchart-complete');\n",
              "    }\n",
              "    (() => {\n",
              "      let quickchartButtonEl =\n",
              "        document.querySelector('#df-c7a74fc1-6e3c-46e8-9cf7-89d2a647ab77 button');\n",
              "      quickchartButtonEl.style.display =\n",
              "        google.colab.kernel.accessAllowed ? 'block' : 'none';\n",
              "    })();\n",
              "  </script>\n",
              "</div>\n",
              "\n",
              "    </div>\n",
              "  </div>\n"
            ],
            "application/vnd.google.colaboratory.intrinsic+json": {
              "type": "dataframe",
              "variable_name": "insurance",
              "summary": "{\n  \"name\": \"insurance\",\n  \"rows\": 1338,\n  \"fields\": [\n    {\n      \"column\": \"age\",\n      \"properties\": {\n        \"dtype\": \"number\",\n        \"std\": 14,\n        \"min\": 18,\n        \"max\": 64,\n        \"num_unique_values\": 47,\n        \"samples\": [\n          21,\n          45,\n          36\n        ],\n        \"semantic_type\": \"\",\n        \"description\": \"\"\n      }\n    },\n    {\n      \"column\": \"sex\",\n      \"properties\": {\n        \"dtype\": \"category\",\n        \"num_unique_values\": 2,\n        \"samples\": [\n          \"male\",\n          \"female\"\n        ],\n        \"semantic_type\": \"\",\n        \"description\": \"\"\n      }\n    },\n    {\n      \"column\": \"bmi\",\n      \"properties\": {\n        \"dtype\": \"number\",\n        \"std\": 6.098186911679014,\n        \"min\": 15.96,\n        \"max\": 53.13,\n        \"num_unique_values\": 548,\n        \"samples\": [\n          23.18,\n          26.885\n        ],\n        \"semantic_type\": \"\",\n        \"description\": \"\"\n      }\n    },\n    {\n      \"column\": \"children\",\n      \"properties\": {\n        \"dtype\": \"number\",\n        \"std\": 1,\n        \"min\": 0,\n        \"max\": 5,\n        \"num_unique_values\": 6,\n        \"samples\": [\n          0,\n          1\n        ],\n        \"semantic_type\": \"\",\n        \"description\": \"\"\n      }\n    },\n    {\n      \"column\": \"smoker\",\n      \"properties\": {\n        \"dtype\": \"category\",\n        \"num_unique_values\": 2,\n        \"samples\": [\n          \"no\",\n          \"yes\"\n        ],\n        \"semantic_type\": \"\",\n        \"description\": \"\"\n      }\n    },\n    {\n      \"column\": \"region\",\n      \"properties\": {\n        \"dtype\": \"category\",\n        \"num_unique_values\": 4,\n        \"samples\": [\n          \"southeast\",\n          \"northeast\"\n        ],\n        \"semantic_type\": \"\",\n        \"description\": \"\"\n      }\n    },\n    {\n      \"column\": \"charges\",\n      \"properties\": {\n        \"dtype\": \"number\",\n        \"std\": 12110.011236694001,\n        \"min\": 1121.8739,\n        \"max\": 63770.42801,\n        \"num_unique_values\": 1337,\n        \"samples\": [\n          8688.85885,\n          5708.867\n        ],\n        \"semantic_type\": \"\",\n        \"description\": \"\"\n      }\n    }\n  ]\n}"
            }
          },
          "metadata": {},
          "execution_count": 127
        }
      ]
    },
    {
      "cell_type": "markdown",
      "source": [
        "TO prepare our data, we can borrow a few classes from Scikit-Learn."
      ],
      "metadata": {
        "id": "wuQOOuBRebs3"
      }
    },
    {
      "cell_type": "code",
      "source": [
        "from sklearn.compose import make_column_transformer\n",
        "from sklearn.preprocessing import MinMaxScaler,OneHotEncoder\n",
        "from sklearn.model_selection import train_test_split"
      ],
      "metadata": {
        "id": "Vz9sJVuCdtVX"
      },
      "execution_count": null,
      "outputs": []
    },
    {
      "cell_type": "code",
      "source": [
        "# create a column transformer\n",
        "ct = make_column_transformer(\n",
        "    (MinMaxScaler(),[\"age\",\"bmi\",\"children\"]), # turn these columns value between 0 and 1\n",
        "    (OneHotEncoder(handle_unknown=\"ignore\"),[\"sex\",\"smoker\",\"region\"])\n",
        ")\n",
        "# Create x & y value\n",
        "x = insurance.drop(\"charges\",axis=1)\n",
        "y = insurance[\"charges\"]\n",
        "\n",
        "# Build our train , test, and split set\n",
        "x_train,x_test,y_train,y_test = train_test_split(x,y,test_size=0.3,random_state=42)\n",
        "\n",
        "# fit the column trensformer to our training data\n",
        "ct.fit(x_train)\n",
        "\n",
        "# Transform training and test data with normlization (MinMaxScalar) and OneHotEncoder\n",
        "x_train_normal = ct.transform(x_train)\n",
        "x_test_normal = ct.transform(x_test)"
      ],
      "metadata": {
        "id": "xaSxs78Ciwbx"
      },
      "execution_count": null,
      "outputs": []
    },
    {
      "cell_type": "code",
      "source": [
        "# what does our data look like now\n",
        "x_train_normal"
      ],
      "metadata": {
        "colab": {
          "base_uri": "https://localhost:8080/"
        },
        "id": "vcOAyKyiqenk",
        "outputId": "980343bd-5d45-4251-8a4b-c025e8a19266"
      },
      "execution_count": null,
      "outputs": [
        {
          "output_type": "execute_result",
          "data": {
            "text/plain": [
              "array([[0.93478261, 0.40893193, 0.        , ..., 1.        , 0.        ,\n",
              "        0.        ],\n",
              "       [0.60869565, 0.31315577, 0.        , ..., 0.        , 0.        ,\n",
              "        1.        ],\n",
              "       [0.7826087 , 0.42884046, 0.6       , ..., 0.        , 1.        ,\n",
              "        0.        ],\n",
              "       ...,\n",
              "       [0.86956522, 0.24791499, 0.        , ..., 0.        , 0.        ,\n",
              "        0.        ],\n",
              "       [0.41304348, 0.85122411, 0.4       , ..., 0.        , 0.        ,\n",
              "        1.        ],\n",
              "       [0.80434783, 0.37503363, 0.        , ..., 0.        , 0.        ,\n",
              "        1.        ]])"
            ]
          },
          "metadata": {},
          "execution_count": 130
        }
      ]
    },
    {
      "cell_type": "code",
      "source": [
        "x_train.shape,x_train_normal.shape"
      ],
      "metadata": {
        "colab": {
          "base_uri": "https://localhost:8080/"
        },
        "id": "P3pfN-JWqm52",
        "outputId": "fc6e72cb-b172-496f-8e56-3d20b27e40d2"
      },
      "execution_count": null,
      "outputs": [
        {
          "output_type": "execute_result",
          "data": {
            "text/plain": [
              "((936, 6), (936, 11))"
            ]
          },
          "metadata": {},
          "execution_count": 131
        }
      ]
    },
    {
      "cell_type": "markdown",
      "source": [
        "Our data has been normlized and one hot encoded,let's make neural network for this data."
      ],
      "metadata": {
        "id": "Qjy0mtiEq_Yw"
      }
    },
    {
      "cell_type": "code",
      "source": [
        "# Set the random seed\n",
        "tf.random.set_seed(42)\n",
        "\n",
        "# 1. create the model\n",
        "insurance_model_3 = tf.keras.Sequential([\n",
        "    tf.keras.layers.Dense(100),\n",
        "    tf.keras.layers.Dense(10),\n",
        "    tf.keras.layers.Dense(1)\n",
        "])\n",
        "\n",
        "# 2. compile the model\n",
        "insurance_model_3.compile(loss = tf.keras.losses.mae,\n",
        "                          optimizer = tf.keras.optimizers.Adam(),\n",
        "                          metrics=[\"mae\"])\n",
        "\n",
        "# 3. fit the model\n",
        "insurance_model_3.fit(x_train_normal,y_train,epochs=100)"
      ],
      "metadata": {
        "colab": {
          "base_uri": "https://localhost:8080/"
        },
        "id": "dMRv5dfAq9Jj",
        "outputId": "b0d49b3e-81d7-44b3-ea20-b93e05840183"
      },
      "execution_count": null,
      "outputs": [
        {
          "output_type": "stream",
          "name": "stdout",
          "text": [
            "Epoch 1/100\n",
            "30/30 [==============================] - 1s 2ms/step - loss: 13377.4766 - mae: 13377.4766\n",
            "Epoch 2/100\n",
            "30/30 [==============================] - 0s 2ms/step - loss: 13371.9551 - mae: 13371.9551\n",
            "Epoch 3/100\n",
            "30/30 [==============================] - 0s 2ms/step - loss: 13359.0244 - mae: 13359.0244\n",
            "Epoch 4/100\n",
            "30/30 [==============================] - 0s 2ms/step - loss: 13331.9160 - mae: 13331.9160\n",
            "Epoch 5/100\n",
            "30/30 [==============================] - 0s 2ms/step - loss: 13283.1367 - mae: 13283.1367\n",
            "Epoch 6/100\n",
            "30/30 [==============================] - 0s 3ms/step - loss: 13205.1953 - mae: 13205.1953\n",
            "Epoch 7/100\n",
            "30/30 [==============================] - 0s 2ms/step - loss: 13090.1592 - mae: 13090.1592\n",
            "Epoch 8/100\n",
            "30/30 [==============================] - 0s 2ms/step - loss: 12930.9990 - mae: 12930.9990\n",
            "Epoch 9/100\n",
            "30/30 [==============================] - 0s 2ms/step - loss: 12720.6494 - mae: 12720.6494\n",
            "Epoch 10/100\n",
            "30/30 [==============================] - 0s 3ms/step - loss: 12452.0635 - mae: 12452.0635\n",
            "Epoch 11/100\n",
            "30/30 [==============================] - 0s 2ms/step - loss: 12120.1279 - mae: 12120.1279\n",
            "Epoch 12/100\n",
            "30/30 [==============================] - 0s 2ms/step - loss: 11728.6289 - mae: 11728.6289\n",
            "Epoch 13/100\n",
            "30/30 [==============================] - 0s 2ms/step - loss: 11296.0977 - mae: 11296.0977\n",
            "Epoch 14/100\n",
            "30/30 [==============================] - 0s 2ms/step - loss: 10854.6826 - mae: 10854.6826\n",
            "Epoch 15/100\n",
            "30/30 [==============================] - 0s 2ms/step - loss: 10419.8271 - mae: 10419.8271\n",
            "Epoch 16/100\n",
            "30/30 [==============================] - 0s 2ms/step - loss: 9984.9385 - mae: 9984.9385\n",
            "Epoch 17/100\n",
            "30/30 [==============================] - 0s 2ms/step - loss: 9566.9502 - mae: 9566.9502\n",
            "Epoch 18/100\n",
            "30/30 [==============================] - 0s 2ms/step - loss: 9198.8076 - mae: 9198.8076\n",
            "Epoch 19/100\n",
            "30/30 [==============================] - 0s 2ms/step - loss: 8882.5049 - mae: 8882.5049\n",
            "Epoch 20/100\n",
            "30/30 [==============================] - 0s 3ms/step - loss: 8620.3164 - mae: 8620.3164\n",
            "Epoch 21/100\n",
            "30/30 [==============================] - 0s 4ms/step - loss: 8409.0254 - mae: 8409.0254\n",
            "Epoch 22/100\n",
            "30/30 [==============================] - 0s 5ms/step - loss: 8268.0859 - mae: 8268.0859\n",
            "Epoch 23/100\n",
            "30/30 [==============================] - 0s 4ms/step - loss: 8149.1997 - mae: 8149.1997\n",
            "Epoch 24/100\n",
            "30/30 [==============================] - 0s 3ms/step - loss: 8071.1582 - mae: 8071.1582\n",
            "Epoch 25/100\n",
            "30/30 [==============================] - 0s 4ms/step - loss: 8008.4478 - mae: 8008.4478\n",
            "Epoch 26/100\n",
            "30/30 [==============================] - 0s 3ms/step - loss: 7956.5298 - mae: 7956.5298\n",
            "Epoch 27/100\n",
            "30/30 [==============================] - 0s 3ms/step - loss: 7911.2275 - mae: 7911.2275\n",
            "Epoch 28/100\n",
            "30/30 [==============================] - 0s 3ms/step - loss: 7866.8232 - mae: 7866.8232\n",
            "Epoch 29/100\n",
            "30/30 [==============================] - 0s 3ms/step - loss: 7823.8364 - mae: 7823.8364\n",
            "Epoch 30/100\n",
            "30/30 [==============================] - 0s 3ms/step - loss: 7783.7725 - mae: 7783.7725\n",
            "Epoch 31/100\n",
            "30/30 [==============================] - 0s 3ms/step - loss: 7745.2651 - mae: 7745.2651\n",
            "Epoch 32/100\n",
            "30/30 [==============================] - 0s 3ms/step - loss: 7706.1226 - mae: 7706.1226\n",
            "Epoch 33/100\n",
            "30/30 [==============================] - 0s 3ms/step - loss: 7670.8647 - mae: 7670.8647\n",
            "Epoch 34/100\n",
            "30/30 [==============================] - 0s 3ms/step - loss: 7627.8491 - mae: 7627.8491\n",
            "Epoch 35/100\n",
            "30/30 [==============================] - 0s 3ms/step - loss: 7589.1143 - mae: 7589.1143\n",
            "Epoch 36/100\n",
            "30/30 [==============================] - 0s 3ms/step - loss: 7548.9351 - mae: 7548.9351\n",
            "Epoch 37/100\n",
            "30/30 [==============================] - 0s 4ms/step - loss: 7509.5742 - mae: 7509.5742\n",
            "Epoch 38/100\n",
            "30/30 [==============================] - 0s 4ms/step - loss: 7466.9302 - mae: 7466.9302\n",
            "Epoch 39/100\n",
            "30/30 [==============================] - 0s 4ms/step - loss: 7423.8984 - mae: 7423.8984\n",
            "Epoch 40/100\n",
            "30/30 [==============================] - 0s 4ms/step - loss: 7380.2383 - mae: 7380.2383\n",
            "Epoch 41/100\n",
            "30/30 [==============================] - 0s 3ms/step - loss: 7336.3628 - mae: 7336.3628\n",
            "Epoch 42/100\n",
            "30/30 [==============================] - 0s 3ms/step - loss: 7288.9561 - mae: 7288.9561\n",
            "Epoch 43/100\n",
            "30/30 [==============================] - 0s 3ms/step - loss: 7243.0669 - mae: 7243.0669\n",
            "Epoch 44/100\n",
            "30/30 [==============================] - 0s 3ms/step - loss: 7195.0669 - mae: 7195.0669\n",
            "Epoch 45/100\n",
            "30/30 [==============================] - 0s 3ms/step - loss: 7147.0034 - mae: 7147.0034\n",
            "Epoch 46/100\n",
            "30/30 [==============================] - 0s 4ms/step - loss: 7096.4277 - mae: 7096.4277\n",
            "Epoch 47/100\n",
            "30/30 [==============================] - 0s 6ms/step - loss: 7045.3037 - mae: 7045.3037\n",
            "Epoch 48/100\n",
            "30/30 [==============================] - 0s 9ms/step - loss: 6992.4985 - mae: 6992.4985\n",
            "Epoch 49/100\n",
            "30/30 [==============================] - 0s 8ms/step - loss: 6937.5576 - mae: 6937.5576\n",
            "Epoch 50/100\n",
            "30/30 [==============================] - 0s 14ms/step - loss: 6881.3052 - mae: 6881.3052\n",
            "Epoch 51/100\n",
            "30/30 [==============================] - 0s 7ms/step - loss: 6820.8193 - mae: 6820.8193\n",
            "Epoch 52/100\n",
            "30/30 [==============================] - 0s 8ms/step - loss: 6758.9849 - mae: 6758.9849\n",
            "Epoch 53/100\n",
            "30/30 [==============================] - 0s 5ms/step - loss: 6695.0474 - mae: 6695.0474\n",
            "Epoch 54/100\n",
            "30/30 [==============================] - 0s 8ms/step - loss: 6626.5635 - mae: 6626.5635\n",
            "Epoch 55/100\n",
            "30/30 [==============================] - 0s 5ms/step - loss: 6559.8804 - mae: 6559.8804\n",
            "Epoch 56/100\n",
            "30/30 [==============================] - 0s 3ms/step - loss: 6487.4263 - mae: 6487.4263\n",
            "Epoch 57/100\n",
            "30/30 [==============================] - 0s 5ms/step - loss: 6412.0015 - mae: 6412.0015\n",
            "Epoch 58/100\n",
            "30/30 [==============================] - 0s 4ms/step - loss: 6336.7422 - mae: 6336.7422\n",
            "Epoch 59/100\n",
            "30/30 [==============================] - 0s 5ms/step - loss: 6257.1919 - mae: 6257.1919\n",
            "Epoch 60/100\n",
            "30/30 [==============================] - 0s 6ms/step - loss: 6174.2866 - mae: 6174.2866\n",
            "Epoch 61/100\n",
            "30/30 [==============================] - 0s 6ms/step - loss: 6086.1338 - mae: 6086.1338\n",
            "Epoch 62/100\n",
            "30/30 [==============================] - 0s 4ms/step - loss: 5996.7954 - mae: 5996.7954\n",
            "Epoch 63/100\n",
            "30/30 [==============================] - 0s 3ms/step - loss: 5899.1030 - mae: 5899.1030\n",
            "Epoch 64/100\n",
            "30/30 [==============================] - 0s 5ms/step - loss: 5799.6567 - mae: 5799.6567\n",
            "Epoch 65/100\n",
            "30/30 [==============================] - 0s 7ms/step - loss: 5699.8774 - mae: 5699.8774\n",
            "Epoch 66/100\n",
            "30/30 [==============================] - 0s 4ms/step - loss: 5593.9595 - mae: 5593.9595\n",
            "Epoch 67/100\n",
            "30/30 [==============================] - 0s 4ms/step - loss: 5488.3306 - mae: 5488.3306\n",
            "Epoch 68/100\n",
            "30/30 [==============================] - 0s 3ms/step - loss: 5379.8838 - mae: 5379.8838\n",
            "Epoch 69/100\n",
            "30/30 [==============================] - 0s 4ms/step - loss: 5266.9336 - mae: 5266.9336\n",
            "Epoch 70/100\n",
            "30/30 [==============================] - 0s 5ms/step - loss: 5149.2769 - mae: 5149.2769\n",
            "Epoch 71/100\n",
            "30/30 [==============================] - 0s 4ms/step - loss: 5035.1768 - mae: 5035.1768\n",
            "Epoch 72/100\n",
            "30/30 [==============================] - 0s 5ms/step - loss: 4912.2876 - mae: 4912.2876\n",
            "Epoch 73/100\n",
            "30/30 [==============================] - 0s 6ms/step - loss: 4790.2886 - mae: 4790.2886\n",
            "Epoch 74/100\n",
            "30/30 [==============================] - 0s 3ms/step - loss: 4672.7612 - mae: 4672.7612\n",
            "Epoch 75/100\n",
            "30/30 [==============================] - 0s 4ms/step - loss: 4558.9707 - mae: 4558.9707\n",
            "Epoch 76/100\n",
            "30/30 [==============================] - 0s 6ms/step - loss: 4456.5459 - mae: 4456.5459\n",
            "Epoch 77/100\n",
            "30/30 [==============================] - 0s 5ms/step - loss: 4356.3999 - mae: 4356.3999\n",
            "Epoch 78/100\n",
            "30/30 [==============================] - 0s 4ms/step - loss: 4264.1909 - mae: 4264.1909\n",
            "Epoch 79/100\n",
            "30/30 [==============================] - 0s 3ms/step - loss: 4173.5576 - mae: 4173.5576\n",
            "Epoch 80/100\n",
            "30/30 [==============================] - 0s 6ms/step - loss: 4088.4619 - mae: 4088.4619\n",
            "Epoch 81/100\n",
            "30/30 [==============================] - 0s 5ms/step - loss: 4012.2075 - mae: 4012.2075\n",
            "Epoch 82/100\n",
            "30/30 [==============================] - 0s 4ms/step - loss: 3949.7993 - mae: 3949.7993\n",
            "Epoch 83/100\n",
            "30/30 [==============================] - 0s 4ms/step - loss: 3891.8416 - mae: 3891.8416\n",
            "Epoch 84/100\n",
            "30/30 [==============================] - 0s 4ms/step - loss: 3844.8757 - mae: 3844.8757\n",
            "Epoch 85/100\n",
            "30/30 [==============================] - 0s 5ms/step - loss: 3806.7661 - mae: 3806.7661\n",
            "Epoch 86/100\n",
            "30/30 [==============================] - 0s 3ms/step - loss: 3777.1401 - mae: 3777.1401\n",
            "Epoch 87/100\n",
            "30/30 [==============================] - 0s 6ms/step - loss: 3755.8933 - mae: 3755.8933\n",
            "Epoch 88/100\n",
            "30/30 [==============================] - 0s 3ms/step - loss: 3738.5857 - mae: 3738.5857\n",
            "Epoch 89/100\n",
            "30/30 [==============================] - 0s 5ms/step - loss: 3724.2549 - mae: 3724.2549\n",
            "Epoch 90/100\n",
            "30/30 [==============================] - 0s 3ms/step - loss: 3713.7407 - mae: 3713.7407\n",
            "Epoch 91/100\n",
            "30/30 [==============================] - 0s 2ms/step - loss: 3705.3218 - mae: 3705.3218\n",
            "Epoch 92/100\n",
            "30/30 [==============================] - 0s 2ms/step - loss: 3700.7166 - mae: 3700.7166\n",
            "Epoch 93/100\n",
            "30/30 [==============================] - 0s 3ms/step - loss: 3697.2576 - mae: 3697.2576\n",
            "Epoch 94/100\n",
            "30/30 [==============================] - 0s 3ms/step - loss: 3692.9973 - mae: 3692.9973\n",
            "Epoch 95/100\n",
            "30/30 [==============================] - 0s 2ms/step - loss: 3690.6355 - mae: 3690.6355\n",
            "Epoch 96/100\n",
            "30/30 [==============================] - 0s 2ms/step - loss: 3687.9604 - mae: 3687.9604\n",
            "Epoch 97/100\n",
            "30/30 [==============================] - 0s 3ms/step - loss: 3687.1572 - mae: 3687.1572\n",
            "Epoch 98/100\n",
            "30/30 [==============================] - 0s 2ms/step - loss: 3685.0264 - mae: 3685.0264\n",
            "Epoch 99/100\n",
            "30/30 [==============================] - 0s 3ms/step - loss: 3682.0247 - mae: 3682.0247\n",
            "Epoch 100/100\n",
            "30/30 [==============================] - 0s 2ms/step - loss: 3679.0967 - mae: 3679.0967\n"
          ]
        },
        {
          "output_type": "execute_result",
          "data": {
            "text/plain": [
              "<keras.src.callbacks.History at 0x780280a63970>"
            ]
          },
          "metadata": {},
          "execution_count": 132
        }
      ]
    },
    {
      "cell_type": "code",
      "source": [
        "# Evalute the model\n",
        "insurance_model_3.evaluate(x_test_normal,y_test)"
      ],
      "metadata": {
        "colab": {
          "base_uri": "https://localhost:8080/"
        },
        "id": "1DqBHQBptA_e",
        "outputId": "0bd1686f-d64b-4cbe-f486-56af1640f743"
      },
      "execution_count": null,
      "outputs": [
        {
          "output_type": "stream",
          "name": "stdout",
          "text": [
            "13/13 [==============================] - 0s 2ms/step - loss: 3504.6921 - mae: 3504.6921\n"
          ]
        },
        {
          "output_type": "execute_result",
          "data": {
            "text/plain": [
              "[3504.692138671875, 3504.692138671875]"
            ]
          },
          "metadata": {},
          "execution_count": 133
        }
      ]
    },
    {
      "cell_type": "code",
      "source": [
        "insurance_model.evaluate(x_test,y_test),\n",
        "insurance_model_1.evaluate(x_test,y_test),\n",
        "insurance_model_2.evaluate(x_test,y_test)"
      ],
      "metadata": {
        "colab": {
          "base_uri": "https://localhost:8080/"
        },
        "id": "YtYszZdut4yC",
        "outputId": "c779e9d5-cbe8-45fe-f54e-75f9d5726927"
      },
      "execution_count": null,
      "outputs": [
        {
          "output_type": "stream",
          "name": "stdout",
          "text": [
            "9/9 [==============================] - 0s 5ms/step - loss: 7284.0708 - mae: 7284.0708\n",
            "9/9 [==============================] - 0s 8ms/step - loss: 4898.3003 - mae: 4898.3003\n",
            "9/9 [==============================] - 0s 3ms/step - loss: 3493.5857 - mae: 3493.5857\n"
          ]
        },
        {
          "output_type": "execute_result",
          "data": {
            "text/plain": [
              "[3493.585693359375, 3493.585693359375]"
            ]
          },
          "metadata": {},
          "execution_count": 151
        }
      ]
    },
    {
      "cell_type": "code",
      "source": [],
      "metadata": {
        "id": "xhNY3TbouNFM"
      },
      "execution_count": null,
      "outputs": []
    }
  ]
}